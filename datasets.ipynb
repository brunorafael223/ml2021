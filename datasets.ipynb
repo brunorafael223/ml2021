{
 "cells": [
  {
   "cell_type": "markdown",
   "source": [
    "# Datasets\n",
    "---"
   ],
   "metadata": {}
  },
  {
   "cell_type": "code",
   "execution_count": 1,
   "source": [
    "from src.datasets import LFW, UTKFace\n",
    "from ipywidgets import interact"
   ],
   "outputs": [],
   "metadata": {}
  },
  {
   "cell_type": "markdown",
   "source": [
    "## LFW\n",
    "---"
   ],
   "metadata": {}
  },
  {
   "cell_type": "code",
   "execution_count": 2,
   "source": [
    "dataset = LFW(root=\"../datasets/LFW/\",is_train=True)\n",
    "w = interact(dataset.show, index=(0, len(dataset)-1))"
   ],
   "outputs": [
    {
     "output_type": "display_data",
     "data": {
      "text/plain": [
       "interactive(children=(IntSlider(value=5292, description='index', max=10585), Checkbox(value=False, description…"
      ],
      "application/vnd.jupyter.widget-view+json": {
       "version_major": 2,
       "version_minor": 0,
       "model_id": "d68e294048194d24bedba40930509121"
      }
     },
     "metadata": {}
    }
   ],
   "metadata": {}
  },
  {
   "cell_type": "code",
   "execution_count": 4,
   "source": [
    "dataset[0]"
   ],
   "outputs": [
    {
     "output_type": "execute_result",
     "data": {
      "text/plain": [
       "{'image': <PIL.Image.Image image mode=RGB size=250x250 at 0x7F40CF647310>,\n",
       " 'pose': array([-0.2089082 ,  0.41936618,  2.8917789 ]),\n",
       " 'rect': array([ 71.,  70., 109., 109.]),\n",
       " 'landmarks': array([[ 95.88442, 117.70264],\n",
       "        [112.50291, 116.0167 ],\n",
       "        [137.79193, 112.40399],\n",
       "        [156.81891, 110.71805],\n",
       "        [112.02122, 161.77778],\n",
       "        [146.94415, 154.7932 ],\n",
       "        [123.34107, 151.42133],\n",
       "        [126.71293, 169.72576],\n",
       "        [111.05783, 141.86063],\n",
       "        [136.58769, 137.93385]])}"
      ]
     },
     "metadata": {},
     "execution_count": 4
    }
   ],
   "metadata": {}
  },
  {
   "cell_type": "markdown",
   "source": [
    "## UTKFace\n",
    "---"
   ],
   "metadata": {}
  },
  {
   "cell_type": "code",
   "execution_count": 5,
   "source": [
    "dataset = UTKFace(is_train=True)\n",
    "w = interact(dataset.show, index=(0, len(dataset)-1))"
   ],
   "outputs": [
    {
     "output_type": "display_data",
     "data": {
      "text/plain": [
       "interactive(children=(IntSlider(value=5922, description='index', max=11845), Output()), _dom_classes=('widget-…"
      ],
      "application/vnd.jupyter.widget-view+json": {
       "model_id": "1e69a586f6a34f9ab62701de19a2fdea",
       "version_major": 2,
       "version_minor": 0
      }
     },
     "metadata": {}
    }
   ],
   "metadata": {}
  },
  {
   "cell_type": "code",
   "execution_count": 6,
   "source": [
    "dataset[0]"
   ],
   "outputs": [
    {
     "output_type": "execute_result",
     "data": {
      "text/plain": [
       "{'image': <PIL.Image.Image image mode=RGB size=200x200 at 0x7F40D04944D0>,\n",
       " 'gender': 0,\n",
       " 'age': array([1.]),\n",
       " 'race': 0}"
      ]
     },
     "metadata": {},
     "execution_count": 6
    }
   ],
   "metadata": {}
  },
  {
   "cell_type": "code",
   "execution_count": 38,
   "source": [
    "a = [1,2,3]\n",
    "a = torch.tensor(a).view(1,3,1,1)\n",
    "a.shape"
   ],
   "outputs": [
    {
     "output_type": "execute_result",
     "data": {
      "text/plain": [
       "torch.Size([1, 3, 1, 1])"
      ]
     },
     "metadata": {},
     "execution_count": 38
    }
   ],
   "metadata": {}
  },
  {
   "cell_type": "code",
   "execution_count": 49,
   "source": [
    "import torch\n",
    "ar = torch.ones((2,3,224,224))*a"
   ],
   "outputs": [],
   "metadata": {}
  },
  {
   "cell_type": "code",
   "execution_count": 54,
   "source": [
    "ar[2,0]"
   ],
   "outputs": [
    {
     "output_type": "error",
     "ename": "IndexError",
     "evalue": "index 2 is out of bounds for dimension 0 with size 2",
     "traceback": [
      "\u001b[0;31m---------------------------------------------------------------------------\u001b[0m",
      "\u001b[0;31mIndexError\u001b[0m                                Traceback (most recent call last)",
      "\u001b[0;32m<ipython-input-54-95f45b65dea8>\u001b[0m in \u001b[0;36m<module>\u001b[0;34m\u001b[0m\n\u001b[0;32m----> 1\u001b[0;31m \u001b[0mar\u001b[0m\u001b[0;34m[\u001b[0m\u001b[0;36m2\u001b[0m\u001b[0;34m,\u001b[0m\u001b[0;36m0\u001b[0m\u001b[0;34m]\u001b[0m\u001b[0;34m\u001b[0m\u001b[0;34m\u001b[0m\u001b[0m\n\u001b[0m",
      "\u001b[0;31mIndexError\u001b[0m: index 2 is out of bounds for dimension 0 with size 2"
     ]
    }
   ],
   "metadata": {}
  },
  {
   "cell_type": "code",
   "execution_count": 18,
   "source": [
    "import os, os.path as osp\n",
    "filepath = osp.join(\"../datasets/LFW/\", f\"LFW-Poses.txt\")"
   ],
   "outputs": [],
   "metadata": {}
  },
  {
   "cell_type": "code",
   "execution_count": 33,
   "source": [
    "import pandas as pd\n",
    "\n",
    "def read_pose_file(filepath):\n",
    "    with open(filepath,'r') as f:\n",
    "        data = f.readlines()\n",
    "    data_list = []\n",
    "    for d in data:\n",
    "        line = d.replace(\"\\n\",\"\").split(\"  \")[1:]\n",
    "        data_list.append(list(map(float,line)))\n",
    "    return data_list\n",
    "\n",
    "data_list = read_pose_file(filepath)\n",
    "df = pd.DataFrame(data_list)\n",
    "df.columns = [\"alpha\",\"beta\",\"gamma\",\"tx\",\"ty\",\"tz\"]\n",
    "display(df.describe())\n",
    "# df.beta.hist()\n",
    "# df.values[:,2].max()\n",
    "import numpy as np\n",
    "\n",
    "lg = df.gamma < 0\n",
    "print(lg)\n",
    "df[\"gamma\"] += lg*(2*np.pi)\n",
    "display(df.describe())\n"
   ],
   "outputs": [
    {
     "output_type": "display_data",
     "data": {
      "text/plain": [
       "              alpha          beta         gamma             tx             ty  \\\n",
       "count  13233.000000  13233.000000  13233.000000   13233.000000   13233.000000   \n",
       "mean      -0.025246      0.112883      1.485298  183806.729438  205132.195622   \n",
       "std        0.136194      0.221565      2.546096   18407.534620   16037.784761   \n",
       "min       -0.704252     -0.836755     -3.141563   84627.828000  133773.950000   \n",
       "25%       -0.112754     -0.030210      2.522239  172944.770000  195015.120000   \n",
       "50%       -0.022965      0.111036      2.877444  184638.340000  205203.110000   \n",
       "75%        0.063300      0.252175      3.003705  195692.840000  215244.000000   \n",
       "max        0.546047      1.047944      3.141563  295566.590000  305516.380000   \n",
       "\n",
       "                 tz  \n",
       "count  1.323300e+04  \n",
       "mean   1.475830e+06  \n",
       "std    1.275709e+05  \n",
       "min    7.817593e+05  \n",
       "25%    1.399828e+06  \n",
       "50%    1.477768e+06  \n",
       "75%    1.554820e+06  \n",
       "max    2.408638e+06  "
      ],
      "text/html": [
       "<div>\n",
       "<style scoped>\n",
       "    .dataframe tbody tr th:only-of-type {\n",
       "        vertical-align: middle;\n",
       "    }\n",
       "\n",
       "    .dataframe tbody tr th {\n",
       "        vertical-align: top;\n",
       "    }\n",
       "\n",
       "    .dataframe thead th {\n",
       "        text-align: right;\n",
       "    }\n",
       "</style>\n",
       "<table border=\"1\" class=\"dataframe\">\n",
       "  <thead>\n",
       "    <tr style=\"text-align: right;\">\n",
       "      <th></th>\n",
       "      <th>alpha</th>\n",
       "      <th>beta</th>\n",
       "      <th>gamma</th>\n",
       "      <th>tx</th>\n",
       "      <th>ty</th>\n",
       "      <th>tz</th>\n",
       "    </tr>\n",
       "  </thead>\n",
       "  <tbody>\n",
       "    <tr>\n",
       "      <th>count</th>\n",
       "      <td>13233.000000</td>\n",
       "      <td>13233.000000</td>\n",
       "      <td>13233.000000</td>\n",
       "      <td>13233.000000</td>\n",
       "      <td>13233.000000</td>\n",
       "      <td>1.323300e+04</td>\n",
       "    </tr>\n",
       "    <tr>\n",
       "      <th>mean</th>\n",
       "      <td>-0.025246</td>\n",
       "      <td>0.112883</td>\n",
       "      <td>1.485298</td>\n",
       "      <td>183806.729438</td>\n",
       "      <td>205132.195622</td>\n",
       "      <td>1.475830e+06</td>\n",
       "    </tr>\n",
       "    <tr>\n",
       "      <th>std</th>\n",
       "      <td>0.136194</td>\n",
       "      <td>0.221565</td>\n",
       "      <td>2.546096</td>\n",
       "      <td>18407.534620</td>\n",
       "      <td>16037.784761</td>\n",
       "      <td>1.275709e+05</td>\n",
       "    </tr>\n",
       "    <tr>\n",
       "      <th>min</th>\n",
       "      <td>-0.704252</td>\n",
       "      <td>-0.836755</td>\n",
       "      <td>-3.141563</td>\n",
       "      <td>84627.828000</td>\n",
       "      <td>133773.950000</td>\n",
       "      <td>7.817593e+05</td>\n",
       "    </tr>\n",
       "    <tr>\n",
       "      <th>25%</th>\n",
       "      <td>-0.112754</td>\n",
       "      <td>-0.030210</td>\n",
       "      <td>2.522239</td>\n",
       "      <td>172944.770000</td>\n",
       "      <td>195015.120000</td>\n",
       "      <td>1.399828e+06</td>\n",
       "    </tr>\n",
       "    <tr>\n",
       "      <th>50%</th>\n",
       "      <td>-0.022965</td>\n",
       "      <td>0.111036</td>\n",
       "      <td>2.877444</td>\n",
       "      <td>184638.340000</td>\n",
       "      <td>205203.110000</td>\n",
       "      <td>1.477768e+06</td>\n",
       "    </tr>\n",
       "    <tr>\n",
       "      <th>75%</th>\n",
       "      <td>0.063300</td>\n",
       "      <td>0.252175</td>\n",
       "      <td>3.003705</td>\n",
       "      <td>195692.840000</td>\n",
       "      <td>215244.000000</td>\n",
       "      <td>1.554820e+06</td>\n",
       "    </tr>\n",
       "    <tr>\n",
       "      <th>max</th>\n",
       "      <td>0.546047</td>\n",
       "      <td>1.047944</td>\n",
       "      <td>3.141563</td>\n",
       "      <td>295566.590000</td>\n",
       "      <td>305516.380000</td>\n",
       "      <td>2.408638e+06</td>\n",
       "    </tr>\n",
       "  </tbody>\n",
       "</table>\n",
       "</div>"
      ]
     },
     "metadata": {}
    },
    {
     "output_type": "stream",
     "name": "stdout",
     "text": [
      "0        False\n",
      "1        False\n",
      "2         True\n",
      "3        False\n",
      "4        False\n",
      "         ...  \n",
      "13228     True\n",
      "13229    False\n",
      "13230    False\n",
      "13231     True\n",
      "13232    False\n",
      "Name: gamma, Length: 13233, dtype: bool\n"
     ]
    },
    {
     "output_type": "display_data",
     "data": {
      "text/plain": [
       "              alpha          beta         gamma             tx             ty  \\\n",
       "count  13233.000000  13233.000000  13233.000000   13233.000000   13233.000000   \n",
       "mean      -0.025246      0.112883      3.006120  183806.729438  205132.195622   \n",
       "std        0.136194      0.221565      0.201890   18407.534620   16037.784761   \n",
       "min       -0.704252     -0.836755      2.212874   84627.828000  133773.950000   \n",
       "25%       -0.112754     -0.030210      2.872561  172944.770000  195015.120000   \n",
       "50%       -0.022965      0.111036      3.000091  184638.340000  205203.110000   \n",
       "75%        0.063300      0.252175      3.136525  195692.840000  215244.000000   \n",
       "max        0.546047      1.047944      3.967958  295566.590000  305516.380000   \n",
       "\n",
       "                 tz  \n",
       "count  1.323300e+04  \n",
       "mean   1.475830e+06  \n",
       "std    1.275709e+05  \n",
       "min    7.817593e+05  \n",
       "25%    1.399828e+06  \n",
       "50%    1.477768e+06  \n",
       "75%    1.554820e+06  \n",
       "max    2.408638e+06  "
      ],
      "text/html": [
       "<div>\n",
       "<style scoped>\n",
       "    .dataframe tbody tr th:only-of-type {\n",
       "        vertical-align: middle;\n",
       "    }\n",
       "\n",
       "    .dataframe tbody tr th {\n",
       "        vertical-align: top;\n",
       "    }\n",
       "\n",
       "    .dataframe thead th {\n",
       "        text-align: right;\n",
       "    }\n",
       "</style>\n",
       "<table border=\"1\" class=\"dataframe\">\n",
       "  <thead>\n",
       "    <tr style=\"text-align: right;\">\n",
       "      <th></th>\n",
       "      <th>alpha</th>\n",
       "      <th>beta</th>\n",
       "      <th>gamma</th>\n",
       "      <th>tx</th>\n",
       "      <th>ty</th>\n",
       "      <th>tz</th>\n",
       "    </tr>\n",
       "  </thead>\n",
       "  <tbody>\n",
       "    <tr>\n",
       "      <th>count</th>\n",
       "      <td>13233.000000</td>\n",
       "      <td>13233.000000</td>\n",
       "      <td>13233.000000</td>\n",
       "      <td>13233.000000</td>\n",
       "      <td>13233.000000</td>\n",
       "      <td>1.323300e+04</td>\n",
       "    </tr>\n",
       "    <tr>\n",
       "      <th>mean</th>\n",
       "      <td>-0.025246</td>\n",
       "      <td>0.112883</td>\n",
       "      <td>3.006120</td>\n",
       "      <td>183806.729438</td>\n",
       "      <td>205132.195622</td>\n",
       "      <td>1.475830e+06</td>\n",
       "    </tr>\n",
       "    <tr>\n",
       "      <th>std</th>\n",
       "      <td>0.136194</td>\n",
       "      <td>0.221565</td>\n",
       "      <td>0.201890</td>\n",
       "      <td>18407.534620</td>\n",
       "      <td>16037.784761</td>\n",
       "      <td>1.275709e+05</td>\n",
       "    </tr>\n",
       "    <tr>\n",
       "      <th>min</th>\n",
       "      <td>-0.704252</td>\n",
       "      <td>-0.836755</td>\n",
       "      <td>2.212874</td>\n",
       "      <td>84627.828000</td>\n",
       "      <td>133773.950000</td>\n",
       "      <td>7.817593e+05</td>\n",
       "    </tr>\n",
       "    <tr>\n",
       "      <th>25%</th>\n",
       "      <td>-0.112754</td>\n",
       "      <td>-0.030210</td>\n",
       "      <td>2.872561</td>\n",
       "      <td>172944.770000</td>\n",
       "      <td>195015.120000</td>\n",
       "      <td>1.399828e+06</td>\n",
       "    </tr>\n",
       "    <tr>\n",
       "      <th>50%</th>\n",
       "      <td>-0.022965</td>\n",
       "      <td>0.111036</td>\n",
       "      <td>3.000091</td>\n",
       "      <td>184638.340000</td>\n",
       "      <td>205203.110000</td>\n",
       "      <td>1.477768e+06</td>\n",
       "    </tr>\n",
       "    <tr>\n",
       "      <th>75%</th>\n",
       "      <td>0.063300</td>\n",
       "      <td>0.252175</td>\n",
       "      <td>3.136525</td>\n",
       "      <td>195692.840000</td>\n",
       "      <td>215244.000000</td>\n",
       "      <td>1.554820e+06</td>\n",
       "    </tr>\n",
       "    <tr>\n",
       "      <th>max</th>\n",
       "      <td>0.546047</td>\n",
       "      <td>1.047944</td>\n",
       "      <td>3.967958</td>\n",
       "      <td>295566.590000</td>\n",
       "      <td>305516.380000</td>\n",
       "      <td>2.408638e+06</td>\n",
       "    </tr>\n",
       "  </tbody>\n",
       "</table>\n",
       "</div>"
      ]
     },
     "metadata": {}
    }
   ],
   "metadata": {}
  },
  {
   "cell_type": "code",
   "execution_count": 34,
   "source": [
    "aset=df.iloc[:10586]\n",
    "bset=df.iloc[10586:]\n",
    "display(aset.describe())\n",
    "display(bset.describe())\n",
    "\n",
    "import matplotlib.pyplot as plt\n",
    "ax = aset.hist()\n",
    "b = bset.hist()\n",
    "plt.show()\n"
   ],
   "outputs": [
    {
     "output_type": "display_data",
     "data": {
      "text/plain": [
       "              alpha          beta         gamma             tx             ty  \\\n",
       "count  10586.000000  10586.000000  10586.000000   10586.000000   10586.000000   \n",
       "mean      -0.024779      0.112143      3.005536  183697.198310  205006.061065   \n",
       "std        0.137187      0.222260      0.201762   18389.644058   15987.243559   \n",
       "min       -0.704252     -0.836755      2.311735   84627.828000  133773.950000   \n",
       "25%       -0.113073     -0.030785      2.871368  172856.260000  194916.985000   \n",
       "50%       -0.022872      0.110743      2.998511  184570.095000  205033.210000   \n",
       "75%        0.064392      0.253062      3.134984  195629.637500  215137.050000   \n",
       "max        0.546047      1.047944      3.967958  295566.590000  284256.720000   \n",
       "\n",
       "                 tz  \n",
       "count  1.058600e+04  \n",
       "mean   1.474446e+06  \n",
       "std    1.264757e+05  \n",
       "min    7.817593e+05  \n",
       "25%    1.398652e+06  \n",
       "50%    1.476136e+06  \n",
       "75%    1.553089e+06  \n",
       "max    2.257882e+06  "
      ],
      "text/html": [
       "<div>\n",
       "<style scoped>\n",
       "    .dataframe tbody tr th:only-of-type {\n",
       "        vertical-align: middle;\n",
       "    }\n",
       "\n",
       "    .dataframe tbody tr th {\n",
       "        vertical-align: top;\n",
       "    }\n",
       "\n",
       "    .dataframe thead th {\n",
       "        text-align: right;\n",
       "    }\n",
       "</style>\n",
       "<table border=\"1\" class=\"dataframe\">\n",
       "  <thead>\n",
       "    <tr style=\"text-align: right;\">\n",
       "      <th></th>\n",
       "      <th>alpha</th>\n",
       "      <th>beta</th>\n",
       "      <th>gamma</th>\n",
       "      <th>tx</th>\n",
       "      <th>ty</th>\n",
       "      <th>tz</th>\n",
       "    </tr>\n",
       "  </thead>\n",
       "  <tbody>\n",
       "    <tr>\n",
       "      <th>count</th>\n",
       "      <td>10586.000000</td>\n",
       "      <td>10586.000000</td>\n",
       "      <td>10586.000000</td>\n",
       "      <td>10586.000000</td>\n",
       "      <td>10586.000000</td>\n",
       "      <td>1.058600e+04</td>\n",
       "    </tr>\n",
       "    <tr>\n",
       "      <th>mean</th>\n",
       "      <td>-0.024779</td>\n",
       "      <td>0.112143</td>\n",
       "      <td>3.005536</td>\n",
       "      <td>183697.198310</td>\n",
       "      <td>205006.061065</td>\n",
       "      <td>1.474446e+06</td>\n",
       "    </tr>\n",
       "    <tr>\n",
       "      <th>std</th>\n",
       "      <td>0.137187</td>\n",
       "      <td>0.222260</td>\n",
       "      <td>0.201762</td>\n",
       "      <td>18389.644058</td>\n",
       "      <td>15987.243559</td>\n",
       "      <td>1.264757e+05</td>\n",
       "    </tr>\n",
       "    <tr>\n",
       "      <th>min</th>\n",
       "      <td>-0.704252</td>\n",
       "      <td>-0.836755</td>\n",
       "      <td>2.311735</td>\n",
       "      <td>84627.828000</td>\n",
       "      <td>133773.950000</td>\n",
       "      <td>7.817593e+05</td>\n",
       "    </tr>\n",
       "    <tr>\n",
       "      <th>25%</th>\n",
       "      <td>-0.113073</td>\n",
       "      <td>-0.030785</td>\n",
       "      <td>2.871368</td>\n",
       "      <td>172856.260000</td>\n",
       "      <td>194916.985000</td>\n",
       "      <td>1.398652e+06</td>\n",
       "    </tr>\n",
       "    <tr>\n",
       "      <th>50%</th>\n",
       "      <td>-0.022872</td>\n",
       "      <td>0.110743</td>\n",
       "      <td>2.998511</td>\n",
       "      <td>184570.095000</td>\n",
       "      <td>205033.210000</td>\n",
       "      <td>1.476136e+06</td>\n",
       "    </tr>\n",
       "    <tr>\n",
       "      <th>75%</th>\n",
       "      <td>0.064392</td>\n",
       "      <td>0.253062</td>\n",
       "      <td>3.134984</td>\n",
       "      <td>195629.637500</td>\n",
       "      <td>215137.050000</td>\n",
       "      <td>1.553089e+06</td>\n",
       "    </tr>\n",
       "    <tr>\n",
       "      <th>max</th>\n",
       "      <td>0.546047</td>\n",
       "      <td>1.047944</td>\n",
       "      <td>3.967958</td>\n",
       "      <td>295566.590000</td>\n",
       "      <td>284256.720000</td>\n",
       "      <td>2.257882e+06</td>\n",
       "    </tr>\n",
       "  </tbody>\n",
       "</table>\n",
       "</div>"
      ]
     },
     "metadata": {}
    },
    {
     "output_type": "display_data",
     "data": {
      "text/plain": [
       "             alpha         beta        gamma             tx             ty  \\\n",
       "count  2647.000000  2647.000000  2647.000000    2647.000000    2647.000000   \n",
       "mean     -0.027110     0.115841     3.008454  184244.771191  205636.638549   \n",
       "std       0.132157     0.218779     0.202422   18475.902532   16231.589026   \n",
       "min      -0.624545    -0.720520     2.212874   94303.633000  138687.560000   \n",
       "25%      -0.110576    -0.027780     2.878015  173158.805000  195434.600000   \n",
       "50%      -0.023536     0.112652     3.004265  185007.810000  205874.440000   \n",
       "75%       0.057904     0.250659     3.142685  195814.380000  215773.835000   \n",
       "max       0.492886     0.946079     3.660480  294689.440000  305516.380000   \n",
       "\n",
       "                 tz  \n",
       "count  2.647000e+03  \n",
       "mean   1.481366e+06  \n",
       "std    1.317390e+05  \n",
       "min    8.066865e+05  \n",
       "25%    1.404583e+06  \n",
       "50%    1.485025e+06  \n",
       "75%    1.563308e+06  \n",
       "max    2.408638e+06  "
      ],
      "text/html": [
       "<div>\n",
       "<style scoped>\n",
       "    .dataframe tbody tr th:only-of-type {\n",
       "        vertical-align: middle;\n",
       "    }\n",
       "\n",
       "    .dataframe tbody tr th {\n",
       "        vertical-align: top;\n",
       "    }\n",
       "\n",
       "    .dataframe thead th {\n",
       "        text-align: right;\n",
       "    }\n",
       "</style>\n",
       "<table border=\"1\" class=\"dataframe\">\n",
       "  <thead>\n",
       "    <tr style=\"text-align: right;\">\n",
       "      <th></th>\n",
       "      <th>alpha</th>\n",
       "      <th>beta</th>\n",
       "      <th>gamma</th>\n",
       "      <th>tx</th>\n",
       "      <th>ty</th>\n",
       "      <th>tz</th>\n",
       "    </tr>\n",
       "  </thead>\n",
       "  <tbody>\n",
       "    <tr>\n",
       "      <th>count</th>\n",
       "      <td>2647.000000</td>\n",
       "      <td>2647.000000</td>\n",
       "      <td>2647.000000</td>\n",
       "      <td>2647.000000</td>\n",
       "      <td>2647.000000</td>\n",
       "      <td>2.647000e+03</td>\n",
       "    </tr>\n",
       "    <tr>\n",
       "      <th>mean</th>\n",
       "      <td>-0.027110</td>\n",
       "      <td>0.115841</td>\n",
       "      <td>3.008454</td>\n",
       "      <td>184244.771191</td>\n",
       "      <td>205636.638549</td>\n",
       "      <td>1.481366e+06</td>\n",
       "    </tr>\n",
       "    <tr>\n",
       "      <th>std</th>\n",
       "      <td>0.132157</td>\n",
       "      <td>0.218779</td>\n",
       "      <td>0.202422</td>\n",
       "      <td>18475.902532</td>\n",
       "      <td>16231.589026</td>\n",
       "      <td>1.317390e+05</td>\n",
       "    </tr>\n",
       "    <tr>\n",
       "      <th>min</th>\n",
       "      <td>-0.624545</td>\n",
       "      <td>-0.720520</td>\n",
       "      <td>2.212874</td>\n",
       "      <td>94303.633000</td>\n",
       "      <td>138687.560000</td>\n",
       "      <td>8.066865e+05</td>\n",
       "    </tr>\n",
       "    <tr>\n",
       "      <th>25%</th>\n",
       "      <td>-0.110576</td>\n",
       "      <td>-0.027780</td>\n",
       "      <td>2.878015</td>\n",
       "      <td>173158.805000</td>\n",
       "      <td>195434.600000</td>\n",
       "      <td>1.404583e+06</td>\n",
       "    </tr>\n",
       "    <tr>\n",
       "      <th>50%</th>\n",
       "      <td>-0.023536</td>\n",
       "      <td>0.112652</td>\n",
       "      <td>3.004265</td>\n",
       "      <td>185007.810000</td>\n",
       "      <td>205874.440000</td>\n",
       "      <td>1.485025e+06</td>\n",
       "    </tr>\n",
       "    <tr>\n",
       "      <th>75%</th>\n",
       "      <td>0.057904</td>\n",
       "      <td>0.250659</td>\n",
       "      <td>3.142685</td>\n",
       "      <td>195814.380000</td>\n",
       "      <td>215773.835000</td>\n",
       "      <td>1.563308e+06</td>\n",
       "    </tr>\n",
       "    <tr>\n",
       "      <th>max</th>\n",
       "      <td>0.492886</td>\n",
       "      <td>0.946079</td>\n",
       "      <td>3.660480</td>\n",
       "      <td>294689.440000</td>\n",
       "      <td>305516.380000</td>\n",
       "      <td>2.408638e+06</td>\n",
       "    </tr>\n",
       "  </tbody>\n",
       "</table>\n",
       "</div>"
      ]
     },
     "metadata": {}
    },
    {
     "output_type": "stream",
     "name": "stderr",
     "text": [
      "/opt/anaconda3/envs/hothov31/lib/python3.7/site-packages/pandas/plotting/_matplotlib/tools.py:331: MatplotlibDeprecationWarning: \n",
      "The is_first_col function was deprecated in Matplotlib 3.4 and will be removed two minor releases later. Use ax.get_subplotspec().is_first_col() instead.\n",
      "  if ax.is_first_col():\n"
     ]
    },
    {
     "output_type": "display_data",
     "data": {
      "text/plain": [
       "<Figure size 432x288 with 6 Axes>"
      ],
      "image/svg+xml": "<?xml version=\"1.0\" encoding=\"utf-8\" standalone=\"no\"?>\n<!DOCTYPE svg PUBLIC \"-//W3C//DTD SVG 1.1//EN\"\n  \"http://www.w3.org/Graphics/SVG/1.1/DTD/svg11.dtd\">\n<svg height=\"276.314375pt\" version=\"1.1\" viewBox=\"0 0 396.90219 276.314375\" width=\"396.90219pt\" xmlns=\"http://www.w3.org/2000/svg\" xmlns:xlink=\"http://www.w3.org/1999/xlink\">\n <metadata>\n  <rdf:RDF xmlns:cc=\"http://creativecommons.org/ns#\" xmlns:dc=\"http://purl.org/dc/elements/1.1/\" xmlns:rdf=\"http://www.w3.org/1999/02/22-rdf-syntax-ns#\">\n   <cc:Work>\n    <dc:type rdf:resource=\"http://purl.org/dc/dcmitype/StillImage\"/>\n    <dc:date>2021-09-02T22:15:55.059294</dc:date>\n    <dc:format>image/svg+xml</dc:format>\n    <dc:creator>\n     <cc:Agent>\n      <dc:title>Matplotlib v3.4.1, https://matplotlib.org/</dc:title>\n     </cc:Agent>\n    </dc:creator>\n   </cc:Work>\n  </rdf:RDF>\n </metadata>\n <defs>\n  <style type=\"text/css\">*{stroke-linecap:butt;stroke-linejoin:round;}</style>\n </defs>\n <g id=\"figure_1\">\n  <g id=\"patch_1\">\n   <path d=\"M -0 276.314375 \nL 396.90219 276.314375 \nL 396.90219 0 \nL -0 0 \nz\n\" style=\"fill:none;\"/>\n  </g>\n  <g id=\"axes_1\">\n   <g id=\"patch_2\">\n    <path d=\"M 39.65 82.718125 \nL 185.215217 82.718125 \nL 185.215217 22.318125 \nL 39.65 22.318125 \nz\n\" style=\"fill:#ffffff;\"/>\n   </g>\n   <g id=\"patch_3\">\n    <path clip-path=\"url(#pb0e9dd59ff)\" d=\"M 46.266601 82.718125 \nL 59.499802 82.718125 \nL 59.499802 82.688603 \nL 46.266601 82.688603 \nz\n\" style=\"fill:#1f77b4;\"/>\n   </g>\n   <g id=\"patch_4\">\n    <path clip-path=\"url(#pb0e9dd59ff)\" d=\"M 59.499802 82.718125 \nL 72.733004 82.718125 \nL 72.733004 82.408143 \nL 59.499802 82.408143 \nz\n\" style=\"fill:#1f77b4;\"/>\n   </g>\n   <g id=\"patch_5\">\n    <path clip-path=\"url(#pb0e9dd59ff)\" d=\"M 72.733004 82.718125 \nL 85.966206 82.718125 \nL 85.966206 80.725383 \nL 72.733004 80.725383 \nz\n\" style=\"fill:#1f77b4;\"/>\n   </g>\n   <g id=\"patch_6\">\n    <path clip-path=\"url(#pb0e9dd59ff)\" d=\"M 85.966206 82.718125 \nL 99.199407 82.718125 \nL 99.199407 70.082667 \nL 85.966206 70.082667 \nz\n\" style=\"fill:#1f77b4;\"/>\n   </g>\n   <g id=\"patch_7\">\n    <path clip-path=\"url(#pb0e9dd59ff)\" d=\"M 99.199407 82.718125 \nL 112.432609 82.718125 \nL 112.432609 45.490758 \nL 99.199407 45.490758 \nz\n\" style=\"fill:#1f77b4;\"/>\n   </g>\n   <g id=\"patch_8\">\n    <path clip-path=\"url(#pb0e9dd59ff)\" d=\"M 112.432609 82.718125 \nL 125.66581 82.718125 \nL 125.66581 25.194315 \nL 112.432609 25.194315 \nz\n\" style=\"fill:#1f77b4;\"/>\n   </g>\n   <g id=\"patch_9\">\n    <path clip-path=\"url(#pb0e9dd59ff)\" d=\"M 125.66581 82.718125 \nL 138.899012 82.718125 \nL 138.899012 47.601588 \nL 125.66581 47.601588 \nz\n\" style=\"fill:#1f77b4;\"/>\n   </g>\n   <g id=\"patch_10\">\n    <path clip-path=\"url(#pb0e9dd59ff)\" d=\"M 138.899012 82.718125 \nL 152.132213 82.718125 \nL 152.132213 73.034877 \nL 138.899012 73.034877 \nz\n\" style=\"fill:#1f77b4;\"/>\n   </g>\n   <g id=\"patch_11\">\n    <path clip-path=\"url(#pb0e9dd59ff)\" d=\"M 152.132213 82.718125 \nL 165.365415 82.718125 \nL 165.365415 81.138693 \nL 152.132213 81.138693 \nz\n\" style=\"fill:#1f77b4;\"/>\n   </g>\n   <g id=\"patch_12\">\n    <path clip-path=\"url(#pb0e9dd59ff)\" d=\"M 165.365415 82.718125 \nL 178.598617 82.718125 \nL 178.598617 82.555753 \nL 165.365415 82.555753 \nz\n\" style=\"fill:#1f77b4;\"/>\n   </g>\n   <g id=\"matplotlib.axis_1\">\n    <g id=\"xtick_1\">\n     <g id=\"line2d_1\">\n      <path clip-path=\"url(#pb0e9dd59ff)\" d=\"M 67.884651 82.718125 \nL 67.884651 22.318125 \n\" style=\"fill:none;stroke:#b0b0b0;stroke-linecap:square;stroke-width:0.8;\"/>\n     </g>\n     <g id=\"line2d_2\">\n      <defs>\n       <path d=\"M 0 0 \nL 0 3.5 \n\" id=\"m148c294909\" style=\"stroke:#000000;stroke-width:0.8;\"/>\n      </defs>\n      <g>\n       <use style=\"stroke:#000000;stroke-width:0.8;\" x=\"67.884651\" xlink:href=\"#m148c294909\" y=\"82.718125\"/>\n      </g>\n     </g>\n     <g id=\"text_1\">\n      <!-- −0.5 -->\n      <g transform=\"translate(55.743244 97.316562)scale(0.1 -0.1)\">\n       <defs>\n        <path d=\"M 678 2272 \nL 4684 2272 \nL 4684 1741 \nL 678 1741 \nL 678 2272 \nz\n\" id=\"DejaVuSans-2212\" transform=\"scale(0.015625)\"/>\n        <path d=\"M 2034 4250 \nQ 1547 4250 1301 3770 \nQ 1056 3291 1056 2328 \nQ 1056 1369 1301 889 \nQ 1547 409 2034 409 \nQ 2525 409 2770 889 \nQ 3016 1369 3016 2328 \nQ 3016 3291 2770 3770 \nQ 2525 4250 2034 4250 \nz\nM 2034 4750 \nQ 2819 4750 3233 4129 \nQ 3647 3509 3647 2328 \nQ 3647 1150 3233 529 \nQ 2819 -91 2034 -91 \nQ 1250 -91 836 529 \nQ 422 1150 422 2328 \nQ 422 3509 836 4129 \nQ 1250 4750 2034 4750 \nz\n\" id=\"DejaVuSans-30\" transform=\"scale(0.015625)\"/>\n        <path d=\"M 684 794 \nL 1344 794 \nL 1344 0 \nL 684 0 \nL 684 794 \nz\n\" id=\"DejaVuSans-2e\" transform=\"scale(0.015625)\"/>\n        <path d=\"M 691 4666 \nL 3169 4666 \nL 3169 4134 \nL 1269 4134 \nL 1269 2991 \nQ 1406 3038 1543 3061 \nQ 1681 3084 1819 3084 \nQ 2600 3084 3056 2656 \nQ 3513 2228 3513 1497 \nQ 3513 744 3044 326 \nQ 2575 -91 1722 -91 \nQ 1428 -91 1123 -41 \nQ 819 9 494 109 \nL 494 744 \nQ 775 591 1075 516 \nQ 1375 441 1709 441 \nQ 2250 441 2565 725 \nQ 2881 1009 2881 1497 \nQ 2881 1984 2565 2268 \nQ 2250 2553 1709 2553 \nQ 1456 2553 1204 2497 \nQ 953 2441 691 2322 \nL 691 4666 \nz\n\" id=\"DejaVuSans-35\" transform=\"scale(0.015625)\"/>\n       </defs>\n       <use xlink:href=\"#DejaVuSans-2212\"/>\n       <use x=\"83.789062\" xlink:href=\"#DejaVuSans-30\"/>\n       <use x=\"147.412109\" xlink:href=\"#DejaVuSans-2e\"/>\n       <use x=\"179.199219\" xlink:href=\"#DejaVuSans-35\"/>\n      </g>\n     </g>\n    </g>\n    <g id=\"xtick_2\">\n     <g id=\"line2d_3\">\n      <path clip-path=\"url(#pb0e9dd59ff)\" d=\"M 120.804817 82.718125 \nL 120.804817 22.318125 \n\" style=\"fill:none;stroke:#b0b0b0;stroke-linecap:square;stroke-width:0.8;\"/>\n     </g>\n     <g id=\"line2d_4\">\n      <g>\n       <use style=\"stroke:#000000;stroke-width:0.8;\" x=\"120.804817\" xlink:href=\"#m148c294909\" y=\"82.718125\"/>\n      </g>\n     </g>\n     <g id=\"text_2\">\n      <!-- 0.0 -->\n      <g transform=\"translate(112.853255 97.316562)scale(0.1 -0.1)\">\n       <use xlink:href=\"#DejaVuSans-30\"/>\n       <use x=\"63.623047\" xlink:href=\"#DejaVuSans-2e\"/>\n       <use x=\"95.410156\" xlink:href=\"#DejaVuSans-30\"/>\n      </g>\n     </g>\n    </g>\n    <g id=\"xtick_3\">\n     <g id=\"line2d_5\">\n      <path clip-path=\"url(#pb0e9dd59ff)\" d=\"M 173.724984 82.718125 \nL 173.724984 22.318125 \n\" style=\"fill:none;stroke:#b0b0b0;stroke-linecap:square;stroke-width:0.8;\"/>\n     </g>\n     <g id=\"line2d_6\">\n      <g>\n       <use style=\"stroke:#000000;stroke-width:0.8;\" x=\"173.724984\" xlink:href=\"#m148c294909\" y=\"82.718125\"/>\n      </g>\n     </g>\n     <g id=\"text_3\">\n      <!-- 0.5 -->\n      <g transform=\"translate(165.773421 97.316562)scale(0.1 -0.1)\">\n       <use xlink:href=\"#DejaVuSans-30\"/>\n       <use x=\"63.623047\" xlink:href=\"#DejaVuSans-2e\"/>\n       <use x=\"95.410156\" xlink:href=\"#DejaVuSans-35\"/>\n      </g>\n     </g>\n    </g>\n   </g>\n   <g id=\"matplotlib.axis_2\">\n    <g id=\"ytick_1\">\n     <g id=\"line2d_7\">\n      <path clip-path=\"url(#pb0e9dd59ff)\" d=\"M 39.65 82.718125 \nL 185.215217 82.718125 \n\" style=\"fill:none;stroke:#b0b0b0;stroke-linecap:square;stroke-width:0.8;\"/>\n     </g>\n     <g id=\"line2d_8\">\n      <defs>\n       <path d=\"M 0 0 \nL -3.5 0 \n\" id=\"me02a22c558\" style=\"stroke:#000000;stroke-width:0.8;\"/>\n      </defs>\n      <g>\n       <use style=\"stroke:#000000;stroke-width:0.8;\" x=\"39.65\" xlink:href=\"#me02a22c558\" y=\"82.718125\"/>\n      </g>\n     </g>\n     <g id=\"text_4\">\n      <!-- 0 -->\n      <g transform=\"translate(26.2875 86.517344)scale(0.1 -0.1)\">\n       <use xlink:href=\"#DejaVuSans-30\"/>\n      </g>\n     </g>\n    </g>\n    <g id=\"ytick_2\">\n     <g id=\"line2d_9\">\n      <path clip-path=\"url(#pb0e9dd59ff)\" d=\"M 39.65 53.196026 \nL 185.215217 53.196026 \n\" style=\"fill:none;stroke:#b0b0b0;stroke-linecap:square;stroke-width:0.8;\"/>\n     </g>\n     <g id=\"line2d_10\">\n      <g>\n       <use style=\"stroke:#000000;stroke-width:0.8;\" x=\"39.65\" xlink:href=\"#me02a22c558\" y=\"53.196026\"/>\n      </g>\n     </g>\n     <g id=\"text_5\">\n      <!-- 2000 -->\n      <g transform=\"translate(7.2 56.995245)scale(0.1 -0.1)\">\n       <defs>\n        <path d=\"M 1228 531 \nL 3431 531 \nL 3431 0 \nL 469 0 \nL 469 531 \nQ 828 903 1448 1529 \nQ 2069 2156 2228 2338 \nQ 2531 2678 2651 2914 \nQ 2772 3150 2772 3378 \nQ 2772 3750 2511 3984 \nQ 2250 4219 1831 4219 \nQ 1534 4219 1204 4116 \nQ 875 4013 500 3803 \nL 500 4441 \nQ 881 4594 1212 4672 \nQ 1544 4750 1819 4750 \nQ 2544 4750 2975 4387 \nQ 3406 4025 3406 3419 \nQ 3406 3131 3298 2873 \nQ 3191 2616 2906 2266 \nQ 2828 2175 2409 1742 \nQ 1991 1309 1228 531 \nz\n\" id=\"DejaVuSans-32\" transform=\"scale(0.015625)\"/>\n       </defs>\n       <use xlink:href=\"#DejaVuSans-32\"/>\n       <use x=\"63.623047\" xlink:href=\"#DejaVuSans-30\"/>\n       <use x=\"127.246094\" xlink:href=\"#DejaVuSans-30\"/>\n       <use x=\"190.869141\" xlink:href=\"#DejaVuSans-30\"/>\n      </g>\n     </g>\n    </g>\n    <g id=\"ytick_3\">\n     <g id=\"line2d_11\">\n      <path clip-path=\"url(#pb0e9dd59ff)\" d=\"M 39.65 23.673927 \nL 185.215217 23.673927 \n\" style=\"fill:none;stroke:#b0b0b0;stroke-linecap:square;stroke-width:0.8;\"/>\n     </g>\n     <g id=\"line2d_12\">\n      <g>\n       <use style=\"stroke:#000000;stroke-width:0.8;\" x=\"39.65\" xlink:href=\"#me02a22c558\" y=\"23.673927\"/>\n      </g>\n     </g>\n     <g id=\"text_6\">\n      <!-- 4000 -->\n      <g transform=\"translate(7.2 27.473146)scale(0.1 -0.1)\">\n       <defs>\n        <path d=\"M 2419 4116 \nL 825 1625 \nL 2419 1625 \nL 2419 4116 \nz\nM 2253 4666 \nL 3047 4666 \nL 3047 1625 \nL 3713 1625 \nL 3713 1100 \nL 3047 1100 \nL 3047 0 \nL 2419 0 \nL 2419 1100 \nL 313 1100 \nL 313 1709 \nL 2253 4666 \nz\n\" id=\"DejaVuSans-34\" transform=\"scale(0.015625)\"/>\n       </defs>\n       <use xlink:href=\"#DejaVuSans-34\"/>\n       <use x=\"63.623047\" xlink:href=\"#DejaVuSans-30\"/>\n       <use x=\"127.246094\" xlink:href=\"#DejaVuSans-30\"/>\n       <use x=\"190.869141\" xlink:href=\"#DejaVuSans-30\"/>\n      </g>\n     </g>\n    </g>\n   </g>\n   <g id=\"patch_13\">\n    <path d=\"M 39.65 82.718125 \nL 39.65 22.318125 \n\" style=\"fill:none;stroke:#000000;stroke-linecap:square;stroke-linejoin:miter;stroke-width:0.8;\"/>\n   </g>\n   <g id=\"patch_14\">\n    <path d=\"M 185.215217 82.718125 \nL 185.215217 22.318125 \n\" style=\"fill:none;stroke:#000000;stroke-linecap:square;stroke-linejoin:miter;stroke-width:0.8;\"/>\n   </g>\n   <g id=\"patch_15\">\n    <path d=\"M 39.65 82.718125 \nL 185.215217 82.718125 \n\" style=\"fill:none;stroke:#000000;stroke-linecap:square;stroke-linejoin:miter;stroke-width:0.8;\"/>\n   </g>\n   <g id=\"patch_16\">\n    <path d=\"M 39.65 22.318125 \nL 185.215217 22.318125 \n\" style=\"fill:none;stroke:#000000;stroke-linecap:square;stroke-linejoin:miter;stroke-width:0.8;\"/>\n   </g>\n   <g id=\"text_7\">\n    <!-- alpha -->\n    <g transform=\"translate(95.800421 16.318125)scale(0.12 -0.12)\">\n     <defs>\n      <path d=\"M 2194 1759 \nQ 1497 1759 1228 1600 \nQ 959 1441 959 1056 \nQ 959 750 1161 570 \nQ 1363 391 1709 391 \nQ 2188 391 2477 730 \nQ 2766 1069 2766 1631 \nL 2766 1759 \nL 2194 1759 \nz\nM 3341 1997 \nL 3341 0 \nL 2766 0 \nL 2766 531 \nQ 2569 213 2275 61 \nQ 1981 -91 1556 -91 \nQ 1019 -91 701 211 \nQ 384 513 384 1019 \nQ 384 1609 779 1909 \nQ 1175 2209 1959 2209 \nL 2766 2209 \nL 2766 2266 \nQ 2766 2663 2505 2880 \nQ 2244 3097 1772 3097 \nQ 1472 3097 1187 3025 \nQ 903 2953 641 2809 \nL 641 3341 \nQ 956 3463 1253 3523 \nQ 1550 3584 1831 3584 \nQ 2591 3584 2966 3190 \nQ 3341 2797 3341 1997 \nz\n\" id=\"DejaVuSans-61\" transform=\"scale(0.015625)\"/>\n      <path d=\"M 603 4863 \nL 1178 4863 \nL 1178 0 \nL 603 0 \nL 603 4863 \nz\n\" id=\"DejaVuSans-6c\" transform=\"scale(0.015625)\"/>\n      <path d=\"M 1159 525 \nL 1159 -1331 \nL 581 -1331 \nL 581 3500 \nL 1159 3500 \nL 1159 2969 \nQ 1341 3281 1617 3432 \nQ 1894 3584 2278 3584 \nQ 2916 3584 3314 3078 \nQ 3713 2572 3713 1747 \nQ 3713 922 3314 415 \nQ 2916 -91 2278 -91 \nQ 1894 -91 1617 61 \nQ 1341 213 1159 525 \nz\nM 3116 1747 \nQ 3116 2381 2855 2742 \nQ 2594 3103 2138 3103 \nQ 1681 3103 1420 2742 \nQ 1159 2381 1159 1747 \nQ 1159 1113 1420 752 \nQ 1681 391 2138 391 \nQ 2594 391 2855 752 \nQ 3116 1113 3116 1747 \nz\n\" id=\"DejaVuSans-70\" transform=\"scale(0.015625)\"/>\n      <path d=\"M 3513 2113 \nL 3513 0 \nL 2938 0 \nL 2938 2094 \nQ 2938 2591 2744 2837 \nQ 2550 3084 2163 3084 \nQ 1697 3084 1428 2787 \nQ 1159 2491 1159 1978 \nL 1159 0 \nL 581 0 \nL 581 4863 \nL 1159 4863 \nL 1159 2956 \nQ 1366 3272 1645 3428 \nQ 1925 3584 2291 3584 \nQ 2894 3584 3203 3211 \nQ 3513 2838 3513 2113 \nz\n\" id=\"DejaVuSans-68\" transform=\"scale(0.015625)\"/>\n     </defs>\n     <use xlink:href=\"#DejaVuSans-61\"/>\n     <use x=\"61.279297\" xlink:href=\"#DejaVuSans-6c\"/>\n     <use x=\"89.0625\" xlink:href=\"#DejaVuSans-70\"/>\n     <use x=\"152.539062\" xlink:href=\"#DejaVuSans-68\"/>\n     <use x=\"215.917969\" xlink:href=\"#DejaVuSans-61\"/>\n    </g>\n   </g>\n  </g>\n  <g id=\"axes_2\">\n   <g id=\"patch_17\">\n    <path d=\"M 228.884783 82.718125 \nL 374.45 82.718125 \nL 374.45 22.318125 \nL 228.884783 22.318125 \nz\n\" style=\"fill:#ffffff;\"/>\n   </g>\n   <g id=\"patch_18\">\n    <path clip-path=\"url(#pdb091861f2)\" d=\"M 235.501383 82.718125 \nL 248.734585 82.718125 \nL 248.734585 82.529859 \nL 235.501383 82.529859 \nz\n\" style=\"fill:#1f77b4;\"/>\n   </g>\n   <g id=\"patch_19\">\n    <path clip-path=\"url(#pdb091861f2)\" d=\"M 248.734585 82.718125 \nL 261.967787 82.718125 \nL 261.967787 81.537184 \nL 248.734585 81.537184 \nz\n\" style=\"fill:#1f77b4;\"/>\n   </g>\n   <g id=\"patch_20\">\n    <path clip-path=\"url(#pdb091861f2)\" d=\"M 261.967787 82.718125 \nL 275.200988 82.718125 \nL 275.200988 76.81342 \nL 261.967787 76.81342 \nz\n\" style=\"fill:#1f77b4;\"/>\n   </g>\n   <g id=\"patch_21\">\n    <path clip-path=\"url(#pdb091861f2)\" d=\"M 275.200988 82.718125 \nL 288.43419 82.718125 \nL 288.43419 57.37068 \nL 275.200988 57.37068 \nz\n\" style=\"fill:#1f77b4;\"/>\n   </g>\n   <g id=\"patch_22\">\n    <path clip-path=\"url(#pdb091861f2)\" d=\"M 288.43419 82.718125 \nL 301.667391 82.718125 \nL 301.667391 26.614868 \nL 288.43419 26.614868 \nz\n\" style=\"fill:#1f77b4;\"/>\n   </g>\n   <g id=\"patch_23\">\n    <path clip-path=\"url(#pdb091861f2)\" d=\"M 301.667391 82.718125 \nL 314.900593 82.718125 \nL 314.900593 25.194315 \nL 301.667391 25.194315 \nz\n\" style=\"fill:#1f77b4;\"/>\n   </g>\n   <g id=\"patch_24\">\n    <path clip-path=\"url(#pdb091861f2)\" d=\"M 314.900593 82.718125 \nL 328.133794 82.718125 \nL 328.133794 56.514926 \nL 314.900593 56.514926 \nz\n\" style=\"fill:#1f77b4;\"/>\n   </g>\n   <g id=\"patch_25\">\n    <path clip-path=\"url(#pdb091861f2)\" d=\"M 328.133794 82.718125 \nL 341.366996 82.718125 \nL 341.366996 75.649594 \nL 328.133794 75.649594 \nz\n\" style=\"fill:#1f77b4;\"/>\n   </g>\n   <g id=\"patch_26\">\n    <path clip-path=\"url(#pdb091861f2)\" d=\"M 341.366996 82.718125 \nL 354.600198 82.718125 \nL 354.600198 81.348918 \nL 341.366996 81.348918 \nz\n\" style=\"fill:#1f77b4;\"/>\n   </g>\n   <g id=\"patch_27\">\n    <path clip-path=\"url(#pdb091861f2)\" d=\"M 354.600198 82.718125 \nL 367.833399 82.718125 \nL 367.833399 82.427169 \nL 354.600198 82.427169 \nz\n\" style=\"fill:#1f77b4;\"/>\n   </g>\n   <g id=\"matplotlib.axis_3\">\n    <g id=\"xtick_4\">\n     <g id=\"line2d_13\">\n      <path clip-path=\"url(#pdb091861f2)\" d=\"M 294.253189 82.718125 \nL 294.253189 22.318125 \n\" style=\"fill:none;stroke:#b0b0b0;stroke-linecap:square;stroke-width:0.8;\"/>\n     </g>\n     <g id=\"line2d_14\">\n      <g>\n       <use style=\"stroke:#000000;stroke-width:0.8;\" x=\"294.253189\" xlink:href=\"#m148c294909\" y=\"82.718125\"/>\n      </g>\n     </g>\n     <g id=\"text_8\">\n      <!-- 0 -->\n      <g transform=\"translate(291.071939 97.316562)scale(0.1 -0.1)\">\n       <use xlink:href=\"#DejaVuSans-30\"/>\n      </g>\n     </g>\n    </g>\n    <g id=\"xtick_5\">\n     <g id=\"line2d_15\">\n      <path clip-path=\"url(#pdb091861f2)\" d=\"M 364.467038 82.718125 \nL 364.467038 22.318125 \n\" style=\"fill:none;stroke:#b0b0b0;stroke-linecap:square;stroke-width:0.8;\"/>\n     </g>\n     <g id=\"line2d_16\">\n      <g>\n       <use style=\"stroke:#000000;stroke-width:0.8;\" x=\"364.467038\" xlink:href=\"#m148c294909\" y=\"82.718125\"/>\n      </g>\n     </g>\n     <g id=\"text_9\">\n      <!-- 1 -->\n      <g transform=\"translate(361.285788 97.316562)scale(0.1 -0.1)\">\n       <defs>\n        <path d=\"M 794 531 \nL 1825 531 \nL 1825 4091 \nL 703 3866 \nL 703 4441 \nL 1819 4666 \nL 2450 4666 \nL 2450 531 \nL 3481 531 \nL 3481 0 \nL 794 0 \nL 794 531 \nz\n\" id=\"DejaVuSans-31\" transform=\"scale(0.015625)\"/>\n       </defs>\n       <use xlink:href=\"#DejaVuSans-31\"/>\n      </g>\n     </g>\n    </g>\n   </g>\n   <g id=\"matplotlib.axis_4\">\n    <g id=\"ytick_4\">\n     <g id=\"line2d_17\">\n      <path clip-path=\"url(#pdb091861f2)\" d=\"M 228.884783 82.718125 \nL 374.45 82.718125 \n\" style=\"fill:none;stroke:#b0b0b0;stroke-linecap:square;stroke-width:0.8;\"/>\n     </g>\n     <g id=\"line2d_18\">\n      <g>\n       <use style=\"stroke:#000000;stroke-width:0.8;\" x=\"228.884783\" xlink:href=\"#me02a22c558\" y=\"82.718125\"/>\n      </g>\n     </g>\n     <g id=\"text_10\">\n      <!-- 0 -->\n      <g transform=\"translate(215.522283 86.517344)scale(0.1 -0.1)\">\n       <use xlink:href=\"#DejaVuSans-30\"/>\n      </g>\n     </g>\n    </g>\n    <g id=\"ytick_5\">\n     <g id=\"line2d_19\">\n      <path clip-path=\"url(#pdb091861f2)\" d=\"M 228.884783 48.48795 \nL 374.45 48.48795 \n\" style=\"fill:none;stroke:#b0b0b0;stroke-linecap:square;stroke-width:0.8;\"/>\n     </g>\n     <g id=\"line2d_20\">\n      <g>\n       <use style=\"stroke:#000000;stroke-width:0.8;\" x=\"228.884783\" xlink:href=\"#me02a22c558\" y=\"48.48795\"/>\n      </g>\n     </g>\n     <g id=\"text_11\">\n      <!-- 2000 -->\n      <g transform=\"translate(196.434783 52.287168)scale(0.1 -0.1)\">\n       <use xlink:href=\"#DejaVuSans-32\"/>\n       <use x=\"63.623047\" xlink:href=\"#DejaVuSans-30\"/>\n       <use x=\"127.246094\" xlink:href=\"#DejaVuSans-30\"/>\n       <use x=\"190.869141\" xlink:href=\"#DejaVuSans-30\"/>\n      </g>\n     </g>\n    </g>\n   </g>\n   <g id=\"patch_28\">\n    <path d=\"M 228.884783 82.718125 \nL 228.884783 22.318125 \n\" style=\"fill:none;stroke:#000000;stroke-linecap:square;stroke-linejoin:miter;stroke-width:0.8;\"/>\n   </g>\n   <g id=\"patch_29\">\n    <path d=\"M 374.45 82.718125 \nL 374.45 22.318125 \n\" style=\"fill:none;stroke:#000000;stroke-linecap:square;stroke-linejoin:miter;stroke-width:0.8;\"/>\n   </g>\n   <g id=\"patch_30\">\n    <path d=\"M 228.884783 82.718125 \nL 374.45 82.718125 \n\" style=\"fill:none;stroke:#000000;stroke-linecap:square;stroke-linejoin:miter;stroke-width:0.8;\"/>\n   </g>\n   <g id=\"patch_31\">\n    <path d=\"M 228.884783 22.318125 \nL 374.45 22.318125 \n\" style=\"fill:none;stroke:#000000;stroke-linecap:square;stroke-linejoin:miter;stroke-width:0.8;\"/>\n   </g>\n   <g id=\"text_12\">\n    <!-- beta -->\n    <g transform=\"translate(288.137391 16.318125)scale(0.12 -0.12)\">\n     <defs>\n      <path d=\"M 3116 1747 \nQ 3116 2381 2855 2742 \nQ 2594 3103 2138 3103 \nQ 1681 3103 1420 2742 \nQ 1159 2381 1159 1747 \nQ 1159 1113 1420 752 \nQ 1681 391 2138 391 \nQ 2594 391 2855 752 \nQ 3116 1113 3116 1747 \nz\nM 1159 2969 \nQ 1341 3281 1617 3432 \nQ 1894 3584 2278 3584 \nQ 2916 3584 3314 3078 \nQ 3713 2572 3713 1747 \nQ 3713 922 3314 415 \nQ 2916 -91 2278 -91 \nQ 1894 -91 1617 61 \nQ 1341 213 1159 525 \nL 1159 0 \nL 581 0 \nL 581 4863 \nL 1159 4863 \nL 1159 2969 \nz\n\" id=\"DejaVuSans-62\" transform=\"scale(0.015625)\"/>\n      <path d=\"M 3597 1894 \nL 3597 1613 \nL 953 1613 \nQ 991 1019 1311 708 \nQ 1631 397 2203 397 \nQ 2534 397 2845 478 \nQ 3156 559 3463 722 \nL 3463 178 \nQ 3153 47 2828 -22 \nQ 2503 -91 2169 -91 \nQ 1331 -91 842 396 \nQ 353 884 353 1716 \nQ 353 2575 817 3079 \nQ 1281 3584 2069 3584 \nQ 2775 3584 3186 3129 \nQ 3597 2675 3597 1894 \nz\nM 3022 2063 \nQ 3016 2534 2758 2815 \nQ 2500 3097 2075 3097 \nQ 1594 3097 1305 2825 \nQ 1016 2553 972 2059 \nL 3022 2063 \nz\n\" id=\"DejaVuSans-65\" transform=\"scale(0.015625)\"/>\n      <path d=\"M 1172 4494 \nL 1172 3500 \nL 2356 3500 \nL 2356 3053 \nL 1172 3053 \nL 1172 1153 \nQ 1172 725 1289 603 \nQ 1406 481 1766 481 \nL 2356 481 \nL 2356 0 \nL 1766 0 \nQ 1100 0 847 248 \nQ 594 497 594 1153 \nL 594 3053 \nL 172 3053 \nL 172 3500 \nL 594 3500 \nL 594 4494 \nL 1172 4494 \nz\n\" id=\"DejaVuSans-74\" transform=\"scale(0.015625)\"/>\n     </defs>\n     <use xlink:href=\"#DejaVuSans-62\"/>\n     <use x=\"63.476562\" xlink:href=\"#DejaVuSans-65\"/>\n     <use x=\"125\" xlink:href=\"#DejaVuSans-74\"/>\n     <use x=\"164.208984\" xlink:href=\"#DejaVuSans-61\"/>\n    </g>\n   </g>\n  </g>\n  <g id=\"axes_3\">\n   <g id=\"patch_32\">\n    <path d=\"M 39.65 161.238125 \nL 185.215217 161.238125 \nL 185.215217 100.838125 \nL 39.65 100.838125 \nz\n\" style=\"fill:#ffffff;\"/>\n   </g>\n   <g id=\"patch_33\">\n    <path clip-path=\"url(#pe4969c5436)\" d=\"M 46.266601 161.238125 \nL 59.499802 161.238125 \nL 59.499802 160.549746 \nL 46.266601 160.549746 \nz\n\" style=\"fill:#1f77b4;\"/>\n   </g>\n   <g id=\"patch_34\">\n    <path clip-path=\"url(#pe4969c5436)\" d=\"M 59.499802 161.238125 \nL 72.733004 161.238125 \nL 72.733004 155.642836 \nL 59.499802 155.642836 \nz\n\" style=\"fill:#1f77b4;\"/>\n   </g>\n   <g id=\"patch_35\">\n    <path clip-path=\"url(#pe4969c5436)\" d=\"M 72.733004 161.238125 \nL 85.966206 161.238125 \nL 85.966206 138.080335 \nL 72.733004 138.080335 \nz\n\" style=\"fill:#1f77b4;\"/>\n   </g>\n   <g id=\"patch_36\">\n    <path clip-path=\"url(#pe4969c5436)\" d=\"M 85.966206 161.238125 \nL 99.199407 161.238125 \nL 99.199407 106.62669 \nL 85.966206 106.62669 \nz\n\" style=\"fill:#1f77b4;\"/>\n   </g>\n   <g id=\"patch_37\">\n    <path clip-path=\"url(#pe4969c5436)\" d=\"M 99.199407 161.238125 \nL 112.432609 161.238125 \nL 112.432609 103.714315 \nL 99.199407 103.714315 \nz\n\" style=\"fill:#1f77b4;\"/>\n   </g>\n   <g id=\"patch_38\">\n    <path clip-path=\"url(#pe4969c5436)\" d=\"M 112.432609 161.238125 \nL 125.66581 161.238125 \nL 125.66581 129.413814 \nL 112.432609 129.413814 \nz\n\" style=\"fill:#1f77b4;\"/>\n   </g>\n   <g id=\"patch_39\">\n    <path clip-path=\"url(#pe4969c5436)\" d=\"M 125.66581 161.238125 \nL 138.899012 161.238125 \nL 138.899012 151.000687 \nL 125.66581 151.000687 \nz\n\" style=\"fill:#1f77b4;\"/>\n   </g>\n   <g id=\"patch_40\">\n    <path clip-path=\"url(#pe4969c5436)\" d=\"M 138.899012 161.238125 \nL 152.132213 161.238125 \nL 152.132213 158.3081 \nL 138.899012 158.3081 \nz\n\" style=\"fill:#1f77b4;\"/>\n   </g>\n   <g id=\"patch_41\">\n    <path clip-path=\"url(#pe4969c5436)\" d=\"M 152.132213 161.238125 \nL 165.365415 161.238125 \nL 165.365415 160.973364 \nL 152.132213 160.973364 \nz\n\" style=\"fill:#1f77b4;\"/>\n   </g>\n   <g id=\"patch_42\">\n    <path clip-path=\"url(#pe4969c5436)\" d=\"M 165.365415 161.238125 \nL 178.598617 161.238125 \nL 178.598617 161.220474 \nL 165.365415 161.220474 \nz\n\" style=\"fill:#1f77b4;\"/>\n   </g>\n   <g id=\"matplotlib.axis_5\">\n    <g id=\"xtick_6\">\n     <g id=\"line2d_21\">\n      <path clip-path=\"url(#pe4969c5436)\" d=\"M 61.308939 161.238125 \nL 61.308939 100.838125 \n\" style=\"fill:none;stroke:#b0b0b0;stroke-linecap:square;stroke-width:0.8;\"/>\n     </g>\n     <g id=\"line2d_22\">\n      <g>\n       <use style=\"stroke:#000000;stroke-width:0.8;\" x=\"61.308939\" xlink:href=\"#m148c294909\" y=\"161.238125\"/>\n      </g>\n     </g>\n     <g id=\"text_13\">\n      <!-- 2.5 -->\n      <g transform=\"translate(53.357376 175.836562)scale(0.1 -0.1)\">\n       <use xlink:href=\"#DejaVuSans-32\"/>\n       <use x=\"63.623047\" xlink:href=\"#DejaVuSans-2e\"/>\n       <use x=\"95.410156\" xlink:href=\"#DejaVuSans-35\"/>\n      </g>\n     </g>\n    </g>\n    <g id=\"xtick_7\">\n     <g id=\"line2d_23\">\n      <path clip-path=\"url(#pe4969c5436)\" d=\"M 101.258887 161.238125 \nL 101.258887 100.838125 \n\" style=\"fill:none;stroke:#b0b0b0;stroke-linecap:square;stroke-width:0.8;\"/>\n     </g>\n     <g id=\"line2d_24\">\n      <g>\n       <use style=\"stroke:#000000;stroke-width:0.8;\" x=\"101.258887\" xlink:href=\"#m148c294909\" y=\"161.238125\"/>\n      </g>\n     </g>\n     <g id=\"text_14\">\n      <!-- 3.0 -->\n      <g transform=\"translate(93.307325 175.836562)scale(0.1 -0.1)\">\n       <defs>\n        <path d=\"M 2597 2516 \nQ 3050 2419 3304 2112 \nQ 3559 1806 3559 1356 \nQ 3559 666 3084 287 \nQ 2609 -91 1734 -91 \nQ 1441 -91 1130 -33 \nQ 819 25 488 141 \nL 488 750 \nQ 750 597 1062 519 \nQ 1375 441 1716 441 \nQ 2309 441 2620 675 \nQ 2931 909 2931 1356 \nQ 2931 1769 2642 2001 \nQ 2353 2234 1838 2234 \nL 1294 2234 \nL 1294 2753 \nL 1863 2753 \nQ 2328 2753 2575 2939 \nQ 2822 3125 2822 3475 \nQ 2822 3834 2567 4026 \nQ 2313 4219 1838 4219 \nQ 1578 4219 1281 4162 \nQ 984 4106 628 3988 \nL 628 4550 \nQ 988 4650 1302 4700 \nQ 1616 4750 1894 4750 \nQ 2613 4750 3031 4423 \nQ 3450 4097 3450 3541 \nQ 3450 3153 3228 2886 \nQ 3006 2619 2597 2516 \nz\n\" id=\"DejaVuSans-33\" transform=\"scale(0.015625)\"/>\n       </defs>\n       <use xlink:href=\"#DejaVuSans-33\"/>\n       <use x=\"63.623047\" xlink:href=\"#DejaVuSans-2e\"/>\n       <use x=\"95.410156\" xlink:href=\"#DejaVuSans-30\"/>\n      </g>\n     </g>\n    </g>\n    <g id=\"xtick_8\">\n     <g id=\"line2d_25\">\n      <path clip-path=\"url(#pe4969c5436)\" d=\"M 141.208836 161.238125 \nL 141.208836 100.838125 \n\" style=\"fill:none;stroke:#b0b0b0;stroke-linecap:square;stroke-width:0.8;\"/>\n     </g>\n     <g id=\"line2d_26\">\n      <g>\n       <use style=\"stroke:#000000;stroke-width:0.8;\" x=\"141.208836\" xlink:href=\"#m148c294909\" y=\"161.238125\"/>\n      </g>\n     </g>\n     <g id=\"text_15\">\n      <!-- 3.5 -->\n      <g transform=\"translate(133.257273 175.836562)scale(0.1 -0.1)\">\n       <use xlink:href=\"#DejaVuSans-33\"/>\n       <use x=\"63.623047\" xlink:href=\"#DejaVuSans-2e\"/>\n       <use x=\"95.410156\" xlink:href=\"#DejaVuSans-35\"/>\n      </g>\n     </g>\n    </g>\n    <g id=\"xtick_9\">\n     <g id=\"line2d_27\">\n      <path clip-path=\"url(#pe4969c5436)\" d=\"M 181.158785 161.238125 \nL 181.158785 100.838125 \n\" style=\"fill:none;stroke:#b0b0b0;stroke-linecap:square;stroke-width:0.8;\"/>\n     </g>\n     <g id=\"line2d_28\">\n      <g>\n       <use style=\"stroke:#000000;stroke-width:0.8;\" x=\"181.158785\" xlink:href=\"#m148c294909\" y=\"161.238125\"/>\n      </g>\n     </g>\n     <g id=\"text_16\">\n      <!-- 4.0 -->\n      <g transform=\"translate(173.207222 175.836562)scale(0.1 -0.1)\">\n       <use xlink:href=\"#DejaVuSans-34\"/>\n       <use x=\"63.623047\" xlink:href=\"#DejaVuSans-2e\"/>\n       <use x=\"95.410156\" xlink:href=\"#DejaVuSans-30\"/>\n      </g>\n     </g>\n    </g>\n   </g>\n   <g id=\"matplotlib.axis_6\">\n    <g id=\"ytick_6\">\n     <g id=\"line2d_29\">\n      <path clip-path=\"url(#pe4969c5436)\" d=\"M 39.65 161.238125 \nL 185.215217 161.238125 \n\" style=\"fill:none;stroke:#b0b0b0;stroke-linecap:square;stroke-width:0.8;\"/>\n     </g>\n     <g id=\"line2d_30\">\n      <g>\n       <use style=\"stroke:#000000;stroke-width:0.8;\" x=\"39.65\" xlink:href=\"#me02a22c558\" y=\"161.238125\"/>\n      </g>\n     </g>\n     <g id=\"text_17\">\n      <!-- 0 -->\n      <g transform=\"translate(26.2875 165.037344)scale(0.1 -0.1)\">\n       <use xlink:href=\"#DejaVuSans-30\"/>\n      </g>\n     </g>\n    </g>\n    <g id=\"ytick_7\">\n     <g id=\"line2d_31\">\n      <path clip-path=\"url(#pe4969c5436)\" d=\"M 39.65 125.936616 \nL 185.215217 125.936616 \n\" style=\"fill:none;stroke:#b0b0b0;stroke-linecap:square;stroke-width:0.8;\"/>\n     </g>\n     <g id=\"line2d_32\">\n      <g>\n       <use style=\"stroke:#000000;stroke-width:0.8;\" x=\"39.65\" xlink:href=\"#me02a22c558\" y=\"125.936616\"/>\n      </g>\n     </g>\n     <g id=\"text_18\">\n      <!-- 2000 -->\n      <g transform=\"translate(7.2 129.735834)scale(0.1 -0.1)\">\n       <use xlink:href=\"#DejaVuSans-32\"/>\n       <use x=\"63.623047\" xlink:href=\"#DejaVuSans-30\"/>\n       <use x=\"127.246094\" xlink:href=\"#DejaVuSans-30\"/>\n       <use x=\"190.869141\" xlink:href=\"#DejaVuSans-30\"/>\n      </g>\n     </g>\n    </g>\n   </g>\n   <g id=\"patch_43\">\n    <path d=\"M 39.65 161.238125 \nL 39.65 100.838125 \n\" style=\"fill:none;stroke:#000000;stroke-linecap:square;stroke-linejoin:miter;stroke-width:0.8;\"/>\n   </g>\n   <g id=\"patch_44\">\n    <path d=\"M 185.215217 161.238125 \nL 185.215217 100.838125 \n\" style=\"fill:none;stroke:#000000;stroke-linecap:square;stroke-linejoin:miter;stroke-width:0.8;\"/>\n   </g>\n   <g id=\"patch_45\">\n    <path d=\"M 39.65 161.238125 \nL 185.215217 161.238125 \n\" style=\"fill:none;stroke:#000000;stroke-linecap:square;stroke-linejoin:miter;stroke-width:0.8;\"/>\n   </g>\n   <g id=\"patch_46\">\n    <path d=\"M 39.65 100.838125 \nL 185.215217 100.838125 \n\" style=\"fill:none;stroke:#000000;stroke-linecap:square;stroke-linejoin:miter;stroke-width:0.8;\"/>\n   </g>\n   <g id=\"text_19\">\n    <!-- gamma -->\n    <g transform=\"translate(89.581046 94.838125)scale(0.12 -0.12)\">\n     <defs>\n      <path d=\"M 2906 1791 \nQ 2906 2416 2648 2759 \nQ 2391 3103 1925 3103 \nQ 1463 3103 1205 2759 \nQ 947 2416 947 1791 \nQ 947 1169 1205 825 \nQ 1463 481 1925 481 \nQ 2391 481 2648 825 \nQ 2906 1169 2906 1791 \nz\nM 3481 434 \nQ 3481 -459 3084 -895 \nQ 2688 -1331 1869 -1331 \nQ 1566 -1331 1297 -1286 \nQ 1028 -1241 775 -1147 \nL 775 -588 \nQ 1028 -725 1275 -790 \nQ 1522 -856 1778 -856 \nQ 2344 -856 2625 -561 \nQ 2906 -266 2906 331 \nL 2906 616 \nQ 2728 306 2450 153 \nQ 2172 0 1784 0 \nQ 1141 0 747 490 \nQ 353 981 353 1791 \nQ 353 2603 747 3093 \nQ 1141 3584 1784 3584 \nQ 2172 3584 2450 3431 \nQ 2728 3278 2906 2969 \nL 2906 3500 \nL 3481 3500 \nL 3481 434 \nz\n\" id=\"DejaVuSans-67\" transform=\"scale(0.015625)\"/>\n      <path d=\"M 3328 2828 \nQ 3544 3216 3844 3400 \nQ 4144 3584 4550 3584 \nQ 5097 3584 5394 3201 \nQ 5691 2819 5691 2113 \nL 5691 0 \nL 5113 0 \nL 5113 2094 \nQ 5113 2597 4934 2840 \nQ 4756 3084 4391 3084 \nQ 3944 3084 3684 2787 \nQ 3425 2491 3425 1978 \nL 3425 0 \nL 2847 0 \nL 2847 2094 \nQ 2847 2600 2669 2842 \nQ 2491 3084 2119 3084 \nQ 1678 3084 1418 2786 \nQ 1159 2488 1159 1978 \nL 1159 0 \nL 581 0 \nL 581 3500 \nL 1159 3500 \nL 1159 2956 \nQ 1356 3278 1631 3431 \nQ 1906 3584 2284 3584 \nQ 2666 3584 2933 3390 \nQ 3200 3197 3328 2828 \nz\n\" id=\"DejaVuSans-6d\" transform=\"scale(0.015625)\"/>\n     </defs>\n     <use xlink:href=\"#DejaVuSans-67\"/>\n     <use x=\"63.476562\" xlink:href=\"#DejaVuSans-61\"/>\n     <use x=\"124.755859\" xlink:href=\"#DejaVuSans-6d\"/>\n     <use x=\"222.167969\" xlink:href=\"#DejaVuSans-6d\"/>\n     <use x=\"319.580078\" xlink:href=\"#DejaVuSans-61\"/>\n    </g>\n   </g>\n  </g>\n  <g id=\"axes_4\">\n   <g id=\"patch_47\">\n    <path d=\"M 228.884783 161.238125 \nL 374.45 161.238125 \nL 374.45 100.838125 \nL 228.884783 100.838125 \nz\n\" style=\"fill:#ffffff;\"/>\n   </g>\n   <g id=\"patch_48\">\n    <path clip-path=\"url(#p35e177c0bc)\" d=\"M 235.501383 161.238125 \nL 248.734585 161.238125 \nL 248.734585 161.201718 \nL 235.501383 161.201718 \nz\n\" style=\"fill:#1f77b4;\"/>\n   </g>\n   <g id=\"patch_49\">\n    <path clip-path=\"url(#p35e177c0bc)\" d=\"M 248.734585 161.238125 \nL 261.967787 161.238125 \nL 261.967787 160.776964 \nL 248.734585 160.776964 \nz\n\" style=\"fill:#1f77b4;\"/>\n   </g>\n   <g id=\"patch_50\">\n    <path clip-path=\"url(#p35e177c0bc)\" d=\"M 261.967787 161.238125 \nL 275.200988 161.238125 \nL 275.200988 157.463883 \nL 261.967787 157.463883 \nz\n\" style=\"fill:#1f77b4;\"/>\n   </g>\n   <g id=\"patch_51\">\n    <path clip-path=\"url(#p35e177c0bc)\" d=\"M 275.200988 161.238125 \nL 288.43419 161.238125 \nL 288.43419 141.22615 \nL 275.200988 141.22615 \nz\n\" style=\"fill:#1f77b4;\"/>\n   </g>\n   <g id=\"patch_52\">\n    <path clip-path=\"url(#p35e177c0bc)\" d=\"M 288.43419 161.238125 \nL 301.667391 161.238125 \nL 301.667391 103.714315 \nL 288.43419 103.714315 \nz\n\" style=\"fill:#1f77b4;\"/>\n   </g>\n   <g id=\"patch_53\">\n    <path clip-path=\"url(#p35e177c0bc)\" d=\"M 301.667391 161.238125 \nL 314.900593 161.238125 \nL 314.900593 121.420484 \nL 301.667391 121.420484 \nz\n\" style=\"fill:#1f77b4;\"/>\n   </g>\n   <g id=\"patch_54\">\n    <path clip-path=\"url(#p35e177c0bc)\" d=\"M 314.900593 161.238125 \nL 328.133794 161.238125 \nL 328.133794 155.109533 \nL 314.900593 155.109533 \nz\n\" style=\"fill:#1f77b4;\"/>\n   </g>\n   <g id=\"patch_55\">\n    <path clip-path=\"url(#p35e177c0bc)\" d=\"M 328.133794 161.238125 \nL 341.366996 161.238125 \nL 341.366996 160.655605 \nL 328.133794 160.655605 \nz\n\" style=\"fill:#1f77b4;\"/>\n   </g>\n   <g id=\"patch_56\">\n    <path clip-path=\"url(#p35e177c0bc)\" d=\"M 341.366996 161.238125 \nL 354.600198 161.238125 \nL 354.600198 161.153174 \nL 341.366996 161.153174 \nz\n\" style=\"fill:#1f77b4;\"/>\n   </g>\n   <g id=\"patch_57\">\n    <path clip-path=\"url(#p35e177c0bc)\" d=\"M 354.600198 161.238125 \nL 367.833399 161.238125 \nL 367.833399 161.189582 \nL 354.600198 161.189582 \nz\n\" style=\"fill:#1f77b4;\"/>\n   </g>\n   <g id=\"matplotlib.axis_7\">\n    <g id=\"xtick_10\">\n     <g id=\"line2d_33\">\n      <path clip-path=\"url(#p35e177c0bc)\" d=\"M 245.145085 161.238125 \nL 245.145085 100.838125 \n\" style=\"fill:none;stroke:#b0b0b0;stroke-linecap:square;stroke-width:0.8;\"/>\n     </g>\n     <g id=\"line2d_34\">\n      <g>\n       <use style=\"stroke:#000000;stroke-width:0.8;\" x=\"245.145085\" xlink:href=\"#m148c294909\" y=\"161.238125\"/>\n      </g>\n     </g>\n     <g id=\"text_20\">\n      <!-- 100000 -->\n      <g transform=\"translate(226.057585 175.836562)scale(0.1 -0.1)\">\n       <use xlink:href=\"#DejaVuSans-31\"/>\n       <use x=\"63.623047\" xlink:href=\"#DejaVuSans-30\"/>\n       <use x=\"127.246094\" xlink:href=\"#DejaVuSans-30\"/>\n       <use x=\"190.869141\" xlink:href=\"#DejaVuSans-30\"/>\n       <use x=\"254.492188\" xlink:href=\"#DejaVuSans-30\"/>\n       <use x=\"318.115234\" xlink:href=\"#DejaVuSans-30\"/>\n      </g>\n     </g>\n    </g>\n    <g id=\"xtick_11\">\n     <g id=\"line2d_35\">\n      <path clip-path=\"url(#p35e177c0bc)\" d=\"M 307.879888 161.238125 \nL 307.879888 100.838125 \n\" style=\"fill:none;stroke:#b0b0b0;stroke-linecap:square;stroke-width:0.8;\"/>\n     </g>\n     <g id=\"line2d_36\">\n      <g>\n       <use style=\"stroke:#000000;stroke-width:0.8;\" x=\"307.879888\" xlink:href=\"#m148c294909\" y=\"161.238125\"/>\n      </g>\n     </g>\n     <g id=\"text_21\">\n      <!-- 200000 -->\n      <g transform=\"translate(288.792388 175.836562)scale(0.1 -0.1)\">\n       <use xlink:href=\"#DejaVuSans-32\"/>\n       <use x=\"63.623047\" xlink:href=\"#DejaVuSans-30\"/>\n       <use x=\"127.246094\" xlink:href=\"#DejaVuSans-30\"/>\n       <use x=\"190.869141\" xlink:href=\"#DejaVuSans-30\"/>\n       <use x=\"254.492188\" xlink:href=\"#DejaVuSans-30\"/>\n       <use x=\"318.115234\" xlink:href=\"#DejaVuSans-30\"/>\n      </g>\n     </g>\n    </g>\n    <g id=\"xtick_12\">\n     <g id=\"line2d_37\">\n      <path clip-path=\"url(#p35e177c0bc)\" d=\"M 370.61469 161.238125 \nL 370.61469 100.838125 \n\" style=\"fill:none;stroke:#b0b0b0;stroke-linecap:square;stroke-width:0.8;\"/>\n     </g>\n     <g id=\"line2d_38\">\n      <g>\n       <use style=\"stroke:#000000;stroke-width:0.8;\" x=\"370.61469\" xlink:href=\"#m148c294909\" y=\"161.238125\"/>\n      </g>\n     </g>\n     <g id=\"text_22\">\n      <!-- 300000 -->\n      <g transform=\"translate(351.52719 175.836562)scale(0.1 -0.1)\">\n       <use xlink:href=\"#DejaVuSans-33\"/>\n       <use x=\"63.623047\" xlink:href=\"#DejaVuSans-30\"/>\n       <use x=\"127.246094\" xlink:href=\"#DejaVuSans-30\"/>\n       <use x=\"190.869141\" xlink:href=\"#DejaVuSans-30\"/>\n       <use x=\"254.492188\" xlink:href=\"#DejaVuSans-30\"/>\n       <use x=\"318.115234\" xlink:href=\"#DejaVuSans-30\"/>\n      </g>\n     </g>\n    </g>\n   </g>\n   <g id=\"matplotlib.axis_8\">\n    <g id=\"ytick_8\">\n     <g id=\"line2d_39\">\n      <path clip-path=\"url(#p35e177c0bc)\" d=\"M 228.884783 161.238125 \nL 374.45 161.238125 \n\" style=\"fill:none;stroke:#b0b0b0;stroke-linecap:square;stroke-width:0.8;\"/>\n     </g>\n     <g id=\"line2d_40\">\n      <g>\n       <use style=\"stroke:#000000;stroke-width:0.8;\" x=\"228.884783\" xlink:href=\"#me02a22c558\" y=\"161.238125\"/>\n      </g>\n     </g>\n     <g id=\"text_23\">\n      <!-- 0 -->\n      <g transform=\"translate(215.522283 165.037344)scale(0.1 -0.1)\">\n       <use xlink:href=\"#DejaVuSans-30\"/>\n      </g>\n     </g>\n    </g>\n    <g id=\"ytick_9\">\n     <g id=\"line2d_41\">\n      <path clip-path=\"url(#p35e177c0bc)\" d=\"M 228.884783 136.966475 \nL 374.45 136.966475 \n\" style=\"fill:none;stroke:#b0b0b0;stroke-linecap:square;stroke-width:0.8;\"/>\n     </g>\n     <g id=\"line2d_42\">\n      <g>\n       <use style=\"stroke:#000000;stroke-width:0.8;\" x=\"228.884783\" xlink:href=\"#me02a22c558\" y=\"136.966475\"/>\n      </g>\n     </g>\n     <g id=\"text_24\">\n      <!-- 2000 -->\n      <g transform=\"translate(196.434783 140.765694)scale(0.1 -0.1)\">\n       <use xlink:href=\"#DejaVuSans-32\"/>\n       <use x=\"63.623047\" xlink:href=\"#DejaVuSans-30\"/>\n       <use x=\"127.246094\" xlink:href=\"#DejaVuSans-30\"/>\n       <use x=\"190.869141\" xlink:href=\"#DejaVuSans-30\"/>\n      </g>\n     </g>\n    </g>\n    <g id=\"ytick_10\">\n     <g id=\"line2d_43\">\n      <path clip-path=\"url(#p35e177c0bc)\" d=\"M 228.884783 112.694826 \nL 374.45 112.694826 \n\" style=\"fill:none;stroke:#b0b0b0;stroke-linecap:square;stroke-width:0.8;\"/>\n     </g>\n     <g id=\"line2d_44\">\n      <g>\n       <use style=\"stroke:#000000;stroke-width:0.8;\" x=\"228.884783\" xlink:href=\"#me02a22c558\" y=\"112.694826\"/>\n      </g>\n     </g>\n     <g id=\"text_25\">\n      <!-- 4000 -->\n      <g transform=\"translate(196.434783 116.494045)scale(0.1 -0.1)\">\n       <use xlink:href=\"#DejaVuSans-34\"/>\n       <use x=\"63.623047\" xlink:href=\"#DejaVuSans-30\"/>\n       <use x=\"127.246094\" xlink:href=\"#DejaVuSans-30\"/>\n       <use x=\"190.869141\" xlink:href=\"#DejaVuSans-30\"/>\n      </g>\n     </g>\n    </g>\n   </g>\n   <g id=\"patch_58\">\n    <path d=\"M 228.884783 161.238125 \nL 228.884783 100.838125 \n\" style=\"fill:none;stroke:#000000;stroke-linecap:square;stroke-linejoin:miter;stroke-width:0.8;\"/>\n   </g>\n   <g id=\"patch_59\">\n    <path d=\"M 374.45 161.238125 \nL 374.45 100.838125 \n\" style=\"fill:none;stroke:#000000;stroke-linecap:square;stroke-linejoin:miter;stroke-width:0.8;\"/>\n   </g>\n   <g id=\"patch_60\">\n    <path d=\"M 228.884783 161.238125 \nL 374.45 161.238125 \n\" style=\"fill:none;stroke:#000000;stroke-linecap:square;stroke-linejoin:miter;stroke-width:0.8;\"/>\n   </g>\n   <g id=\"patch_61\">\n    <path d=\"M 228.884783 100.838125 \nL 374.45 100.838125 \n\" style=\"fill:none;stroke:#000000;stroke-linecap:square;stroke-linejoin:miter;stroke-width:0.8;\"/>\n   </g>\n   <g id=\"text_26\">\n    <!-- tx -->\n    <g transform=\"translate(295.763954 94.838125)scale(0.12 -0.12)\">\n     <defs>\n      <path d=\"M 3513 3500 \nL 2247 1797 \nL 3578 0 \nL 2900 0 \nL 1881 1375 \nL 863 0 \nL 184 0 \nL 1544 1831 \nL 300 3500 \nL 978 3500 \nL 1906 2253 \nL 2834 3500 \nL 3513 3500 \nz\n\" id=\"DejaVuSans-78\" transform=\"scale(0.015625)\"/>\n     </defs>\n     <use xlink:href=\"#DejaVuSans-74\"/>\n     <use x=\"39.208984\" xlink:href=\"#DejaVuSans-78\"/>\n    </g>\n   </g>\n  </g>\n  <g id=\"axes_5\">\n   <g id=\"patch_62\">\n    <path d=\"M 39.65 239.758125 \nL 185.215217 239.758125 \nL 185.215217 179.358125 \nL 39.65 179.358125 \nz\n\" style=\"fill:#ffffff;\"/>\n   </g>\n   <g id=\"patch_63\">\n    <path clip-path=\"url(#p9bd943964f)\" d=\"M 46.266601 239.758125 \nL 59.499802 239.758125 \nL 59.499802 239.569093 \nL 46.266601 239.569093 \nz\n\" style=\"fill:#1f77b4;\"/>\n   </g>\n   <g id=\"patch_64\">\n    <path clip-path=\"url(#p9bd943964f)\" d=\"M 59.499802 239.758125 \nL 72.733004 239.758125 \nL 72.733004 238.827507 \nL 59.499802 238.827507 \nz\n\" style=\"fill:#1f77b4;\"/>\n   </g>\n   <g id=\"patch_65\">\n    <path clip-path=\"url(#p9bd943964f)\" d=\"M 72.733004 239.758125 \nL 85.966206 239.758125 \nL 85.966206 233.214719 \nL 72.733004 233.214719 \nz\n\" style=\"fill:#1f77b4;\"/>\n   </g>\n   <g id=\"patch_66\">\n    <path clip-path=\"url(#p9bd943964f)\" d=\"M 85.966206 239.758125 \nL 99.199407 239.758125 \nL 99.199407 212.028624 \nL 85.966206 212.028624 \nz\n\" style=\"fill:#1f77b4;\"/>\n   </g>\n   <g id=\"patch_67\">\n    <path clip-path=\"url(#p9bd943964f)\" d=\"M 99.199407 239.758125 \nL 112.432609 239.758125 \nL 112.432609 182.234315 \nL 99.199407 182.234315 \nz\n\" style=\"fill:#1f77b4;\"/>\n   </g>\n   <g id=\"patch_68\">\n    <path clip-path=\"url(#p9bd943964f)\" d=\"M 112.432609 239.758125 \nL 125.66581 239.758125 \nL 125.66581 194.695869 \nL 112.432609 194.695869 \nz\n\" style=\"fill:#1f77b4;\"/>\n   </g>\n   <g id=\"patch_69\">\n    <path clip-path=\"url(#p9bd943964f)\" d=\"M 125.66581 239.758125 \nL 138.899012 239.758125 \nL 138.899012 226.656772 \nL 125.66581 226.656772 \nz\n\" style=\"fill:#1f77b4;\"/>\n   </g>\n   <g id=\"patch_70\">\n    <path clip-path=\"url(#p9bd943964f)\" d=\"M 138.899012 239.758125 \nL 152.132213 239.758125 \nL 152.132213 237.475203 \nL 138.899012 237.475203 \nz\n\" style=\"fill:#1f77b4;\"/>\n   </g>\n   <g id=\"patch_71\">\n    <path clip-path=\"url(#p9bd943964f)\" d=\"M 152.132213 239.758125 \nL 165.365415 239.758125 \nL 165.365415 239.336439 \nL 152.132213 239.336439 \nz\n\" style=\"fill:#1f77b4;\"/>\n   </g>\n   <g id=\"patch_72\">\n    <path clip-path=\"url(#p9bd943964f)\" d=\"M 165.365415 239.758125 \nL 178.598617 239.758125 \nL 178.598617 239.612716 \nL 165.365415 239.612716 \nz\n\" style=\"fill:#1f77b4;\"/>\n   </g>\n   <g id=\"matplotlib.axis_9\">\n    <g id=\"xtick_13\">\n     <g id=\"line2d_45\">\n      <path clip-path=\"url(#p9bd943964f)\" d=\"M 60.535516 239.758125 \nL 60.535516 179.358125 \n\" style=\"fill:none;stroke:#b0b0b0;stroke-linecap:square;stroke-width:0.8;\"/>\n     </g>\n     <g id=\"line2d_46\">\n      <g>\n       <use style=\"stroke:#000000;stroke-width:0.8;\" x=\"60.535516\" xlink:href=\"#m148c294909\" y=\"239.758125\"/>\n      </g>\n     </g>\n     <g id=\"text_27\">\n      <!-- 150000 -->\n      <g transform=\"translate(41.448016 254.356562)scale(0.1 -0.1)\">\n       <use xlink:href=\"#DejaVuSans-31\"/>\n       <use x=\"63.623047\" xlink:href=\"#DejaVuSans-35\"/>\n       <use x=\"127.246094\" xlink:href=\"#DejaVuSans-30\"/>\n       <use x=\"190.869141\" xlink:href=\"#DejaVuSans-30\"/>\n       <use x=\"254.492188\" xlink:href=\"#DejaVuSans-30\"/>\n       <use x=\"318.115234\" xlink:href=\"#DejaVuSans-30\"/>\n      </g>\n     </g>\n    </g>\n    <g id=\"xtick_14\">\n     <g id=\"line2d_47\">\n      <path clip-path=\"url(#p9bd943964f)\" d=\"M 104.504675 239.758125 \nL 104.504675 179.358125 \n\" style=\"fill:none;stroke:#b0b0b0;stroke-linecap:square;stroke-width:0.8;\"/>\n     </g>\n     <g id=\"line2d_48\">\n      <g>\n       <use style=\"stroke:#000000;stroke-width:0.8;\" x=\"104.504675\" xlink:href=\"#m148c294909\" y=\"239.758125\"/>\n      </g>\n     </g>\n     <g id=\"text_28\">\n      <!-- 200000 -->\n      <g transform=\"translate(85.417175 254.356562)scale(0.1 -0.1)\">\n       <use xlink:href=\"#DejaVuSans-32\"/>\n       <use x=\"63.623047\" xlink:href=\"#DejaVuSans-30\"/>\n       <use x=\"127.246094\" xlink:href=\"#DejaVuSans-30\"/>\n       <use x=\"190.869141\" xlink:href=\"#DejaVuSans-30\"/>\n       <use x=\"254.492188\" xlink:href=\"#DejaVuSans-30\"/>\n       <use x=\"318.115234\" xlink:href=\"#DejaVuSans-30\"/>\n      </g>\n     </g>\n    </g>\n    <g id=\"xtick_15\">\n     <g id=\"line2d_49\">\n      <path clip-path=\"url(#p9bd943964f)\" d=\"M 148.473833 239.758125 \nL 148.473833 179.358125 \n\" style=\"fill:none;stroke:#b0b0b0;stroke-linecap:square;stroke-width:0.8;\"/>\n     </g>\n     <g id=\"line2d_50\">\n      <g>\n       <use style=\"stroke:#000000;stroke-width:0.8;\" x=\"148.473833\" xlink:href=\"#m148c294909\" y=\"239.758125\"/>\n      </g>\n     </g>\n     <g id=\"text_29\">\n      <!-- 250000 -->\n      <g transform=\"translate(129.386333 254.356562)scale(0.1 -0.1)\">\n       <use xlink:href=\"#DejaVuSans-32\"/>\n       <use x=\"63.623047\" xlink:href=\"#DejaVuSans-35\"/>\n       <use x=\"127.246094\" xlink:href=\"#DejaVuSans-30\"/>\n       <use x=\"190.869141\" xlink:href=\"#DejaVuSans-30\"/>\n       <use x=\"254.492188\" xlink:href=\"#DejaVuSans-30\"/>\n       <use x=\"318.115234\" xlink:href=\"#DejaVuSans-30\"/>\n      </g>\n     </g>\n    </g>\n   </g>\n   <g id=\"matplotlib.axis_10\">\n    <g id=\"ytick_11\">\n     <g id=\"line2d_51\">\n      <path clip-path=\"url(#p9bd943964f)\" d=\"M 39.65 239.758125 \nL 185.215217 239.758125 \n\" style=\"fill:none;stroke:#b0b0b0;stroke-linecap:square;stroke-width:0.8;\"/>\n     </g>\n     <g id=\"line2d_52\">\n      <g>\n       <use style=\"stroke:#000000;stroke-width:0.8;\" x=\"39.65\" xlink:href=\"#me02a22c558\" y=\"239.758125\"/>\n      </g>\n     </g>\n     <g id=\"text_30\">\n      <!-- 0 -->\n      <g transform=\"translate(26.2875 243.557344)scale(0.1 -0.1)\">\n       <use xlink:href=\"#DejaVuSans-30\"/>\n      </g>\n     </g>\n    </g>\n    <g id=\"ytick_12\">\n     <g id=\"line2d_53\">\n      <path clip-path=\"url(#p9bd943964f)\" d=\"M 39.65 210.67632 \nL 185.215217 210.67632 \n\" style=\"fill:none;stroke:#b0b0b0;stroke-linecap:square;stroke-width:0.8;\"/>\n     </g>\n     <g id=\"line2d_54\">\n      <g>\n       <use style=\"stroke:#000000;stroke-width:0.8;\" x=\"39.65\" xlink:href=\"#me02a22c558\" y=\"210.67632\"/>\n      </g>\n     </g>\n     <g id=\"text_31\">\n      <!-- 2000 -->\n      <g transform=\"translate(7.2 214.475539)scale(0.1 -0.1)\">\n       <use xlink:href=\"#DejaVuSans-32\"/>\n       <use x=\"63.623047\" xlink:href=\"#DejaVuSans-30\"/>\n       <use x=\"127.246094\" xlink:href=\"#DejaVuSans-30\"/>\n       <use x=\"190.869141\" xlink:href=\"#DejaVuSans-30\"/>\n      </g>\n     </g>\n    </g>\n    <g id=\"ytick_13\">\n     <g id=\"line2d_55\">\n      <path clip-path=\"url(#p9bd943964f)\" d=\"M 39.65 181.594516 \nL 185.215217 181.594516 \n\" style=\"fill:none;stroke:#b0b0b0;stroke-linecap:square;stroke-width:0.8;\"/>\n     </g>\n     <g id=\"line2d_56\">\n      <g>\n       <use style=\"stroke:#000000;stroke-width:0.8;\" x=\"39.65\" xlink:href=\"#me02a22c558\" y=\"181.594516\"/>\n      </g>\n     </g>\n     <g id=\"text_32\">\n      <!-- 4000 -->\n      <g transform=\"translate(7.2 185.393735)scale(0.1 -0.1)\">\n       <use xlink:href=\"#DejaVuSans-34\"/>\n       <use x=\"63.623047\" xlink:href=\"#DejaVuSans-30\"/>\n       <use x=\"127.246094\" xlink:href=\"#DejaVuSans-30\"/>\n       <use x=\"190.869141\" xlink:href=\"#DejaVuSans-30\"/>\n      </g>\n     </g>\n    </g>\n   </g>\n   <g id=\"patch_73\">\n    <path d=\"M 39.65 239.758125 \nL 39.65 179.358125 \n\" style=\"fill:none;stroke:#000000;stroke-linecap:square;stroke-linejoin:miter;stroke-width:0.8;\"/>\n   </g>\n   <g id=\"patch_74\">\n    <path d=\"M 185.215217 239.758125 \nL 185.215217 179.358125 \n\" style=\"fill:none;stroke:#000000;stroke-linecap:square;stroke-linejoin:miter;stroke-width:0.8;\"/>\n   </g>\n   <g id=\"patch_75\">\n    <path d=\"M 39.65 239.758125 \nL 185.215217 239.758125 \n\" style=\"fill:none;stroke:#000000;stroke-linecap:square;stroke-linejoin:miter;stroke-width:0.8;\"/>\n   </g>\n   <g id=\"patch_76\">\n    <path d=\"M 39.65 179.358125 \nL 185.215217 179.358125 \n\" style=\"fill:none;stroke:#000000;stroke-linecap:square;stroke-linejoin:miter;stroke-width:0.8;\"/>\n   </g>\n   <g id=\"text_33\">\n    <!-- ty -->\n    <g transform=\"translate(106.529171 173.358125)scale(0.12 -0.12)\">\n     <defs>\n      <path d=\"M 2059 -325 \nQ 1816 -950 1584 -1140 \nQ 1353 -1331 966 -1331 \nL 506 -1331 \nL 506 -850 \nL 844 -850 \nQ 1081 -850 1212 -737 \nQ 1344 -625 1503 -206 \nL 1606 56 \nL 191 3500 \nL 800 3500 \nL 1894 763 \nL 2988 3500 \nL 3597 3500 \nL 2059 -325 \nz\n\" id=\"DejaVuSans-79\" transform=\"scale(0.015625)\"/>\n     </defs>\n     <use xlink:href=\"#DejaVuSans-74\"/>\n     <use x=\"39.208984\" xlink:href=\"#DejaVuSans-79\"/>\n    </g>\n   </g>\n  </g>\n  <g id=\"axes_6\">\n   <g id=\"patch_77\">\n    <path d=\"M 228.884783 239.758125 \nL 374.45 239.758125 \nL 374.45 179.358125 \nL 228.884783 179.358125 \nz\n\" style=\"fill:#ffffff;\"/>\n   </g>\n   <g id=\"patch_78\">\n    <path clip-path=\"url(#p9ca21d53c0)\" d=\"M 235.501383 239.758125 \nL 248.734585 239.758125 \nL 248.734585 239.69915 \nL 235.501383 239.69915 \nz\n\" style=\"fill:#1f77b4;\"/>\n   </g>\n   <g id=\"patch_79\">\n    <path clip-path=\"url(#p9ca21d53c0)\" d=\"M 248.734585 239.758125 \nL 261.967787 239.758125 \nL 261.967787 239.392483 \nL 248.734585 239.392483 \nz\n\" style=\"fill:#1f77b4;\"/>\n   </g>\n   <g id=\"patch_80\">\n    <path clip-path=\"url(#p9ca21d53c0)\" d=\"M 261.967787 239.758125 \nL 275.200988 239.758125 \nL 275.200988 236.420164 \nL 261.967787 236.420164 \nz\n\" style=\"fill:#1f77b4;\"/>\n   </g>\n   <g id=\"patch_81\">\n    <path clip-path=\"url(#p9ca21d53c0)\" d=\"M 275.200988 239.758125 \nL 288.43419 239.758125 \nL 288.43419 220.379077 \nL 275.200988 220.379077 \nz\n\" style=\"fill:#1f77b4;\"/>\n   </g>\n   <g id=\"patch_82\">\n    <path clip-path=\"url(#p9ca21d53c0)\" d=\"M 288.43419 239.758125 \nL 301.667391 239.758125 \nL 301.667391 182.234315 \nL 288.43419 182.234315 \nz\n\" style=\"fill:#1f77b4;\"/>\n   </g>\n   <g id=\"patch_83\">\n    <path clip-path=\"url(#p9ca21d53c0)\" d=\"M 301.667391 239.758125 \nL 314.900593 239.758125 \nL 314.900593 202.250289 \nL 301.667391 202.250289 \nz\n\" style=\"fill:#1f77b4;\"/>\n   </g>\n   <g id=\"patch_84\">\n    <path clip-path=\"url(#p9ca21d53c0)\" d=\"M 314.900593 239.758125 \nL 328.133794 239.758125 \nL 328.133794 233.919641 \nL 314.900593 233.919641 \nz\n\" style=\"fill:#1f77b4;\"/>\n   </g>\n   <g id=\"patch_85\">\n    <path clip-path=\"url(#p9ca21d53c0)\" d=\"M 328.133794 239.758125 \nL 341.366996 239.758125 \nL 341.366996 239.062225 \nL 328.133794 239.062225 \nz\n\" style=\"fill:#1f77b4;\"/>\n   </g>\n   <g id=\"patch_86\">\n    <path clip-path=\"url(#p9ca21d53c0)\" d=\"M 341.366996 239.758125 \nL 354.600198 239.758125 \nL 354.600198 239.640176 \nL 341.366996 239.640176 \nz\n\" style=\"fill:#1f77b4;\"/>\n   </g>\n   <g id=\"patch_87\">\n    <path clip-path=\"url(#p9ca21d53c0)\" d=\"M 354.600198 239.758125 \nL 367.833399 239.758125 \nL 367.833399 239.72274 \nL 354.600198 239.72274 \nz\n\" style=\"fill:#1f77b4;\"/>\n   </g>\n   <g id=\"matplotlib.axis_11\">\n    <g id=\"xtick_16\">\n     <g id=\"line2d_57\">\n      <path clip-path=\"url(#p9ca21d53c0)\" d=\"M 255.066302 239.758125 \nL 255.066302 179.358125 \n\" style=\"fill:none;stroke:#b0b0b0;stroke-linecap:square;stroke-width:0.8;\"/>\n     </g>\n     <g id=\"line2d_58\">\n      <g>\n       <use style=\"stroke:#000000;stroke-width:0.8;\" x=\"255.066302\" xlink:href=\"#m148c294909\" y=\"239.758125\"/>\n      </g>\n     </g>\n     <g id=\"text_34\">\n      <!-- 1.0 -->\n      <g transform=\"translate(247.11474 254.356562)scale(0.1 -0.1)\">\n       <use xlink:href=\"#DejaVuSans-31\"/>\n       <use x=\"63.623047\" xlink:href=\"#DejaVuSans-2e\"/>\n       <use x=\"95.410156\" xlink:href=\"#DejaVuSans-30\"/>\n      </g>\n     </g>\n    </g>\n    <g id=\"xtick_17\">\n     <g id=\"line2d_59\">\n      <path clip-path=\"url(#p9ca21d53c0)\" d=\"M 299.89048 239.758125 \nL 299.89048 179.358125 \n\" style=\"fill:none;stroke:#b0b0b0;stroke-linecap:square;stroke-width:0.8;\"/>\n     </g>\n     <g id=\"line2d_60\">\n      <g>\n       <use style=\"stroke:#000000;stroke-width:0.8;\" x=\"299.89048\" xlink:href=\"#m148c294909\" y=\"239.758125\"/>\n      </g>\n     </g>\n     <g id=\"text_35\">\n      <!-- 1.5 -->\n      <g transform=\"translate(291.938917 254.356562)scale(0.1 -0.1)\">\n       <use xlink:href=\"#DejaVuSans-31\"/>\n       <use x=\"63.623047\" xlink:href=\"#DejaVuSans-2e\"/>\n       <use x=\"95.410156\" xlink:href=\"#DejaVuSans-35\"/>\n      </g>\n     </g>\n    </g>\n    <g id=\"xtick_18\">\n     <g id=\"line2d_61\">\n      <path clip-path=\"url(#p9ca21d53c0)\" d=\"M 344.714657 239.758125 \nL 344.714657 179.358125 \n\" style=\"fill:none;stroke:#b0b0b0;stroke-linecap:square;stroke-width:0.8;\"/>\n     </g>\n     <g id=\"line2d_62\">\n      <g>\n       <use style=\"stroke:#000000;stroke-width:0.8;\" x=\"344.714657\" xlink:href=\"#m148c294909\" y=\"239.758125\"/>\n      </g>\n     </g>\n     <g id=\"text_36\">\n      <!-- 2.0 -->\n      <g transform=\"translate(336.763095 254.356562)scale(0.1 -0.1)\">\n       <use xlink:href=\"#DejaVuSans-32\"/>\n       <use x=\"63.623047\" xlink:href=\"#DejaVuSans-2e\"/>\n       <use x=\"95.410156\" xlink:href=\"#DejaVuSans-30\"/>\n      </g>\n     </g>\n    </g>\n    <g id=\"text_37\">\n     <!-- 1e6 -->\n     <g transform=\"translate(355.571875 267.034687)scale(0.1 -0.1)\">\n      <defs>\n       <path d=\"M 2113 2584 \nQ 1688 2584 1439 2293 \nQ 1191 2003 1191 1497 \nQ 1191 994 1439 701 \nQ 1688 409 2113 409 \nQ 2538 409 2786 701 \nQ 3034 994 3034 1497 \nQ 3034 2003 2786 2293 \nQ 2538 2584 2113 2584 \nz\nM 3366 4563 \nL 3366 3988 \nQ 3128 4100 2886 4159 \nQ 2644 4219 2406 4219 \nQ 1781 4219 1451 3797 \nQ 1122 3375 1075 2522 \nQ 1259 2794 1537 2939 \nQ 1816 3084 2150 3084 \nQ 2853 3084 3261 2657 \nQ 3669 2231 3669 1497 \nQ 3669 778 3244 343 \nQ 2819 -91 2113 -91 \nQ 1303 -91 875 529 \nQ 447 1150 447 2328 \nQ 447 3434 972 4092 \nQ 1497 4750 2381 4750 \nQ 2619 4750 2861 4703 \nQ 3103 4656 3366 4563 \nz\n\" id=\"DejaVuSans-36\" transform=\"scale(0.015625)\"/>\n      </defs>\n      <use xlink:href=\"#DejaVuSans-31\"/>\n      <use x=\"63.623047\" xlink:href=\"#DejaVuSans-65\"/>\n      <use x=\"125.146484\" xlink:href=\"#DejaVuSans-36\"/>\n     </g>\n    </g>\n   </g>\n   <g id=\"matplotlib.axis_12\">\n    <g id=\"ytick_14\">\n     <g id=\"line2d_63\">\n      <path clip-path=\"url(#p9ca21d53c0)\" d=\"M 228.884783 239.758125 \nL 374.45 239.758125 \n\" style=\"fill:none;stroke:#b0b0b0;stroke-linecap:square;stroke-width:0.8;\"/>\n     </g>\n     <g id=\"line2d_64\">\n      <g>\n       <use style=\"stroke:#000000;stroke-width:0.8;\" x=\"228.884783\" xlink:href=\"#me02a22c558\" y=\"239.758125\"/>\n      </g>\n     </g>\n     <g id=\"text_38\">\n      <!-- 0 -->\n      <g transform=\"translate(215.522283 243.557344)scale(0.1 -0.1)\">\n       <use xlink:href=\"#DejaVuSans-30\"/>\n      </g>\n     </g>\n    </g>\n    <g id=\"ytick_15\">\n     <g id=\"line2d_65\">\n      <path clip-path=\"url(#p9ca21d53c0)\" d=\"M 228.884783 216.168291 \nL 374.45 216.168291 \n\" style=\"fill:none;stroke:#b0b0b0;stroke-linecap:square;stroke-width:0.8;\"/>\n     </g>\n     <g id=\"line2d_66\">\n      <g>\n       <use style=\"stroke:#000000;stroke-width:0.8;\" x=\"228.884783\" xlink:href=\"#me02a22c558\" y=\"216.168291\"/>\n      </g>\n     </g>\n     <g id=\"text_39\">\n      <!-- 2000 -->\n      <g transform=\"translate(196.434783 219.96751)scale(0.1 -0.1)\">\n       <use xlink:href=\"#DejaVuSans-32\"/>\n       <use x=\"63.623047\" xlink:href=\"#DejaVuSans-30\"/>\n       <use x=\"127.246094\" xlink:href=\"#DejaVuSans-30\"/>\n       <use x=\"190.869141\" xlink:href=\"#DejaVuSans-30\"/>\n      </g>\n     </g>\n    </g>\n    <g id=\"ytick_16\">\n     <g id=\"line2d_67\">\n      <path clip-path=\"url(#p9ca21d53c0)\" d=\"M 228.884783 192.578458 \nL 374.45 192.578458 \n\" style=\"fill:none;stroke:#b0b0b0;stroke-linecap:square;stroke-width:0.8;\"/>\n     </g>\n     <g id=\"line2d_68\">\n      <g>\n       <use style=\"stroke:#000000;stroke-width:0.8;\" x=\"228.884783\" xlink:href=\"#me02a22c558\" y=\"192.578458\"/>\n      </g>\n     </g>\n     <g id=\"text_40\">\n      <!-- 4000 -->\n      <g transform=\"translate(196.434783 196.377676)scale(0.1 -0.1)\">\n       <use xlink:href=\"#DejaVuSans-34\"/>\n       <use x=\"63.623047\" xlink:href=\"#DejaVuSans-30\"/>\n       <use x=\"127.246094\" xlink:href=\"#DejaVuSans-30\"/>\n       <use x=\"190.869141\" xlink:href=\"#DejaVuSans-30\"/>\n      </g>\n     </g>\n    </g>\n   </g>\n   <g id=\"patch_88\">\n    <path d=\"M 228.884783 239.758125 \nL 228.884783 179.358125 \n\" style=\"fill:none;stroke:#000000;stroke-linecap:square;stroke-linejoin:miter;stroke-width:0.8;\"/>\n   </g>\n   <g id=\"patch_89\">\n    <path d=\"M 374.45 239.758125 \nL 374.45 179.358125 \n\" style=\"fill:none;stroke:#000000;stroke-linecap:square;stroke-linejoin:miter;stroke-width:0.8;\"/>\n   </g>\n   <g id=\"patch_90\">\n    <path d=\"M 228.884783 239.758125 \nL 374.45 239.758125 \n\" style=\"fill:none;stroke:#000000;stroke-linecap:square;stroke-linejoin:miter;stroke-width:0.8;\"/>\n   </g>\n   <g id=\"patch_91\">\n    <path d=\"M 228.884783 179.358125 \nL 374.45 179.358125 \n\" style=\"fill:none;stroke:#000000;stroke-linecap:square;stroke-linejoin:miter;stroke-width:0.8;\"/>\n   </g>\n   <g id=\"text_41\">\n    <!-- tz -->\n    <g transform=\"translate(296.166141 173.358125)scale(0.12 -0.12)\">\n     <defs>\n      <path d=\"M 353 3500 \nL 3084 3500 \nL 3084 2975 \nL 922 459 \nL 3084 459 \nL 3084 0 \nL 275 0 \nL 275 525 \nL 2438 3041 \nL 353 3041 \nL 353 3500 \nz\n\" id=\"DejaVuSans-7a\" transform=\"scale(0.015625)\"/>\n     </defs>\n     <use xlink:href=\"#DejaVuSans-74\"/>\n     <use x=\"39.208984\" xlink:href=\"#DejaVuSans-7a\"/>\n    </g>\n   </g>\n  </g>\n </g>\n <defs>\n  <clipPath id=\"pb0e9dd59ff\">\n   <rect height=\"60.4\" width=\"145.565217\" x=\"39.65\" y=\"22.318125\"/>\n  </clipPath>\n  <clipPath id=\"pdb091861f2\">\n   <rect height=\"60.4\" width=\"145.565217\" x=\"228.884783\" y=\"22.318125\"/>\n  </clipPath>\n  <clipPath id=\"pe4969c5436\">\n   <rect height=\"60.4\" width=\"145.565217\" x=\"39.65\" y=\"100.838125\"/>\n  </clipPath>\n  <clipPath id=\"p35e177c0bc\">\n   <rect height=\"60.4\" width=\"145.565217\" x=\"228.884783\" y=\"100.838125\"/>\n  </clipPath>\n  <clipPath id=\"p9bd943964f\">\n   <rect height=\"60.4\" width=\"145.565217\" x=\"39.65\" y=\"179.358125\"/>\n  </clipPath>\n  <clipPath id=\"p9ca21d53c0\">\n   <rect height=\"60.4\" width=\"145.565217\" x=\"228.884783\" y=\"179.358125\"/>\n  </clipPath>\n </defs>\n</svg>\n",
      "image/png": "[encoded data removed]"
     },
     "metadata": {
      "needs_background": "light"
     }
    },
    {
     "output_type": "display_data",
     "data": {
      "text/plain": [
       "<Figure size 432x288 with 6 Axes>"
      ],
      "image/svg+xml": "<?xml version=\"1.0\" encoding=\"utf-8\" standalone=\"no\"?>\n<!DOCTYPE svg PUBLIC \"-//W3C//DTD SVG 1.1//EN\"\n  \"http://www.w3.org/Graphics/SVG/1.1/DTD/svg11.dtd\">\n<svg height=\"276.314375pt\" version=\"1.1\" viewBox=\"0 0 397.62792 276.314375\" width=\"397.62792pt\" xmlns=\"http://www.w3.org/2000/svg\" xmlns:xlink=\"http://www.w3.org/1999/xlink\">\n <metadata>\n  <rdf:RDF xmlns:cc=\"http://creativecommons.org/ns#\" xmlns:dc=\"http://purl.org/dc/elements/1.1/\" xmlns:rdf=\"http://www.w3.org/1999/02/22-rdf-syntax-ns#\">\n   <cc:Work>\n    <dc:type rdf:resource=\"http://purl.org/dc/dcmitype/StillImage\"/>\n    <dc:date>2021-09-02T22:15:55.597847</dc:date>\n    <dc:format>image/svg+xml</dc:format>\n    <dc:creator>\n     <cc:Agent>\n      <dc:title>Matplotlib v3.4.1, https://matplotlib.org/</dc:title>\n     </cc:Agent>\n    </dc:creator>\n   </cc:Work>\n  </rdf:RDF>\n </metadata>\n <defs>\n  <style type=\"text/css\">*{stroke-linecap:butt;stroke-linejoin:round;}</style>\n </defs>\n <g id=\"figure_1\">\n  <g id=\"patch_1\">\n   <path d=\"M -0 276.314375 \nL 397.62792 276.314375 \nL 397.62792 0 \nL -0 0 \nz\n\" style=\"fill:none;\"/>\n  </g>\n  <g id=\"axes_1\">\n   <g id=\"patch_2\">\n    <path d=\"M 39.65 82.718125 \nL 185.215217 82.718125 \nL 185.215217 22.318125 \nL 39.65 22.318125 \nz\n\" style=\"fill:#ffffff;\"/>\n   </g>\n   <g id=\"patch_3\">\n    <path clip-path=\"url(#p4b6dcd62fc)\" d=\"M 46.266601 82.718125 \nL 59.499802 82.718125 \nL 59.499802 82.532963 \nL 46.266601 82.532963 \nz\n\" style=\"fill:#1f77b4;\"/>\n   </g>\n   <g id=\"patch_4\">\n    <path clip-path=\"url(#p4b6dcd62fc)\" d=\"M 59.499802 82.718125 \nL 72.733004 82.718125 \nL 72.733004 82.039196 \nL 59.499802 82.039196 \nz\n\" style=\"fill:#1f77b4;\"/>\n   </g>\n   <g id=\"patch_5\">\n    <path clip-path=\"url(#p4b6dcd62fc)\" d=\"M 72.733004 82.718125 \nL 85.966206 82.718125 \nL 85.966206 78.706271 \nL 72.733004 78.706271 \nz\n\" style=\"fill:#1f77b4;\"/>\n   </g>\n   <g id=\"patch_6\">\n    <path clip-path=\"url(#p4b6dcd62fc)\" d=\"M 85.966206 82.718125 \nL 99.199407 82.718125 \nL 99.199407 68.15201 \nL 85.966206 68.15201 \nz\n\" style=\"fill:#1f77b4;\"/>\n   </g>\n   <g id=\"patch_7\">\n    <path clip-path=\"url(#p4b6dcd62fc)\" d=\"M 99.199407 82.718125 \nL 112.432609 82.718125 \nL 112.432609 42.414426 \nL 99.199407 42.414426 \nz\n\" style=\"fill:#1f77b4;\"/>\n   </g>\n   <g id=\"patch_8\">\n    <path clip-path=\"url(#p4b6dcd62fc)\" d=\"M 112.432609 82.718125 \nL 125.66581 82.718125 \nL 125.66581 25.194315 \nL 112.432609 25.194315 \nz\n\" style=\"fill:#1f77b4;\"/>\n   </g>\n   <g id=\"patch_9\">\n    <path clip-path=\"url(#p4b6dcd62fc)\" d=\"M 125.66581 82.718125 \nL 138.899012 82.718125 \nL 138.899012 48.401346 \nL 125.66581 48.401346 \nz\n\" style=\"fill:#1f77b4;\"/>\n   </g>\n   <g id=\"patch_10\">\n    <path clip-path=\"url(#p4b6dcd62fc)\" d=\"M 138.899012 82.718125 \nL 152.132213 82.718125 \nL 152.132213 73.213118 \nL 138.899012 73.213118 \nz\n\" style=\"fill:#1f77b4;\"/>\n   </g>\n   <g id=\"patch_11\">\n    <path clip-path=\"url(#p4b6dcd62fc)\" d=\"M 152.132213 82.718125 \nL 165.365415 82.718125 \nL 165.365415 80.619617 \nL 152.132213 80.619617 \nz\n\" style=\"fill:#1f77b4;\"/>\n   </g>\n   <g id=\"patch_12\">\n    <path clip-path=\"url(#p4b6dcd62fc)\" d=\"M 165.365415 82.718125 \nL 178.598617 82.718125 \nL 178.598617 82.532963 \nL 165.365415 82.532963 \nz\n\" style=\"fill:#1f77b4;\"/>\n   </g>\n   <g id=\"matplotlib.axis_1\">\n    <g id=\"xtick_1\">\n     <g id=\"line2d_1\">\n      <path clip-path=\"url(#p4b6dcd62fc)\" d=\"M 61.015858 82.718125 \nL 61.015858 22.318125 \n\" style=\"fill:none;stroke:#b0b0b0;stroke-linecap:square;stroke-width:0.8;\"/>\n     </g>\n     <g id=\"line2d_2\">\n      <defs>\n       <path d=\"M 0 0 \nL 0 3.5 \n\" id=\"mffc2dd8e62\" style=\"stroke:#000000;stroke-width:0.8;\"/>\n      </defs>\n      <g>\n       <use style=\"stroke:#000000;stroke-width:0.8;\" x=\"61.015858\" xlink:href=\"#mffc2dd8e62\" y=\"82.718125\"/>\n      </g>\n     </g>\n     <g id=\"text_1\">\n      <!-- −0.5 -->\n      <g transform=\"translate(48.874452 97.316562)scale(0.1 -0.1)\">\n       <defs>\n        <path d=\"M 678 2272 \nL 4684 2272 \nL 4684 1741 \nL 678 1741 \nL 678 2272 \nz\n\" id=\"DejaVuSans-2212\" transform=\"scale(0.015625)\"/>\n        <path d=\"M 2034 4250 \nQ 1547 4250 1301 3770 \nQ 1056 3291 1056 2328 \nQ 1056 1369 1301 889 \nQ 1547 409 2034 409 \nQ 2525 409 2770 889 \nQ 3016 1369 3016 2328 \nQ 3016 3291 2770 3770 \nQ 2525 4250 2034 4250 \nz\nM 2034 4750 \nQ 2819 4750 3233 4129 \nQ 3647 3509 3647 2328 \nQ 3647 1150 3233 529 \nQ 2819 -91 2034 -91 \nQ 1250 -91 836 529 \nQ 422 1150 422 2328 \nQ 422 3509 836 4129 \nQ 1250 4750 2034 4750 \nz\n\" id=\"DejaVuSans-30\" transform=\"scale(0.015625)\"/>\n        <path d=\"M 684 794 \nL 1344 794 \nL 1344 0 \nL 684 0 \nL 684 794 \nz\n\" id=\"DejaVuSans-2e\" transform=\"scale(0.015625)\"/>\n        <path d=\"M 691 4666 \nL 3169 4666 \nL 3169 4134 \nL 1269 4134 \nL 1269 2991 \nQ 1406 3038 1543 3061 \nQ 1681 3084 1819 3084 \nQ 2600 3084 3056 2656 \nQ 3513 2228 3513 1497 \nQ 3513 744 3044 326 \nQ 2575 -91 1722 -91 \nQ 1428 -91 1123 -41 \nQ 819 9 494 109 \nL 494 744 \nQ 775 591 1075 516 \nQ 1375 441 1709 441 \nQ 2250 441 2565 725 \nQ 2881 1009 2881 1497 \nQ 2881 1984 2565 2268 \nQ 2250 2553 1709 2553 \nQ 1456 2553 1204 2497 \nQ 953 2441 691 2322 \nL 691 4666 \nz\n\" id=\"DejaVuSans-35\" transform=\"scale(0.015625)\"/>\n       </defs>\n       <use xlink:href=\"#DejaVuSans-2212\"/>\n       <use x=\"83.789062\" xlink:href=\"#DejaVuSans-30\"/>\n       <use x=\"147.412109\" xlink:href=\"#DejaVuSans-2e\"/>\n       <use x=\"179.199219\" xlink:href=\"#DejaVuSans-35\"/>\n      </g>\n     </g>\n    </g>\n    <g id=\"xtick_2\">\n     <g id=\"line2d_3\">\n      <path clip-path=\"url(#p4b6dcd62fc)\" d=\"M 120.228486 82.718125 \nL 120.228486 22.318125 \n\" style=\"fill:none;stroke:#b0b0b0;stroke-linecap:square;stroke-width:0.8;\"/>\n     </g>\n     <g id=\"line2d_4\">\n      <g>\n       <use style=\"stroke:#000000;stroke-width:0.8;\" x=\"120.228486\" xlink:href=\"#mffc2dd8e62\" y=\"82.718125\"/>\n      </g>\n     </g>\n     <g id=\"text_2\">\n      <!-- 0.0 -->\n      <g transform=\"translate(112.276923 97.316562)scale(0.1 -0.1)\">\n       <use xlink:href=\"#DejaVuSans-30\"/>\n       <use x=\"63.623047\" xlink:href=\"#DejaVuSans-2e\"/>\n       <use x=\"95.410156\" xlink:href=\"#DejaVuSans-30\"/>\n      </g>\n     </g>\n    </g>\n    <g id=\"xtick_3\">\n     <g id=\"line2d_5\">\n      <path clip-path=\"url(#p4b6dcd62fc)\" d=\"M 179.441114 82.718125 \nL 179.441114 22.318125 \n\" style=\"fill:none;stroke:#b0b0b0;stroke-linecap:square;stroke-width:0.8;\"/>\n     </g>\n     <g id=\"line2d_6\">\n      <g>\n       <use style=\"stroke:#000000;stroke-width:0.8;\" x=\"179.441114\" xlink:href=\"#mffc2dd8e62\" y=\"82.718125\"/>\n      </g>\n     </g>\n     <g id=\"text_3\">\n      <!-- 0.5 -->\n      <g transform=\"translate(171.489552 97.316562)scale(0.1 -0.1)\">\n       <use xlink:href=\"#DejaVuSans-30\"/>\n       <use x=\"63.623047\" xlink:href=\"#DejaVuSans-2e\"/>\n       <use x=\"95.410156\" xlink:href=\"#DejaVuSans-35\"/>\n      </g>\n     </g>\n    </g>\n   </g>\n   <g id=\"matplotlib.axis_2\">\n    <g id=\"ytick_1\">\n     <g id=\"line2d_7\">\n      <path clip-path=\"url(#p4b6dcd62fc)\" d=\"M 39.65 82.718125 \nL 185.215217 82.718125 \n\" style=\"fill:none;stroke:#b0b0b0;stroke-linecap:square;stroke-width:0.8;\"/>\n     </g>\n     <g id=\"line2d_8\">\n      <defs>\n       <path d=\"M 0 0 \nL -3.5 0 \n\" id=\"m12ee6b835d\" style=\"stroke:#000000;stroke-width:0.8;\"/>\n      </defs>\n      <g>\n       <use style=\"stroke:#000000;stroke-width:0.8;\" x=\"39.65\" xlink:href=\"#m12ee6b835d\" y=\"82.718125\"/>\n      </g>\n     </g>\n     <g id=\"text_4\">\n      <!-- 0 -->\n      <g transform=\"translate(26.2875 86.517344)scale(0.1 -0.1)\">\n       <use xlink:href=\"#DejaVuSans-30\"/>\n      </g>\n     </g>\n    </g>\n    <g id=\"ytick_2\">\n     <g id=\"line2d_9\">\n      <path clip-path=\"url(#p4b6dcd62fc)\" d=\"M 39.65 51.857712 \nL 185.215217 51.857712 \n\" style=\"fill:none;stroke:#b0b0b0;stroke-linecap:square;stroke-width:0.8;\"/>\n     </g>\n     <g id=\"line2d_10\">\n      <g>\n       <use style=\"stroke:#000000;stroke-width:0.8;\" x=\"39.65\" xlink:href=\"#m12ee6b835d\" y=\"51.857712\"/>\n      </g>\n     </g>\n     <g id=\"text_5\">\n      <!-- 500 -->\n      <g transform=\"translate(13.5625 55.656931)scale(0.1 -0.1)\">\n       <use xlink:href=\"#DejaVuSans-35\"/>\n       <use x=\"63.623047\" xlink:href=\"#DejaVuSans-30\"/>\n       <use x=\"127.246094\" xlink:href=\"#DejaVuSans-30\"/>\n      </g>\n     </g>\n    </g>\n   </g>\n   <g id=\"patch_13\">\n    <path d=\"M 39.65 82.718125 \nL 39.65 22.318125 \n\" style=\"fill:none;stroke:#000000;stroke-linecap:square;stroke-linejoin:miter;stroke-width:0.8;\"/>\n   </g>\n   <g id=\"patch_14\">\n    <path d=\"M 185.215217 82.718125 \nL 185.215217 22.318125 \n\" style=\"fill:none;stroke:#000000;stroke-linecap:square;stroke-linejoin:miter;stroke-width:0.8;\"/>\n   </g>\n   <g id=\"patch_15\">\n    <path d=\"M 39.65 82.718125 \nL 185.215217 82.718125 \n\" style=\"fill:none;stroke:#000000;stroke-linecap:square;stroke-linejoin:miter;stroke-width:0.8;\"/>\n   </g>\n   <g id=\"patch_16\">\n    <path d=\"M 39.65 22.318125 \nL 185.215217 22.318125 \n\" style=\"fill:none;stroke:#000000;stroke-linecap:square;stroke-linejoin:miter;stroke-width:0.8;\"/>\n   </g>\n   <g id=\"text_6\">\n    <!-- alpha -->\n    <g transform=\"translate(95.800421 16.318125)scale(0.12 -0.12)\">\n     <defs>\n      <path d=\"M 2194 1759 \nQ 1497 1759 1228 1600 \nQ 959 1441 959 1056 \nQ 959 750 1161 570 \nQ 1363 391 1709 391 \nQ 2188 391 2477 730 \nQ 2766 1069 2766 1631 \nL 2766 1759 \nL 2194 1759 \nz\nM 3341 1997 \nL 3341 0 \nL 2766 0 \nL 2766 531 \nQ 2569 213 2275 61 \nQ 1981 -91 1556 -91 \nQ 1019 -91 701 211 \nQ 384 513 384 1019 \nQ 384 1609 779 1909 \nQ 1175 2209 1959 2209 \nL 2766 2209 \nL 2766 2266 \nQ 2766 2663 2505 2880 \nQ 2244 3097 1772 3097 \nQ 1472 3097 1187 3025 \nQ 903 2953 641 2809 \nL 641 3341 \nQ 956 3463 1253 3523 \nQ 1550 3584 1831 3584 \nQ 2591 3584 2966 3190 \nQ 3341 2797 3341 1997 \nz\n\" id=\"DejaVuSans-61\" transform=\"scale(0.015625)\"/>\n      <path d=\"M 603 4863 \nL 1178 4863 \nL 1178 0 \nL 603 0 \nL 603 4863 \nz\n\" id=\"DejaVuSans-6c\" transform=\"scale(0.015625)\"/>\n      <path d=\"M 1159 525 \nL 1159 -1331 \nL 581 -1331 \nL 581 3500 \nL 1159 3500 \nL 1159 2969 \nQ 1341 3281 1617 3432 \nQ 1894 3584 2278 3584 \nQ 2916 3584 3314 3078 \nQ 3713 2572 3713 1747 \nQ 3713 922 3314 415 \nQ 2916 -91 2278 -91 \nQ 1894 -91 1617 61 \nQ 1341 213 1159 525 \nz\nM 3116 1747 \nQ 3116 2381 2855 2742 \nQ 2594 3103 2138 3103 \nQ 1681 3103 1420 2742 \nQ 1159 2381 1159 1747 \nQ 1159 1113 1420 752 \nQ 1681 391 2138 391 \nQ 2594 391 2855 752 \nQ 3116 1113 3116 1747 \nz\n\" id=\"DejaVuSans-70\" transform=\"scale(0.015625)\"/>\n      <path d=\"M 3513 2113 \nL 3513 0 \nL 2938 0 \nL 2938 2094 \nQ 2938 2591 2744 2837 \nQ 2550 3084 2163 3084 \nQ 1697 3084 1428 2787 \nQ 1159 2491 1159 1978 \nL 1159 0 \nL 581 0 \nL 581 4863 \nL 1159 4863 \nL 1159 2956 \nQ 1366 3272 1645 3428 \nQ 1925 3584 2291 3584 \nQ 2894 3584 3203 3211 \nQ 3513 2838 3513 2113 \nz\n\" id=\"DejaVuSans-68\" transform=\"scale(0.015625)\"/>\n     </defs>\n     <use xlink:href=\"#DejaVuSans-61\"/>\n     <use x=\"61.279297\" xlink:href=\"#DejaVuSans-6c\"/>\n     <use x=\"89.0625\" xlink:href=\"#DejaVuSans-70\"/>\n     <use x=\"152.539062\" xlink:href=\"#DejaVuSans-68\"/>\n     <use x=\"215.917969\" xlink:href=\"#DejaVuSans-61\"/>\n    </g>\n   </g>\n  </g>\n  <g id=\"axes_2\">\n   <g id=\"patch_17\">\n    <path d=\"M 228.884783 82.718125 \nL 374.45 82.718125 \nL 374.45 22.318125 \nL 228.884783 22.318125 \nz\n\" style=\"fill:#ffffff;\"/>\n   </g>\n   <g id=\"patch_18\">\n    <path clip-path=\"url(#p1da36cc89e)\" d=\"M 235.501383 82.718125 \nL 248.734585 82.718125 \nL 248.734585 81.976839 \nL 235.501383 81.976839 \nz\n\" style=\"fill:#1f77b4;\"/>\n   </g>\n   <g id=\"patch_19\">\n    <path clip-path=\"url(#p1da36cc89e)\" d=\"M 248.734585 82.718125 \nL 261.967787 82.718125 \nL 261.967787 80.939038 \nL 248.734585 80.939038 \nz\n\" style=\"fill:#1f77b4;\"/>\n   </g>\n   <g id=\"patch_20\">\n    <path clip-path=\"url(#p1da36cc89e)\" d=\"M 261.967787 82.718125 \nL 275.200988 82.718125 \nL 275.200988 74.712234 \nL 261.967787 74.712234 \nz\n\" style=\"fill:#1f77b4;\"/>\n   </g>\n   <g id=\"patch_21\">\n    <path clip-path=\"url(#p1da36cc89e)\" d=\"M 275.200988 82.718125 \nL 288.43419 82.718125 \nL 288.43419 52.473648 \nL 275.200988 52.473648 \nz\n\" style=\"fill:#1f77b4;\"/>\n   </g>\n   <g id=\"patch_22\">\n    <path clip-path=\"url(#p1da36cc89e)\" d=\"M 288.43419 82.718125 \nL 301.667391 82.718125 \nL 301.667391 25.194315 \nL 288.43419 25.194315 \nz\n\" style=\"fill:#1f77b4;\"/>\n   </g>\n   <g id=\"patch_23\">\n    <path clip-path=\"url(#p1da36cc89e)\" d=\"M 301.667391 82.718125 \nL 314.900593 82.718125 \nL 314.900593 25.935602 \nL 301.667391 25.935602 \nz\n\" style=\"fill:#1f77b4;\"/>\n   </g>\n   <g id=\"patch_24\">\n    <path clip-path=\"url(#p1da36cc89e)\" d=\"M 314.900593 82.718125 \nL 328.133794 82.718125 \nL 328.133794 54.326863 \nL 314.900593 54.326863 \nz\n\" style=\"fill:#1f77b4;\"/>\n   </g>\n   <g id=\"patch_25\">\n    <path clip-path=\"url(#p1da36cc89e)\" d=\"M 328.133794 82.718125 \nL 341.366996 82.718125 \nL 341.366996 73.377919 \nL 328.133794 73.377919 \nz\n\" style=\"fill:#1f77b4;\"/>\n   </g>\n   <g id=\"patch_26\">\n    <path clip-path=\"url(#p1da36cc89e)\" d=\"M 341.366996 82.718125 \nL 354.600198 82.718125 \nL 354.600198 79.75298 \nL 341.366996 79.75298 \nz\n\" style=\"fill:#1f77b4;\"/>\n   </g>\n   <g id=\"patch_27\">\n    <path clip-path=\"url(#p1da36cc89e)\" d=\"M 354.600198 82.718125 \nL 367.833399 82.718125 \nL 367.833399 82.273353 \nL 354.600198 82.273353 \nz\n\" style=\"fill:#1f77b4;\"/>\n   </g>\n   <g id=\"matplotlib.axis_3\">\n    <g id=\"xtick_4\">\n     <g id=\"line2d_11\">\n      <path clip-path=\"url(#p1da36cc89e)\" d=\"M 253.011208 82.718125 \nL 253.011208 22.318125 \n\" style=\"fill:none;stroke:#b0b0b0;stroke-linecap:square;stroke-width:0.8;\"/>\n     </g>\n     <g id=\"line2d_12\">\n      <g>\n       <use style=\"stroke:#000000;stroke-width:0.8;\" x=\"253.011208\" xlink:href=\"#mffc2dd8e62\" y=\"82.718125\"/>\n      </g>\n     </g>\n     <g id=\"text_7\">\n      <!-- −0.5 -->\n      <g transform=\"translate(240.869802 97.316562)scale(0.1 -0.1)\">\n       <use xlink:href=\"#DejaVuSans-2212\"/>\n       <use x=\"83.789062\" xlink:href=\"#DejaVuSans-30\"/>\n       <use x=\"147.412109\" xlink:href=\"#DejaVuSans-2e\"/>\n       <use x=\"179.199219\" xlink:href=\"#DejaVuSans-35\"/>\n      </g>\n     </g>\n    </g>\n    <g id=\"xtick_5\">\n     <g id=\"line2d_13\">\n      <path clip-path=\"url(#p1da36cc89e)\" d=\"M 292.712432 82.718125 \nL 292.712432 22.318125 \n\" style=\"fill:none;stroke:#b0b0b0;stroke-linecap:square;stroke-width:0.8;\"/>\n     </g>\n     <g id=\"line2d_14\">\n      <g>\n       <use style=\"stroke:#000000;stroke-width:0.8;\" x=\"292.712432\" xlink:href=\"#mffc2dd8e62\" y=\"82.718125\"/>\n      </g>\n     </g>\n     <g id=\"text_8\">\n      <!-- 0.0 -->\n      <g transform=\"translate(284.76087 97.316562)scale(0.1 -0.1)\">\n       <use xlink:href=\"#DejaVuSans-30\"/>\n       <use x=\"63.623047\" xlink:href=\"#DejaVuSans-2e\"/>\n       <use x=\"95.410156\" xlink:href=\"#DejaVuSans-30\"/>\n      </g>\n     </g>\n    </g>\n    <g id=\"xtick_6\">\n     <g id=\"line2d_15\">\n      <path clip-path=\"url(#p1da36cc89e)\" d=\"M 332.413657 82.718125 \nL 332.413657 22.318125 \n\" style=\"fill:none;stroke:#b0b0b0;stroke-linecap:square;stroke-width:0.8;\"/>\n     </g>\n     <g id=\"line2d_16\">\n      <g>\n       <use style=\"stroke:#000000;stroke-width:0.8;\" x=\"332.413657\" xlink:href=\"#mffc2dd8e62\" y=\"82.718125\"/>\n      </g>\n     </g>\n     <g id=\"text_9\">\n      <!-- 0.5 -->\n      <g transform=\"translate(324.462094 97.316562)scale(0.1 -0.1)\">\n       <use xlink:href=\"#DejaVuSans-30\"/>\n       <use x=\"63.623047\" xlink:href=\"#DejaVuSans-2e\"/>\n       <use x=\"95.410156\" xlink:href=\"#DejaVuSans-35\"/>\n      </g>\n     </g>\n    </g>\n    <g id=\"xtick_7\">\n     <g id=\"line2d_17\">\n      <path clip-path=\"url(#p1da36cc89e)\" d=\"M 372.114881 82.718125 \nL 372.114881 22.318125 \n\" style=\"fill:none;stroke:#b0b0b0;stroke-linecap:square;stroke-width:0.8;\"/>\n     </g>\n     <g id=\"line2d_18\">\n      <g>\n       <use style=\"stroke:#000000;stroke-width:0.8;\" x=\"372.114881\" xlink:href=\"#mffc2dd8e62\" y=\"82.718125\"/>\n      </g>\n     </g>\n     <g id=\"text_10\">\n      <!-- 1.0 -->\n      <g transform=\"translate(364.163318 97.316562)scale(0.1 -0.1)\">\n       <defs>\n        <path d=\"M 794 531 \nL 1825 531 \nL 1825 4091 \nL 703 3866 \nL 703 4441 \nL 1819 4666 \nL 2450 4666 \nL 2450 531 \nL 3481 531 \nL 3481 0 \nL 794 0 \nL 794 531 \nz\n\" id=\"DejaVuSans-31\" transform=\"scale(0.015625)\"/>\n       </defs>\n       <use xlink:href=\"#DejaVuSans-31\"/>\n       <use x=\"63.623047\" xlink:href=\"#DejaVuSans-2e\"/>\n       <use x=\"95.410156\" xlink:href=\"#DejaVuSans-30\"/>\n      </g>\n     </g>\n    </g>\n   </g>\n   <g id=\"matplotlib.axis_4\">\n    <g id=\"ytick_3\">\n     <g id=\"line2d_19\">\n      <path clip-path=\"url(#p1da36cc89e)\" d=\"M 228.884783 82.718125 \nL 374.45 82.718125 \n\" style=\"fill:none;stroke:#b0b0b0;stroke-linecap:square;stroke-width:0.8;\"/>\n     </g>\n     <g id=\"line2d_20\">\n      <g>\n       <use style=\"stroke:#000000;stroke-width:0.8;\" x=\"228.884783\" xlink:href=\"#m12ee6b835d\" y=\"82.718125\"/>\n      </g>\n     </g>\n     <g id=\"text_11\">\n      <!-- 0 -->\n      <g transform=\"translate(215.522283 86.517344)scale(0.1 -0.1)\">\n       <use xlink:href=\"#DejaVuSans-30\"/>\n      </g>\n     </g>\n    </g>\n    <g id=\"ytick_4\">\n     <g id=\"line2d_21\">\n      <path clip-path=\"url(#p1da36cc89e)\" d=\"M 228.884783 45.653815 \nL 374.45 45.653815 \n\" style=\"fill:none;stroke:#b0b0b0;stroke-linecap:square;stroke-width:0.8;\"/>\n     </g>\n     <g id=\"line2d_22\">\n      <g>\n       <use style=\"stroke:#000000;stroke-width:0.8;\" x=\"228.884783\" xlink:href=\"#m12ee6b835d\" y=\"45.653815\"/>\n      </g>\n     </g>\n     <g id=\"text_12\">\n      <!-- 500 -->\n      <g transform=\"translate(202.797283 49.453033)scale(0.1 -0.1)\">\n       <use xlink:href=\"#DejaVuSans-35\"/>\n       <use x=\"63.623047\" xlink:href=\"#DejaVuSans-30\"/>\n       <use x=\"127.246094\" xlink:href=\"#DejaVuSans-30\"/>\n      </g>\n     </g>\n    </g>\n   </g>\n   <g id=\"patch_28\">\n    <path d=\"M 228.884783 82.718125 \nL 228.884783 22.318125 \n\" style=\"fill:none;stroke:#000000;stroke-linecap:square;stroke-linejoin:miter;stroke-width:0.8;\"/>\n   </g>\n   <g id=\"patch_29\">\n    <path d=\"M 374.45 82.718125 \nL 374.45 22.318125 \n\" style=\"fill:none;stroke:#000000;stroke-linecap:square;stroke-linejoin:miter;stroke-width:0.8;\"/>\n   </g>\n   <g id=\"patch_30\">\n    <path d=\"M 228.884783 82.718125 \nL 374.45 82.718125 \n\" style=\"fill:none;stroke:#000000;stroke-linecap:square;stroke-linejoin:miter;stroke-width:0.8;\"/>\n   </g>\n   <g id=\"patch_31\">\n    <path d=\"M 228.884783 22.318125 \nL 374.45 22.318125 \n\" style=\"fill:none;stroke:#000000;stroke-linecap:square;stroke-linejoin:miter;stroke-width:0.8;\"/>\n   </g>\n   <g id=\"text_13\">\n    <!-- beta -->\n    <g transform=\"translate(288.137391 16.318125)scale(0.12 -0.12)\">\n     <defs>\n      <path d=\"M 3116 1747 \nQ 3116 2381 2855 2742 \nQ 2594 3103 2138 3103 \nQ 1681 3103 1420 2742 \nQ 1159 2381 1159 1747 \nQ 1159 1113 1420 752 \nQ 1681 391 2138 391 \nQ 2594 391 2855 752 \nQ 3116 1113 3116 1747 \nz\nM 1159 2969 \nQ 1341 3281 1617 3432 \nQ 1894 3584 2278 3584 \nQ 2916 3584 3314 3078 \nQ 3713 2572 3713 1747 \nQ 3713 922 3314 415 \nQ 2916 -91 2278 -91 \nQ 1894 -91 1617 61 \nQ 1341 213 1159 525 \nL 1159 0 \nL 581 0 \nL 581 4863 \nL 1159 4863 \nL 1159 2969 \nz\n\" id=\"DejaVuSans-62\" transform=\"scale(0.015625)\"/>\n      <path d=\"M 3597 1894 \nL 3597 1613 \nL 953 1613 \nQ 991 1019 1311 708 \nQ 1631 397 2203 397 \nQ 2534 397 2845 478 \nQ 3156 559 3463 722 \nL 3463 178 \nQ 3153 47 2828 -22 \nQ 2503 -91 2169 -91 \nQ 1331 -91 842 396 \nQ 353 884 353 1716 \nQ 353 2575 817 3079 \nQ 1281 3584 2069 3584 \nQ 2775 3584 3186 3129 \nQ 3597 2675 3597 1894 \nz\nM 3022 2063 \nQ 3016 2534 2758 2815 \nQ 2500 3097 2075 3097 \nQ 1594 3097 1305 2825 \nQ 1016 2553 972 2059 \nL 3022 2063 \nz\n\" id=\"DejaVuSans-65\" transform=\"scale(0.015625)\"/>\n      <path d=\"M 1172 4494 \nL 1172 3500 \nL 2356 3500 \nL 2356 3053 \nL 1172 3053 \nL 1172 1153 \nQ 1172 725 1289 603 \nQ 1406 481 1766 481 \nL 2356 481 \nL 2356 0 \nL 1766 0 \nQ 1100 0 847 248 \nQ 594 497 594 1153 \nL 594 3053 \nL 172 3053 \nL 172 3500 \nL 594 3500 \nL 594 4494 \nL 1172 4494 \nz\n\" id=\"DejaVuSans-74\" transform=\"scale(0.015625)\"/>\n     </defs>\n     <use xlink:href=\"#DejaVuSans-62\"/>\n     <use x=\"63.476562\" xlink:href=\"#DejaVuSans-65\"/>\n     <use x=\"125\" xlink:href=\"#DejaVuSans-74\"/>\n     <use x=\"164.208984\" xlink:href=\"#DejaVuSans-61\"/>\n    </g>\n   </g>\n  </g>\n  <g id=\"axes_3\">\n   <g id=\"patch_32\">\n    <path d=\"M 39.65 161.238125 \nL 185.215217 161.238125 \nL 185.215217 100.838125 \nL 39.65 100.838125 \nz\n\" style=\"fill:#ffffff;\"/>\n   </g>\n   <g id=\"patch_33\">\n    <path clip-path=\"url(#p3d8bdbf13b)\" d=\"M 46.266601 161.238125 \nL 59.499802 161.238125 \nL 59.499802 161.161015 \nL 46.266601 161.161015 \nz\n\" style=\"fill:#1f77b4;\"/>\n   </g>\n   <g id=\"patch_34\">\n    <path clip-path=\"url(#p3d8bdbf13b)\" d=\"M 59.499802 161.238125 \nL 72.733004 161.238125 \nL 72.733004 160.00437 \nL 59.499802 160.00437 \nz\n\" style=\"fill:#1f77b4;\"/>\n   </g>\n   <g id=\"patch_35\">\n    <path clip-path=\"url(#p3d8bdbf13b)\" d=\"M 72.733004 161.238125 \nL 85.966206 161.238125 \nL 85.966206 154.760913 \nL 72.733004 154.760913 \nz\n\" style=\"fill:#1f77b4;\"/>\n   </g>\n   <g id=\"patch_36\">\n    <path clip-path=\"url(#p3d8bdbf13b)\" d=\"M 85.966206 161.238125 \nL 99.199407 161.238125 \nL 99.199407 140.341406 \nL 85.966206 140.341406 \nz\n\" style=\"fill:#1f77b4;\"/>\n   </g>\n   <g id=\"patch_37\">\n    <path clip-path=\"url(#p3d8bdbf13b)\" d=\"M 99.199407 161.238125 \nL 112.432609 161.238125 \nL 112.432609 115.357875 \nL 99.199407 115.357875 \nz\n\" style=\"fill:#1f77b4;\"/>\n   </g>\n   <g id=\"patch_38\">\n    <path clip-path=\"url(#p3d8bdbf13b)\" d=\"M 112.432609 161.238125 \nL 125.66581 161.238125 \nL 125.66581 103.714315 \nL 112.432609 103.714315 \nz\n\" style=\"fill:#1f77b4;\"/>\n   </g>\n   <g id=\"patch_39\">\n    <path clip-path=\"url(#p3d8bdbf13b)\" d=\"M 125.66581 161.238125 \nL 138.899012 161.238125 \nL 138.899012 117.362726 \nL 125.66581 117.362726 \nz\n\" style=\"fill:#1f77b4;\"/>\n   </g>\n   <g id=\"patch_40\">\n    <path clip-path=\"url(#p3d8bdbf13b)\" d=\"M 138.899012 161.238125 \nL 152.132213 161.238125 \nL 152.132213 140.804064 \nL 138.899012 140.804064 \nz\n\" style=\"fill:#1f77b4;\"/>\n   </g>\n   <g id=\"patch_41\">\n    <path clip-path=\"url(#p3d8bdbf13b)\" d=\"M 152.132213 161.238125 \nL 165.365415 161.238125 \nL 165.365415 155.4549 \nL 152.132213 155.4549 \nz\n\" style=\"fill:#1f77b4;\"/>\n   </g>\n   <g id=\"patch_42\">\n    <path clip-path=\"url(#p3d8bdbf13b)\" d=\"M 165.365415 161.238125 \nL 178.598617 161.238125 \nL 178.598617 159.310383 \nL 165.365415 159.310383 \nz\n\" style=\"fill:#1f77b4;\"/>\n   </g>\n   <g id=\"matplotlib.axis_5\">\n    <g id=\"xtick_8\">\n     <g id=\"line2d_23\">\n      <path clip-path=\"url(#p3d8bdbf13b)\" d=\"M 72.514022 161.238125 \nL 72.514022 100.838125 \n\" style=\"fill:none;stroke:#b0b0b0;stroke-linecap:square;stroke-width:0.8;\"/>\n     </g>\n     <g id=\"line2d_24\">\n      <g>\n       <use style=\"stroke:#000000;stroke-width:0.8;\" x=\"72.514022\" xlink:href=\"#mffc2dd8e62\" y=\"161.238125\"/>\n      </g>\n     </g>\n     <g id=\"text_14\">\n      <!-- 2.5 -->\n      <g transform=\"translate(64.56246 175.836562)scale(0.1 -0.1)\">\n       <defs>\n        <path d=\"M 1228 531 \nL 3431 531 \nL 3431 0 \nL 469 0 \nL 469 531 \nQ 828 903 1448 1529 \nQ 2069 2156 2228 2338 \nQ 2531 2678 2651 2914 \nQ 2772 3150 2772 3378 \nQ 2772 3750 2511 3984 \nQ 2250 4219 1831 4219 \nQ 1534 4219 1204 4116 \nQ 875 4013 500 3803 \nL 500 4441 \nQ 881 4594 1212 4672 \nQ 1544 4750 1819 4750 \nQ 2544 4750 2975 4387 \nQ 3406 4025 3406 3419 \nQ 3406 3131 3298 2873 \nQ 3191 2616 2906 2266 \nQ 2828 2175 2409 1742 \nQ 1991 1309 1228 531 \nz\n\" id=\"DejaVuSans-32\" transform=\"scale(0.015625)\"/>\n       </defs>\n       <use xlink:href=\"#DejaVuSans-32\"/>\n       <use x=\"63.623047\" xlink:href=\"#DejaVuSans-2e\"/>\n       <use x=\"95.410156\" xlink:href=\"#DejaVuSans-35\"/>\n      </g>\n     </g>\n    </g>\n    <g id=\"xtick_9\">\n     <g id=\"line2d_25\">\n      <path clip-path=\"url(#p3d8bdbf13b)\" d=\"M 118.221235 161.238125 \nL 118.221235 100.838125 \n\" style=\"fill:none;stroke:#b0b0b0;stroke-linecap:square;stroke-width:0.8;\"/>\n     </g>\n     <g id=\"line2d_26\">\n      <g>\n       <use style=\"stroke:#000000;stroke-width:0.8;\" x=\"118.221235\" xlink:href=\"#mffc2dd8e62\" y=\"161.238125\"/>\n      </g>\n     </g>\n     <g id=\"text_15\">\n      <!-- 3.0 -->\n      <g transform=\"translate(110.269672 175.836562)scale(0.1 -0.1)\">\n       <defs>\n        <path d=\"M 2597 2516 \nQ 3050 2419 3304 2112 \nQ 3559 1806 3559 1356 \nQ 3559 666 3084 287 \nQ 2609 -91 1734 -91 \nQ 1441 -91 1130 -33 \nQ 819 25 488 141 \nL 488 750 \nQ 750 597 1062 519 \nQ 1375 441 1716 441 \nQ 2309 441 2620 675 \nQ 2931 909 2931 1356 \nQ 2931 1769 2642 2001 \nQ 2353 2234 1838 2234 \nL 1294 2234 \nL 1294 2753 \nL 1863 2753 \nQ 2328 2753 2575 2939 \nQ 2822 3125 2822 3475 \nQ 2822 3834 2567 4026 \nQ 2313 4219 1838 4219 \nQ 1578 4219 1281 4162 \nQ 984 4106 628 3988 \nL 628 4550 \nQ 988 4650 1302 4700 \nQ 1616 4750 1894 4750 \nQ 2613 4750 3031 4423 \nQ 3450 4097 3450 3541 \nQ 3450 3153 3228 2886 \nQ 3006 2619 2597 2516 \nz\n\" id=\"DejaVuSans-33\" transform=\"scale(0.015625)\"/>\n       </defs>\n       <use xlink:href=\"#DejaVuSans-33\"/>\n       <use x=\"63.623047\" xlink:href=\"#DejaVuSans-2e\"/>\n       <use x=\"95.410156\" xlink:href=\"#DejaVuSans-30\"/>\n      </g>\n     </g>\n    </g>\n    <g id=\"xtick_10\">\n     <g id=\"line2d_27\">\n      <path clip-path=\"url(#p3d8bdbf13b)\" d=\"M 163.928447 161.238125 \nL 163.928447 100.838125 \n\" style=\"fill:none;stroke:#b0b0b0;stroke-linecap:square;stroke-width:0.8;\"/>\n     </g>\n     <g id=\"line2d_28\">\n      <g>\n       <use style=\"stroke:#000000;stroke-width:0.8;\" x=\"163.928447\" xlink:href=\"#mffc2dd8e62\" y=\"161.238125\"/>\n      </g>\n     </g>\n     <g id=\"text_16\">\n      <!-- 3.5 -->\n      <g transform=\"translate(155.976885 175.836562)scale(0.1 -0.1)\">\n       <use xlink:href=\"#DejaVuSans-33\"/>\n       <use x=\"63.623047\" xlink:href=\"#DejaVuSans-2e\"/>\n       <use x=\"95.410156\" xlink:href=\"#DejaVuSans-35\"/>\n      </g>\n     </g>\n    </g>\n   </g>\n   <g id=\"matplotlib.axis_6\">\n    <g id=\"ytick_5\">\n     <g id=\"line2d_29\">\n      <path clip-path=\"url(#p3d8bdbf13b)\" d=\"M 39.65 161.238125 \nL 185.215217 161.238125 \n\" style=\"fill:none;stroke:#b0b0b0;stroke-linecap:square;stroke-width:0.8;\"/>\n     </g>\n     <g id=\"line2d_30\">\n      <g>\n       <use style=\"stroke:#000000;stroke-width:0.8;\" x=\"39.65\" xlink:href=\"#m12ee6b835d\" y=\"161.238125\"/>\n      </g>\n     </g>\n     <g id=\"text_17\">\n      <!-- 0 -->\n      <g transform=\"translate(26.2875 165.037344)scale(0.1 -0.1)\">\n       <use xlink:href=\"#DejaVuSans-30\"/>\n      </g>\n     </g>\n    </g>\n    <g id=\"ytick_6\">\n     <g id=\"line2d_31\">\n      <path clip-path=\"url(#p3d8bdbf13b)\" d=\"M 39.65 122.683293 \nL 185.215217 122.683293 \n\" style=\"fill:none;stroke:#b0b0b0;stroke-linecap:square;stroke-width:0.8;\"/>\n     </g>\n     <g id=\"line2d_32\">\n      <g>\n       <use style=\"stroke:#000000;stroke-width:0.8;\" x=\"39.65\" xlink:href=\"#m12ee6b835d\" y=\"122.683293\"/>\n      </g>\n     </g>\n     <g id=\"text_18\">\n      <!-- 500 -->\n      <g transform=\"translate(13.5625 126.482512)scale(0.1 -0.1)\">\n       <use xlink:href=\"#DejaVuSans-35\"/>\n       <use x=\"63.623047\" xlink:href=\"#DejaVuSans-30\"/>\n       <use x=\"127.246094\" xlink:href=\"#DejaVuSans-30\"/>\n      </g>\n     </g>\n    </g>\n   </g>\n   <g id=\"patch_43\">\n    <path d=\"M 39.65 161.238125 \nL 39.65 100.838125 \n\" style=\"fill:none;stroke:#000000;stroke-linecap:square;stroke-linejoin:miter;stroke-width:0.8;\"/>\n   </g>\n   <g id=\"patch_44\">\n    <path d=\"M 185.215217 161.238125 \nL 185.215217 100.838125 \n\" style=\"fill:none;stroke:#000000;stroke-linecap:square;stroke-linejoin:miter;stroke-width:0.8;\"/>\n   </g>\n   <g id=\"patch_45\">\n    <path d=\"M 39.65 161.238125 \nL 185.215217 161.238125 \n\" style=\"fill:none;stroke:#000000;stroke-linecap:square;stroke-linejoin:miter;stroke-width:0.8;\"/>\n   </g>\n   <g id=\"patch_46\">\n    <path d=\"M 39.65 100.838125 \nL 185.215217 100.838125 \n\" style=\"fill:none;stroke:#000000;stroke-linecap:square;stroke-linejoin:miter;stroke-width:0.8;\"/>\n   </g>\n   <g id=\"text_19\">\n    <!-- gamma -->\n    <g transform=\"translate(89.581046 94.838125)scale(0.12 -0.12)\">\n     <defs>\n      <path d=\"M 2906 1791 \nQ 2906 2416 2648 2759 \nQ 2391 3103 1925 3103 \nQ 1463 3103 1205 2759 \nQ 947 2416 947 1791 \nQ 947 1169 1205 825 \nQ 1463 481 1925 481 \nQ 2391 481 2648 825 \nQ 2906 1169 2906 1791 \nz\nM 3481 434 \nQ 3481 -459 3084 -895 \nQ 2688 -1331 1869 -1331 \nQ 1566 -1331 1297 -1286 \nQ 1028 -1241 775 -1147 \nL 775 -588 \nQ 1028 -725 1275 -790 \nQ 1522 -856 1778 -856 \nQ 2344 -856 2625 -561 \nQ 2906 -266 2906 331 \nL 2906 616 \nQ 2728 306 2450 153 \nQ 2172 0 1784 0 \nQ 1141 0 747 490 \nQ 353 981 353 1791 \nQ 353 2603 747 3093 \nQ 1141 3584 1784 3584 \nQ 2172 3584 2450 3431 \nQ 2728 3278 2906 2969 \nL 2906 3500 \nL 3481 3500 \nL 3481 434 \nz\n\" id=\"DejaVuSans-67\" transform=\"scale(0.015625)\"/>\n      <path d=\"M 3328 2828 \nQ 3544 3216 3844 3400 \nQ 4144 3584 4550 3584 \nQ 5097 3584 5394 3201 \nQ 5691 2819 5691 2113 \nL 5691 0 \nL 5113 0 \nL 5113 2094 \nQ 5113 2597 4934 2840 \nQ 4756 3084 4391 3084 \nQ 3944 3084 3684 2787 \nQ 3425 2491 3425 1978 \nL 3425 0 \nL 2847 0 \nL 2847 2094 \nQ 2847 2600 2669 2842 \nQ 2491 3084 2119 3084 \nQ 1678 3084 1418 2786 \nQ 1159 2488 1159 1978 \nL 1159 0 \nL 581 0 \nL 581 3500 \nL 1159 3500 \nL 1159 2956 \nQ 1356 3278 1631 3431 \nQ 1906 3584 2284 3584 \nQ 2666 3584 2933 3390 \nQ 3200 3197 3328 2828 \nz\n\" id=\"DejaVuSans-6d\" transform=\"scale(0.015625)\"/>\n     </defs>\n     <use xlink:href=\"#DejaVuSans-67\"/>\n     <use x=\"63.476562\" xlink:href=\"#DejaVuSans-61\"/>\n     <use x=\"124.755859\" xlink:href=\"#DejaVuSans-6d\"/>\n     <use x=\"222.167969\" xlink:href=\"#DejaVuSans-6d\"/>\n     <use x=\"319.580078\" xlink:href=\"#DejaVuSans-61\"/>\n    </g>\n   </g>\n  </g>\n  <g id=\"axes_4\">\n   <g id=\"patch_47\">\n    <path d=\"M 228.884783 161.238125 \nL 374.45 161.238125 \nL 374.45 100.838125 \nL 228.884783 100.838125 \nz\n\" style=\"fill:#ffffff;\"/>\n   </g>\n   <g id=\"patch_48\">\n    <path clip-path=\"url(#p9271981bdb)\" d=\"M 235.501383 161.238125 \nL 248.734585 161.238125 \nL 248.734585 161.094912 \nL 235.501383 161.094912 \nz\n\" style=\"fill:#1f77b4;\"/>\n   </g>\n   <g id=\"patch_49\">\n    <path clip-path=\"url(#p9271981bdb)\" d=\"M 248.734585 161.238125 \nL 261.967787 161.238125 \nL 261.967787 160.187898 \nL 248.734585 160.187898 \nz\n\" style=\"fill:#1f77b4;\"/>\n   </g>\n   <g id=\"patch_50\">\n    <path clip-path=\"url(#p9271981bdb)\" d=\"M 261.967787 161.238125 \nL 275.200988 161.238125 \nL 275.200988 155.700563 \nL 261.967787 155.700563 \nz\n\" style=\"fill:#1f77b4;\"/>\n   </g>\n   <g id=\"patch_51\">\n    <path clip-path=\"url(#p9271981bdb)\" d=\"M 275.200988 161.238125 \nL 288.43419 161.238125 \nL 288.43419 133.741267 \nL 275.200988 133.741267 \nz\n\" style=\"fill:#1f77b4;\"/>\n   </g>\n   <g id=\"patch_52\">\n    <path clip-path=\"url(#p9271981bdb)\" d=\"M 288.43419 161.238125 \nL 301.667391 161.238125 \nL 301.667391 103.714315 \nL 288.43419 103.714315 \nz\n\" style=\"fill:#1f77b4;\"/>\n   </g>\n   <g id=\"patch_53\">\n    <path clip-path=\"url(#p9271981bdb)\" d=\"M 301.667391 161.238125 \nL 314.900593 161.238125 \nL 314.900593 131.593075 \nL 301.667391 131.593075 \nz\n\" style=\"fill:#1f77b4;\"/>\n   </g>\n   <g id=\"patch_54\">\n    <path clip-path=\"url(#p9271981bdb)\" d=\"M 314.900593 161.238125 \nL 328.133794 161.238125 \nL 328.133794 156.894003 \nL 314.900593 156.894003 \nz\n\" style=\"fill:#1f77b4;\"/>\n   </g>\n   <g id=\"patch_55\">\n    <path clip-path=\"url(#p9271981bdb)\" d=\"M 328.133794 161.238125 \nL 341.366996 161.238125 \nL 341.366996 160.808487 \nL 328.133794 160.808487 \nz\n\" style=\"fill:#1f77b4;\"/>\n   </g>\n   <g id=\"patch_56\">\n    <path clip-path=\"url(#p9271981bdb)\" d=\"M 341.366996 161.238125 \nL 354.600198 161.238125 \nL 354.600198 161.14265 \nL 341.366996 161.14265 \nz\n\" style=\"fill:#1f77b4;\"/>\n   </g>\n   <g id=\"patch_57\">\n    <path clip-path=\"url(#p9271981bdb)\" d=\"M 354.600198 161.238125 \nL 367.833399 161.238125 \nL 367.833399 161.14265 \nL 354.600198 161.14265 \nz\n\" style=\"fill:#1f77b4;\"/>\n   </g>\n   <g id=\"matplotlib.axis_7\">\n    <g id=\"xtick_11\">\n     <g id=\"line2d_33\">\n      <path clip-path=\"url(#p9271981bdb)\" d=\"M 239.263185 161.238125 \nL 239.263185 100.838125 \n\" style=\"fill:none;stroke:#b0b0b0;stroke-linecap:square;stroke-width:0.8;\"/>\n     </g>\n     <g id=\"line2d_34\">\n      <g>\n       <use style=\"stroke:#000000;stroke-width:0.8;\" x=\"239.263185\" xlink:href=\"#mffc2dd8e62\" y=\"161.238125\"/>\n      </g>\n     </g>\n     <g id=\"text_20\">\n      <!-- 100000 -->\n      <g transform=\"translate(220.175685 175.836562)scale(0.1 -0.1)\">\n       <use xlink:href=\"#DejaVuSans-31\"/>\n       <use x=\"63.623047\" xlink:href=\"#DejaVuSans-30\"/>\n       <use x=\"127.246094\" xlink:href=\"#DejaVuSans-30\"/>\n       <use x=\"190.869141\" xlink:href=\"#DejaVuSans-30\"/>\n       <use x=\"254.492188\" xlink:href=\"#DejaVuSans-30\"/>\n       <use x=\"318.115234\" xlink:href=\"#DejaVuSans-30\"/>\n      </g>\n     </g>\n    </g>\n    <g id=\"xtick_12\">\n     <g id=\"line2d_35\">\n      <path clip-path=\"url(#p9271981bdb)\" d=\"M 305.301802 161.238125 \nL 305.301802 100.838125 \n\" style=\"fill:none;stroke:#b0b0b0;stroke-linecap:square;stroke-width:0.8;\"/>\n     </g>\n     <g id=\"line2d_36\">\n      <g>\n       <use style=\"stroke:#000000;stroke-width:0.8;\" x=\"305.301802\" xlink:href=\"#mffc2dd8e62\" y=\"161.238125\"/>\n      </g>\n     </g>\n     <g id=\"text_21\">\n      <!-- 200000 -->\n      <g transform=\"translate(286.214302 175.836562)scale(0.1 -0.1)\">\n       <use xlink:href=\"#DejaVuSans-32\"/>\n       <use x=\"63.623047\" xlink:href=\"#DejaVuSans-30\"/>\n       <use x=\"127.246094\" xlink:href=\"#DejaVuSans-30\"/>\n       <use x=\"190.869141\" xlink:href=\"#DejaVuSans-30\"/>\n       <use x=\"254.492188\" xlink:href=\"#DejaVuSans-30\"/>\n       <use x=\"318.115234\" xlink:href=\"#DejaVuSans-30\"/>\n      </g>\n     </g>\n    </g>\n    <g id=\"xtick_13\">\n     <g id=\"line2d_37\">\n      <path clip-path=\"url(#p9271981bdb)\" d=\"M 371.34042 161.238125 \nL 371.34042 100.838125 \n\" style=\"fill:none;stroke:#b0b0b0;stroke-linecap:square;stroke-width:0.8;\"/>\n     </g>\n     <g id=\"line2d_38\">\n      <g>\n       <use style=\"stroke:#000000;stroke-width:0.8;\" x=\"371.34042\" xlink:href=\"#mffc2dd8e62\" y=\"161.238125\"/>\n      </g>\n     </g>\n     <g id=\"text_22\">\n      <!-- 300000 -->\n      <g transform=\"translate(352.25292 175.836562)scale(0.1 -0.1)\">\n       <use xlink:href=\"#DejaVuSans-33\"/>\n       <use x=\"63.623047\" xlink:href=\"#DejaVuSans-30\"/>\n       <use x=\"127.246094\" xlink:href=\"#DejaVuSans-30\"/>\n       <use x=\"190.869141\" xlink:href=\"#DejaVuSans-30\"/>\n       <use x=\"254.492188\" xlink:href=\"#DejaVuSans-30\"/>\n       <use x=\"318.115234\" xlink:href=\"#DejaVuSans-30\"/>\n      </g>\n     </g>\n    </g>\n   </g>\n   <g id=\"matplotlib.axis_8\">\n    <g id=\"ytick_7\">\n     <g id=\"line2d_39\">\n      <path clip-path=\"url(#p9271981bdb)\" d=\"M 228.884783 161.238125 \nL 374.45 161.238125 \n\" style=\"fill:none;stroke:#b0b0b0;stroke-linecap:square;stroke-width:0.8;\"/>\n     </g>\n     <g id=\"line2d_40\">\n      <g>\n       <use style=\"stroke:#000000;stroke-width:0.8;\" x=\"228.884783\" xlink:href=\"#m12ee6b835d\" y=\"161.238125\"/>\n      </g>\n     </g>\n     <g id=\"text_23\">\n      <!-- 0 -->\n      <g transform=\"translate(215.522283 165.037344)scale(0.1 -0.1)\">\n       <use xlink:href=\"#DejaVuSans-30\"/>\n      </g>\n     </g>\n    </g>\n    <g id=\"ytick_8\">\n     <g id=\"line2d_41\">\n      <path clip-path=\"url(#p9271981bdb)\" d=\"M 228.884783 137.369324 \nL 374.45 137.369324 \n\" style=\"fill:none;stroke:#b0b0b0;stroke-linecap:square;stroke-width:0.8;\"/>\n     </g>\n     <g id=\"line2d_42\">\n      <g>\n       <use style=\"stroke:#000000;stroke-width:0.8;\" x=\"228.884783\" xlink:href=\"#m12ee6b835d\" y=\"137.369324\"/>\n      </g>\n     </g>\n     <g id=\"text_24\">\n      <!-- 500 -->\n      <g transform=\"translate(202.797283 141.168543)scale(0.1 -0.1)\">\n       <use xlink:href=\"#DejaVuSans-35\"/>\n       <use x=\"63.623047\" xlink:href=\"#DejaVuSans-30\"/>\n       <use x=\"127.246094\" xlink:href=\"#DejaVuSans-30\"/>\n      </g>\n     </g>\n    </g>\n    <g id=\"ytick_9\">\n     <g id=\"line2d_43\">\n      <path clip-path=\"url(#p9271981bdb)\" d=\"M 228.884783 113.500524 \nL 374.45 113.500524 \n\" style=\"fill:none;stroke:#b0b0b0;stroke-linecap:square;stroke-width:0.8;\"/>\n     </g>\n     <g id=\"line2d_44\">\n      <g>\n       <use style=\"stroke:#000000;stroke-width:0.8;\" x=\"228.884783\" xlink:href=\"#m12ee6b835d\" y=\"113.500524\"/>\n      </g>\n     </g>\n     <g id=\"text_25\">\n      <!-- 1000 -->\n      <g transform=\"translate(196.434783 117.299742)scale(0.1 -0.1)\">\n       <use xlink:href=\"#DejaVuSans-31\"/>\n       <use x=\"63.623047\" xlink:href=\"#DejaVuSans-30\"/>\n       <use x=\"127.246094\" xlink:href=\"#DejaVuSans-30\"/>\n       <use x=\"190.869141\" xlink:href=\"#DejaVuSans-30\"/>\n      </g>\n     </g>\n    </g>\n   </g>\n   <g id=\"patch_58\">\n    <path d=\"M 228.884783 161.238125 \nL 228.884783 100.838125 \n\" style=\"fill:none;stroke:#000000;stroke-linecap:square;stroke-linejoin:miter;stroke-width:0.8;\"/>\n   </g>\n   <g id=\"patch_59\">\n    <path d=\"M 374.45 161.238125 \nL 374.45 100.838125 \n\" style=\"fill:none;stroke:#000000;stroke-linecap:square;stroke-linejoin:miter;stroke-width:0.8;\"/>\n   </g>\n   <g id=\"patch_60\">\n    <path d=\"M 228.884783 161.238125 \nL 374.45 161.238125 \n\" style=\"fill:none;stroke:#000000;stroke-linecap:square;stroke-linejoin:miter;stroke-width:0.8;\"/>\n   </g>\n   <g id=\"patch_61\">\n    <path d=\"M 228.884783 100.838125 \nL 374.45 100.838125 \n\" style=\"fill:none;stroke:#000000;stroke-linecap:square;stroke-linejoin:miter;stroke-width:0.8;\"/>\n   </g>\n   <g id=\"text_26\">\n    <!-- tx -->\n    <g transform=\"translate(295.763954 94.838125)scale(0.12 -0.12)\">\n     <defs>\n      <path d=\"M 3513 3500 \nL 2247 1797 \nL 3578 0 \nL 2900 0 \nL 1881 1375 \nL 863 0 \nL 184 0 \nL 1544 1831 \nL 300 3500 \nL 978 3500 \nL 1906 2253 \nL 2834 3500 \nL 3513 3500 \nz\n\" id=\"DejaVuSans-78\" transform=\"scale(0.015625)\"/>\n     </defs>\n     <use xlink:href=\"#DejaVuSans-74\"/>\n     <use x=\"39.208984\" xlink:href=\"#DejaVuSans-78\"/>\n    </g>\n   </g>\n  </g>\n  <g id=\"axes_5\">\n   <g id=\"patch_62\">\n    <path d=\"M 39.65 239.758125 \nL 185.215217 239.758125 \nL 185.215217 179.358125 \nL 39.65 179.358125 \nz\n\" style=\"fill:#ffffff;\"/>\n   </g>\n   <g id=\"patch_63\">\n    <path clip-path=\"url(#p9b1d3de88e)\" d=\"M 46.266601 239.758125 \nL 59.499802 239.758125 \nL 59.499802 239.350568 \nL 46.266601 239.350568 \nz\n\" style=\"fill:#1f77b4;\"/>\n   </g>\n   <g id=\"patch_64\">\n    <path clip-path=\"url(#p9b1d3de88e)\" d=\"M 59.499802 239.758125 \nL 72.733004 239.758125 \nL 72.733004 237.138113 \nL 59.499802 237.138113 \nz\n\" style=\"fill:#1f77b4;\"/>\n   </g>\n   <g id=\"patch_65\">\n    <path clip-path=\"url(#p9b1d3de88e)\" d=\"M 72.733004 239.758125 \nL 85.966206 239.758125 \nL 85.966206 220.544707 \nL 72.733004 220.544707 \nz\n\" style=\"fill:#1f77b4;\"/>\n   </g>\n   <g id=\"patch_66\">\n    <path clip-path=\"url(#p9b1d3de88e)\" d=\"M 85.966206 239.758125 \nL 99.199407 239.758125 \nL 99.199407 186.775669 \nL 85.966206 186.775669 \nz\n\" style=\"fill:#1f77b4;\"/>\n   </g>\n   <g id=\"patch_67\">\n    <path clip-path=\"url(#p9b1d3de88e)\" d=\"M 99.199407 239.758125 \nL 112.432609 239.758125 \nL 112.432609 182.234315 \nL 99.199407 182.234315 \nz\n\" style=\"fill:#1f77b4;\"/>\n   </g>\n   <g id=\"patch_68\">\n    <path clip-path=\"url(#p9b1d3de88e)\" d=\"M 112.432609 239.758125 \nL 125.66581 239.758125 \nL 125.66581 222.291381 \nL 112.432609 222.291381 \nz\n\" style=\"fill:#1f77b4;\"/>\n   </g>\n   <g id=\"patch_69\">\n    <path clip-path=\"url(#p9b1d3de88e)\" d=\"M 125.66581 239.758125 \nL 138.899012 239.758125 \nL 138.899012 236.264776 \nL 125.66581 236.264776 \nz\n\" style=\"fill:#1f77b4;\"/>\n   </g>\n   <g id=\"patch_70\">\n    <path clip-path=\"url(#p9b1d3de88e)\" d=\"M 138.899012 239.758125 \nL 152.132213 239.758125 \nL 152.132213 239.467013 \nL 138.899012 239.467013 \nz\n\" style=\"fill:#1f77b4;\"/>\n   </g>\n   <g id=\"patch_71\">\n    <path clip-path=\"url(#p9b1d3de88e)\" d=\"M 152.132213 239.758125 \nL 165.365415 239.758125 \nL 165.365415 239.699903 \nL 152.132213 239.699903 \nz\n\" style=\"fill:#1f77b4;\"/>\n   </g>\n   <g id=\"patch_72\">\n    <path clip-path=\"url(#p9b1d3de88e)\" d=\"M 165.365415 239.758125 \nL 178.598617 239.758125 \nL 178.598617 239.699903 \nL 165.365415 239.699903 \nz\n\" style=\"fill:#1f77b4;\"/>\n   </g>\n   <g id=\"matplotlib.axis_9\">\n    <g id=\"xtick_14\">\n     <g id=\"line2d_45\">\n      <path clip-path=\"url(#p9b1d3de88e)\" d=\"M 55.239858 239.758125 \nL 55.239858 179.358125 \n\" style=\"fill:none;stroke:#b0b0b0;stroke-linecap:square;stroke-width:0.8;\"/>\n     </g>\n     <g id=\"line2d_46\">\n      <g>\n       <use style=\"stroke:#000000;stroke-width:0.8;\" x=\"55.239858\" xlink:href=\"#mffc2dd8e62\" y=\"239.758125\"/>\n      </g>\n     </g>\n     <g id=\"text_27\">\n      <!-- 150000 -->\n      <g transform=\"translate(36.152358 254.356562)scale(0.1 -0.1)\">\n       <use xlink:href=\"#DejaVuSans-31\"/>\n       <use x=\"63.623047\" xlink:href=\"#DejaVuSans-35\"/>\n       <use x=\"127.246094\" xlink:href=\"#DejaVuSans-30\"/>\n       <use x=\"190.869141\" xlink:href=\"#DejaVuSans-30\"/>\n       <use x=\"254.492188\" xlink:href=\"#DejaVuSans-30\"/>\n       <use x=\"318.115234\" xlink:href=\"#DejaVuSans-30\"/>\n      </g>\n     </g>\n    </g>\n    <g id=\"xtick_15\">\n     <g id=\"line2d_47\">\n      <path clip-path=\"url(#p9b1d3de88e)\" d=\"M 94.900876 239.758125 \nL 94.900876 179.358125 \n\" style=\"fill:none;stroke:#b0b0b0;stroke-linecap:square;stroke-width:0.8;\"/>\n     </g>\n     <g id=\"line2d_48\">\n      <g>\n       <use style=\"stroke:#000000;stroke-width:0.8;\" x=\"94.900876\" xlink:href=\"#mffc2dd8e62\" y=\"239.758125\"/>\n      </g>\n     </g>\n     <g id=\"text_28\">\n      <!-- 200000 -->\n      <g transform=\"translate(75.813376 254.356562)scale(0.1 -0.1)\">\n       <use xlink:href=\"#DejaVuSans-32\"/>\n       <use x=\"63.623047\" xlink:href=\"#DejaVuSans-30\"/>\n       <use x=\"127.246094\" xlink:href=\"#DejaVuSans-30\"/>\n       <use x=\"190.869141\" xlink:href=\"#DejaVuSans-30\"/>\n       <use x=\"254.492188\" xlink:href=\"#DejaVuSans-30\"/>\n       <use x=\"318.115234\" xlink:href=\"#DejaVuSans-30\"/>\n      </g>\n     </g>\n    </g>\n    <g id=\"xtick_16\">\n     <g id=\"line2d_49\">\n      <path clip-path=\"url(#p9b1d3de88e)\" d=\"M 134.561894 239.758125 \nL 134.561894 179.358125 \n\" style=\"fill:none;stroke:#b0b0b0;stroke-linecap:square;stroke-width:0.8;\"/>\n     </g>\n     <g id=\"line2d_50\">\n      <g>\n       <use style=\"stroke:#000000;stroke-width:0.8;\" x=\"134.561894\" xlink:href=\"#mffc2dd8e62\" y=\"239.758125\"/>\n      </g>\n     </g>\n     <g id=\"text_29\">\n      <!-- 250000 -->\n      <g transform=\"translate(115.474394 254.356562)scale(0.1 -0.1)\">\n       <use xlink:href=\"#DejaVuSans-32\"/>\n       <use x=\"63.623047\" xlink:href=\"#DejaVuSans-35\"/>\n       <use x=\"127.246094\" xlink:href=\"#DejaVuSans-30\"/>\n       <use x=\"190.869141\" xlink:href=\"#DejaVuSans-30\"/>\n       <use x=\"254.492188\" xlink:href=\"#DejaVuSans-30\"/>\n       <use x=\"318.115234\" xlink:href=\"#DejaVuSans-30\"/>\n      </g>\n     </g>\n    </g>\n    <g id=\"xtick_17\">\n     <g id=\"line2d_51\">\n      <path clip-path=\"url(#p9b1d3de88e)\" d=\"M 174.222912 239.758125 \nL 174.222912 179.358125 \n\" style=\"fill:none;stroke:#b0b0b0;stroke-linecap:square;stroke-width:0.8;\"/>\n     </g>\n     <g id=\"line2d_52\">\n      <g>\n       <use style=\"stroke:#000000;stroke-width:0.8;\" x=\"174.222912\" xlink:href=\"#mffc2dd8e62\" y=\"239.758125\"/>\n      </g>\n     </g>\n     <g id=\"text_30\">\n      <!-- 300000 -->\n      <g transform=\"translate(155.135412 254.356562)scale(0.1 -0.1)\">\n       <use xlink:href=\"#DejaVuSans-33\"/>\n       <use x=\"63.623047\" xlink:href=\"#DejaVuSans-30\"/>\n       <use x=\"127.246094\" xlink:href=\"#DejaVuSans-30\"/>\n       <use x=\"190.869141\" xlink:href=\"#DejaVuSans-30\"/>\n       <use x=\"254.492188\" xlink:href=\"#DejaVuSans-30\"/>\n       <use x=\"318.115234\" xlink:href=\"#DejaVuSans-30\"/>\n      </g>\n     </g>\n    </g>\n   </g>\n   <g id=\"matplotlib.axis_10\">\n    <g id=\"ytick_10\">\n     <g id=\"line2d_53\">\n      <path clip-path=\"url(#p9b1d3de88e)\" d=\"M 39.65 239.758125 \nL 185.215217 239.758125 \n\" style=\"fill:none;stroke:#b0b0b0;stroke-linecap:square;stroke-width:0.8;\"/>\n     </g>\n     <g id=\"line2d_54\">\n      <g>\n       <use style=\"stroke:#000000;stroke-width:0.8;\" x=\"39.65\" xlink:href=\"#m12ee6b835d\" y=\"239.758125\"/>\n      </g>\n     </g>\n     <g id=\"text_31\">\n      <!-- 0 -->\n      <g transform=\"translate(26.2875 243.557344)scale(0.1 -0.1)\">\n       <use xlink:href=\"#DejaVuSans-30\"/>\n      </g>\n     </g>\n    </g>\n    <g id=\"ytick_11\">\n     <g id=\"line2d_55\">\n      <path clip-path=\"url(#p9b1d3de88e)\" d=\"M 39.65 210.646885 \nL 185.215217 210.646885 \n\" style=\"fill:none;stroke:#b0b0b0;stroke-linecap:square;stroke-width:0.8;\"/>\n     </g>\n     <g id=\"line2d_56\">\n      <g>\n       <use style=\"stroke:#000000;stroke-width:0.8;\" x=\"39.65\" xlink:href=\"#m12ee6b835d\" y=\"210.646885\"/>\n      </g>\n     </g>\n     <g id=\"text_32\">\n      <!-- 500 -->\n      <g transform=\"translate(13.5625 214.446104)scale(0.1 -0.1)\">\n       <use xlink:href=\"#DejaVuSans-35\"/>\n       <use x=\"63.623047\" xlink:href=\"#DejaVuSans-30\"/>\n       <use x=\"127.246094\" xlink:href=\"#DejaVuSans-30\"/>\n      </g>\n     </g>\n    </g>\n    <g id=\"ytick_12\">\n     <g id=\"line2d_57\">\n      <path clip-path=\"url(#p9b1d3de88e)\" d=\"M 39.65 181.535646 \nL 185.215217 181.535646 \n\" style=\"fill:none;stroke:#b0b0b0;stroke-linecap:square;stroke-width:0.8;\"/>\n     </g>\n     <g id=\"line2d_58\">\n      <g>\n       <use style=\"stroke:#000000;stroke-width:0.8;\" x=\"39.65\" xlink:href=\"#m12ee6b835d\" y=\"181.535646\"/>\n      </g>\n     </g>\n     <g id=\"text_33\">\n      <!-- 1000 -->\n      <g transform=\"translate(7.2 185.334864)scale(0.1 -0.1)\">\n       <use xlink:href=\"#DejaVuSans-31\"/>\n       <use x=\"63.623047\" xlink:href=\"#DejaVuSans-30\"/>\n       <use x=\"127.246094\" xlink:href=\"#DejaVuSans-30\"/>\n       <use x=\"190.869141\" xlink:href=\"#DejaVuSans-30\"/>\n      </g>\n     </g>\n    </g>\n   </g>\n   <g id=\"patch_73\">\n    <path d=\"M 39.65 239.758125 \nL 39.65 179.358125 \n\" style=\"fill:none;stroke:#000000;stroke-linecap:square;stroke-linejoin:miter;stroke-width:0.8;\"/>\n   </g>\n   <g id=\"patch_74\">\n    <path d=\"M 185.215217 239.758125 \nL 185.215217 179.358125 \n\" style=\"fill:none;stroke:#000000;stroke-linecap:square;stroke-linejoin:miter;stroke-width:0.8;\"/>\n   </g>\n   <g id=\"patch_75\">\n    <path d=\"M 39.65 239.758125 \nL 185.215217 239.758125 \n\" style=\"fill:none;stroke:#000000;stroke-linecap:square;stroke-linejoin:miter;stroke-width:0.8;\"/>\n   </g>\n   <g id=\"patch_76\">\n    <path d=\"M 39.65 179.358125 \nL 185.215217 179.358125 \n\" style=\"fill:none;stroke:#000000;stroke-linecap:square;stroke-linejoin:miter;stroke-width:0.8;\"/>\n   </g>\n   <g id=\"text_34\">\n    <!-- ty -->\n    <g transform=\"translate(106.529171 173.358125)scale(0.12 -0.12)\">\n     <defs>\n      <path d=\"M 2059 -325 \nQ 1816 -950 1584 -1140 \nQ 1353 -1331 966 -1331 \nL 506 -1331 \nL 506 -850 \nL 844 -850 \nQ 1081 -850 1212 -737 \nQ 1344 -625 1503 -206 \nL 1606 56 \nL 191 3500 \nL 800 3500 \nL 1894 763 \nL 2988 3500 \nL 3597 3500 \nL 2059 -325 \nz\n\" id=\"DejaVuSans-79\" transform=\"scale(0.015625)\"/>\n     </defs>\n     <use xlink:href=\"#DejaVuSans-74\"/>\n     <use x=\"39.208984\" xlink:href=\"#DejaVuSans-79\"/>\n    </g>\n   </g>\n  </g>\n  <g id=\"axes_6\">\n   <g id=\"patch_77\">\n    <path d=\"M 228.884783 239.758125 \nL 374.45 239.758125 \nL 374.45 179.358125 \nL 228.884783 179.358125 \nz\n\" style=\"fill:#ffffff;\"/>\n   </g>\n   <g id=\"patch_78\">\n    <path clip-path=\"url(#pc7d2131fed)\" d=\"M 235.501383 239.758125 \nL 248.734585 239.758125 \nL 248.734585 239.530037 \nL 235.501383 239.530037 \nz\n\" style=\"fill:#1f77b4;\"/>\n   </g>\n   <g id=\"patch_79\">\n    <path clip-path=\"url(#pc7d2131fed)\" d=\"M 248.734585 239.758125 \nL 261.967787 239.758125 \nL 261.967787 238.937008 \nL 248.734585 238.937008 \nz\n\" style=\"fill:#1f77b4;\"/>\n   </g>\n   <g id=\"patch_80\">\n    <path clip-path=\"url(#pc7d2131fed)\" d=\"M 261.967787 239.758125 \nL 275.200988 239.758125 \nL 275.200988 232.459307 \nL 261.967787 232.459307 \nz\n\" style=\"fill:#1f77b4;\"/>\n   </g>\n   <g id=\"patch_81\">\n    <path clip-path=\"url(#pc7d2131fed)\" d=\"M 275.200988 239.758125 \nL 288.43419 239.758125 \nL 288.43419 202.3973 \nL 275.200988 202.3973 \nz\n\" style=\"fill:#1f77b4;\"/>\n   </g>\n   <g id=\"patch_82\">\n    <path clip-path=\"url(#pc7d2131fed)\" d=\"M 288.43419 239.758125 \nL 301.667391 239.758125 \nL 301.667391 182.234315 \nL 288.43419 182.234315 \nz\n\" style=\"fill:#1f77b4;\"/>\n   </g>\n   <g id=\"patch_83\">\n    <path clip-path=\"url(#pc7d2131fed)\" d=\"M 301.667391 239.758125 \nL 314.900593 239.758125 \nL 314.900593 223.974431 \nL 301.667391 223.974431 \nz\n\" style=\"fill:#1f77b4;\"/>\n   </g>\n   <g id=\"patch_84\">\n    <path clip-path=\"url(#pc7d2131fed)\" d=\"M 314.900593 239.758125 \nL 328.133794 239.758125 \nL 328.133794 238.343979 \nL 314.900593 238.343979 \nz\n\" style=\"fill:#1f77b4;\"/>\n   </g>\n   <g id=\"patch_85\">\n    <path clip-path=\"url(#pc7d2131fed)\" d=\"M 328.133794 239.758125 \nL 341.366996 239.758125 \nL 341.366996 239.484419 \nL 328.133794 239.484419 \nz\n\" style=\"fill:#1f77b4;\"/>\n   </g>\n   <g id=\"patch_86\">\n    <path clip-path=\"url(#pc7d2131fed)\" d=\"M 341.366996 239.758125 \nL 354.600198 239.758125 \nL 354.600198 239.758125 \nL 341.366996 239.758125 \nz\n\" style=\"fill:#1f77b4;\"/>\n   </g>\n   <g id=\"patch_87\">\n    <path clip-path=\"url(#pc7d2131fed)\" d=\"M 354.600198 239.758125 \nL 367.833399 239.758125 \nL 367.833399 239.712507 \nL 354.600198 239.712507 \nz\n\" style=\"fill:#1f77b4;\"/>\n   </g>\n   <g id=\"matplotlib.axis_11\">\n    <g id=\"xtick_18\">\n     <g id=\"line2d_59\">\n      <path clip-path=\"url(#pc7d2131fed)\" d=\"M 251.470384 239.758125 \nL 251.470384 179.358125 \n\" style=\"fill:none;stroke:#b0b0b0;stroke-linecap:square;stroke-width:0.8;\"/>\n     </g>\n     <g id=\"line2d_60\">\n      <g>\n       <use style=\"stroke:#000000;stroke-width:0.8;\" x=\"251.470384\" xlink:href=\"#mffc2dd8e62\" y=\"239.758125\"/>\n      </g>\n     </g>\n     <g id=\"text_35\">\n      <!-- 1.0 -->\n      <g transform=\"translate(243.518822 254.356562)scale(0.1 -0.1)\">\n       <use xlink:href=\"#DejaVuSans-31\"/>\n       <use x=\"63.623047\" xlink:href=\"#DejaVuSans-2e\"/>\n       <use x=\"95.410156\" xlink:href=\"#DejaVuSans-30\"/>\n      </g>\n     </g>\n    </g>\n    <g id=\"xtick_19\">\n     <g id=\"line2d_61\">\n      <path clip-path=\"url(#pc7d2131fed)\" d=\"M 292.773762 239.758125 \nL 292.773762 179.358125 \n\" style=\"fill:none;stroke:#b0b0b0;stroke-linecap:square;stroke-width:0.8;\"/>\n     </g>\n     <g id=\"line2d_62\">\n      <g>\n       <use style=\"stroke:#000000;stroke-width:0.8;\" x=\"292.773762\" xlink:href=\"#mffc2dd8e62\" y=\"239.758125\"/>\n      </g>\n     </g>\n     <g id=\"text_36\">\n      <!-- 1.5 -->\n      <g transform=\"translate(284.8222 254.356562)scale(0.1 -0.1)\">\n       <use xlink:href=\"#DejaVuSans-31\"/>\n       <use x=\"63.623047\" xlink:href=\"#DejaVuSans-2e\"/>\n       <use x=\"95.410156\" xlink:href=\"#DejaVuSans-35\"/>\n      </g>\n     </g>\n    </g>\n    <g id=\"xtick_20\">\n     <g id=\"line2d_63\">\n      <path clip-path=\"url(#pc7d2131fed)\" d=\"M 334.07714 239.758125 \nL 334.07714 179.358125 \n\" style=\"fill:none;stroke:#b0b0b0;stroke-linecap:square;stroke-width:0.8;\"/>\n     </g>\n     <g id=\"line2d_64\">\n      <g>\n       <use style=\"stroke:#000000;stroke-width:0.8;\" x=\"334.07714\" xlink:href=\"#mffc2dd8e62\" y=\"239.758125\"/>\n      </g>\n     </g>\n     <g id=\"text_37\">\n      <!-- 2.0 -->\n      <g transform=\"translate(326.125577 254.356562)scale(0.1 -0.1)\">\n       <use xlink:href=\"#DejaVuSans-32\"/>\n       <use x=\"63.623047\" xlink:href=\"#DejaVuSans-2e\"/>\n       <use x=\"95.410156\" xlink:href=\"#DejaVuSans-30\"/>\n      </g>\n     </g>\n    </g>\n    <g id=\"text_38\">\n     <!-- 1e6 -->\n     <g transform=\"translate(355.571875 267.034687)scale(0.1 -0.1)\">\n      <defs>\n       <path d=\"M 2113 2584 \nQ 1688 2584 1439 2293 \nQ 1191 2003 1191 1497 \nQ 1191 994 1439 701 \nQ 1688 409 2113 409 \nQ 2538 409 2786 701 \nQ 3034 994 3034 1497 \nQ 3034 2003 2786 2293 \nQ 2538 2584 2113 2584 \nz\nM 3366 4563 \nL 3366 3988 \nQ 3128 4100 2886 4159 \nQ 2644 4219 2406 4219 \nQ 1781 4219 1451 3797 \nQ 1122 3375 1075 2522 \nQ 1259 2794 1537 2939 \nQ 1816 3084 2150 3084 \nQ 2853 3084 3261 2657 \nQ 3669 2231 3669 1497 \nQ 3669 778 3244 343 \nQ 2819 -91 2113 -91 \nQ 1303 -91 875 529 \nQ 447 1150 447 2328 \nQ 447 3434 972 4092 \nQ 1497 4750 2381 4750 \nQ 2619 4750 2861 4703 \nQ 3103 4656 3366 4563 \nz\n\" id=\"DejaVuSans-36\" transform=\"scale(0.015625)\"/>\n      </defs>\n      <use xlink:href=\"#DejaVuSans-31\"/>\n      <use x=\"63.623047\" xlink:href=\"#DejaVuSans-65\"/>\n      <use x=\"125.146484\" xlink:href=\"#DejaVuSans-36\"/>\n     </g>\n    </g>\n   </g>\n   <g id=\"matplotlib.axis_12\">\n    <g id=\"ytick_13\">\n     <g id=\"line2d_65\">\n      <path clip-path=\"url(#pc7d2131fed)\" d=\"M 228.884783 239.758125 \nL 374.45 239.758125 \n\" style=\"fill:none;stroke:#b0b0b0;stroke-linecap:square;stroke-width:0.8;\"/>\n     </g>\n     <g id=\"line2d_66\">\n      <g>\n       <use style=\"stroke:#000000;stroke-width:0.8;\" x=\"228.884783\" xlink:href=\"#m12ee6b835d\" y=\"239.758125\"/>\n      </g>\n     </g>\n     <g id=\"text_39\">\n      <!-- 0 -->\n      <g transform=\"translate(215.522283 243.557344)scale(0.1 -0.1)\">\n       <use xlink:href=\"#DejaVuSans-30\"/>\n      </g>\n     </g>\n    </g>\n    <g id=\"ytick_14\">\n     <g id=\"line2d_67\">\n      <path clip-path=\"url(#pc7d2131fed)\" d=\"M 228.884783 216.949319 \nL 374.45 216.949319 \n\" style=\"fill:none;stroke:#b0b0b0;stroke-linecap:square;stroke-width:0.8;\"/>\n     </g>\n     <g id=\"line2d_68\">\n      <g>\n       <use style=\"stroke:#000000;stroke-width:0.8;\" x=\"228.884783\" xlink:href=\"#m12ee6b835d\" y=\"216.949319\"/>\n      </g>\n     </g>\n     <g id=\"text_40\">\n      <!-- 500 -->\n      <g transform=\"translate(202.797283 220.748537)scale(0.1 -0.1)\">\n       <use xlink:href=\"#DejaVuSans-35\"/>\n       <use x=\"63.623047\" xlink:href=\"#DejaVuSans-30\"/>\n       <use x=\"127.246094\" xlink:href=\"#DejaVuSans-30\"/>\n      </g>\n     </g>\n    </g>\n    <g id=\"ytick_15\">\n     <g id=\"line2d_69\">\n      <path clip-path=\"url(#pc7d2131fed)\" d=\"M 228.884783 194.140512 \nL 374.45 194.140512 \n\" style=\"fill:none;stroke:#b0b0b0;stroke-linecap:square;stroke-width:0.8;\"/>\n     </g>\n     <g id=\"line2d_70\">\n      <g>\n       <use style=\"stroke:#000000;stroke-width:0.8;\" x=\"228.884783\" xlink:href=\"#m12ee6b835d\" y=\"194.140512\"/>\n      </g>\n     </g>\n     <g id=\"text_41\">\n      <!-- 1000 -->\n      <g transform=\"translate(196.434783 197.939731)scale(0.1 -0.1)\">\n       <use xlink:href=\"#DejaVuSans-31\"/>\n       <use x=\"63.623047\" xlink:href=\"#DejaVuSans-30\"/>\n       <use x=\"127.246094\" xlink:href=\"#DejaVuSans-30\"/>\n       <use x=\"190.869141\" xlink:href=\"#DejaVuSans-30\"/>\n      </g>\n     </g>\n    </g>\n   </g>\n   <g id=\"patch_88\">\n    <path d=\"M 228.884783 239.758125 \nL 228.884783 179.358125 \n\" style=\"fill:none;stroke:#000000;stroke-linecap:square;stroke-linejoin:miter;stroke-width:0.8;\"/>\n   </g>\n   <g id=\"patch_89\">\n    <path d=\"M 374.45 239.758125 \nL 374.45 179.358125 \n\" style=\"fill:none;stroke:#000000;stroke-linecap:square;stroke-linejoin:miter;stroke-width:0.8;\"/>\n   </g>\n   <g id=\"patch_90\">\n    <path d=\"M 228.884783 239.758125 \nL 374.45 239.758125 \n\" style=\"fill:none;stroke:#000000;stroke-linecap:square;stroke-linejoin:miter;stroke-width:0.8;\"/>\n   </g>\n   <g id=\"patch_91\">\n    <path d=\"M 228.884783 179.358125 \nL 374.45 179.358125 \n\" style=\"fill:none;stroke:#000000;stroke-linecap:square;stroke-linejoin:miter;stroke-width:0.8;\"/>\n   </g>\n   <g id=\"text_42\">\n    <!-- tz -->\n    <g transform=\"translate(296.166141 173.358125)scale(0.12 -0.12)\">\n     <defs>\n      <path d=\"M 353 3500 \nL 3084 3500 \nL 3084 2975 \nL 922 459 \nL 3084 459 \nL 3084 0 \nL 275 0 \nL 275 525 \nL 2438 3041 \nL 353 3041 \nL 353 3500 \nz\n\" id=\"DejaVuSans-7a\" transform=\"scale(0.015625)\"/>\n     </defs>\n     <use xlink:href=\"#DejaVuSans-74\"/>\n     <use x=\"39.208984\" xlink:href=\"#DejaVuSans-7a\"/>\n    </g>\n   </g>\n  </g>\n </g>\n <defs>\n  <clipPath id=\"p4b6dcd62fc\">\n   <rect height=\"60.4\" width=\"145.565217\" x=\"39.65\" y=\"22.318125\"/>\n  </clipPath>\n  <clipPath id=\"p1da36cc89e\">\n   <rect height=\"60.4\" width=\"145.565217\" x=\"228.884783\" y=\"22.318125\"/>\n  </clipPath>\n  <clipPath id=\"p3d8bdbf13b\">\n   <rect height=\"60.4\" width=\"145.565217\" x=\"39.65\" y=\"100.838125\"/>\n  </clipPath>\n  <clipPath id=\"p9271981bdb\">\n   <rect height=\"60.4\" width=\"145.565217\" x=\"228.884783\" y=\"100.838125\"/>\n  </clipPath>\n  <clipPath id=\"p9b1d3de88e\">\n   <rect height=\"60.4\" width=\"145.565217\" x=\"39.65\" y=\"179.358125\"/>\n  </clipPath>\n  <clipPath id=\"pc7d2131fed\">\n   <rect height=\"60.4\" width=\"145.565217\" x=\"228.884783\" y=\"179.358125\"/>\n  </clipPath>\n </defs>\n</svg>\n",
      "image/png": "[encoded data removed]"
     },
     "metadata": {
      "needs_background": "light"
     }
    }
   ],
   "metadata": {}
  },
  {
   "cell_type": "code",
   "execution_count": null,
   "source": [],
   "outputs": [],
   "metadata": {}
  }
 ],
 "metadata": {
  "interpreter": {
   "hash": "b3381df2e75571f72e9c7e2f8887d75d3395961c13833c850a2317e87974f29b"
  },
  "kernelspec": {
   "name": "python3",
   "display_name": "Python 3.7.7 64-bit ('hothov31': conda)"
  },
  "language_info": {
   "codemirror_mode": {
    "name": "ipython",
    "version": 3
   },
   "file_extension": ".py",
   "mimetype": "text/x-python",
   "name": "python",
   "nbconvert_exporter": "python",
   "pygments_lexer": "ipython3",
   "version": "3.7.7"
  }
 },
 "nbformat": 4,
 "nbformat_minor": 4
}