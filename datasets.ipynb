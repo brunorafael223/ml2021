{
 "cells": [
  {
   "cell_type": "markdown",
   "metadata": {},
   "source": [
    "# Datasets\n",
    "---"
   ]
  },
  {
   "cell_type": "code",
   "execution_count": 1,
   "metadata": {},
   "outputs": [],
   "source": [
    "from datasets import LFW, UTKFace\n",
    "from ipywidgets import interact"
   ]
  },
  {
   "cell_type": "markdown",
   "metadata": {},
   "source": [
    "## LFW\n",
    "---"
   ]
  },
  {
   "cell_type": "code",
   "execution_count": 2,
   "metadata": {},
   "outputs": [
    {
     "data": {
      "application/vnd.jupyter.widget-view+json": {
       "model_id": "c94de3c791ea4403b6af071f405e1df6",
       "version_major": 2,
       "version_minor": 0
      },
      "text/plain": [
       "interactive(children=(IntSlider(value=5292, description='index', max=10585), Checkbox(value=False, description…"
      ]
     },
     "metadata": {},
     "output_type": "display_data"
    }
   ],
   "source": [
    "dataset = LFW(root=\"../datasets/LFW/\",is_train=True)\n",
    "w = interact(dataset.show, index=(0, len(dataset)-1))"
   ]
  },
  {
   "cell_type": "code",
   "execution_count": 3,
   "metadata": {},
   "outputs": [
    {
     "data": {
      "text/plain": [
       "{'image': <PIL.Image.Image image mode=RGB size=250x250 at 0x7FB633CABE50>,\n",
       " 'pose': array([-0.2089082 ,  0.41936618,  2.8917789 ]),\n",
       " 'rect': array([ 71.,  70., 109., 109.]),\n",
       " 'landmarks': array([[ 95.88442, 117.70264],\n",
       "        [112.50291, 116.0167 ],\n",
       "        [137.79193, 112.40399],\n",
       "        [156.81891, 110.71805],\n",
       "        [112.02122, 161.77778],\n",
       "        [146.94415, 154.7932 ],\n",
       "        [123.34107, 151.42133],\n",
       "        [126.71293, 169.72576],\n",
       "        [111.05783, 141.86063],\n",
       "        [136.58769, 137.93385]])}"
      ]
     },
     "execution_count": 3,
     "metadata": {},
     "output_type": "execute_result"
    }
   ],
   "source": [
    "dataset[0]"
   ]
  },
  {
   "cell_type": "markdown",
   "metadata": {},
   "source": [
    "## UTKFace\n",
    "---"
   ]
  },
  {
   "cell_type": "code",
   "execution_count": 4,
   "metadata": {},
   "outputs": [
    {
     "data": {
      "application/vnd.jupyter.widget-view+json": {
       "model_id": "d33b8738f97f4e198678be472bdf30d7",
       "version_major": 2,
       "version_minor": 0
      },
      "text/plain": [
       "interactive(children=(IntSlider(value=5922, description='index', max=11845), Output()), _dom_classes=('widget-…"
      ]
     },
     "metadata": {},
     "output_type": "display_data"
    }
   ],
   "source": [
    "dataset = UTKFace(is_train=True)\n",
    "w = interact(dataset.show, index=(0, len(dataset)-1))"
   ]
  },
  {
   "cell_type": "code",
   "execution_count": 5,
   "metadata": {},
   "outputs": [
    {
     "data": {
      "text/plain": [
       "{'image': <PIL.Image.Image image mode=RGB size=200x200 at 0x7FB634643310>,\n",
       " 'gender': 0,\n",
       " 'age': array([1.]),\n",
       " 'race': 0}"
      ]
     },
     "execution_count": 5,
     "metadata": {},
     "output_type": "execute_result"
    }
   ],
   "source": [
    "dataset[0]"
   ]
  }
 ],
 "metadata": {
  "interpreter": {
   "hash": "b3381df2e75571f72e9c7e2f8887d75d3395961c13833c850a2317e87974f29b"
  },
  "kernelspec": {
   "display_name": "Python [conda env:hothov31]",
   "language": "python",
   "name": "conda-env-hothov31-py"
  },
  "language_info": {
   "codemirror_mode": {
    "name": "ipython",
    "version": 3
   },
   "file_extension": ".py",
   "mimetype": "text/x-python",
   "name": "python",
   "nbconvert_exporter": "python",
   "pygments_lexer": "ipython3",
   "version": "3.7.7"
  }
 },
 "nbformat": 4,
 "nbformat_minor": 4
}
